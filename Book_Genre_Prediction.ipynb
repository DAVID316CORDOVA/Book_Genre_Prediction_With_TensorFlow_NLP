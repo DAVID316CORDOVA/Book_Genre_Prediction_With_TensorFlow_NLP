{
 "cells": [
  {
   "cell_type": "code",
   "execution_count": 1,
   "id": "18538ddc",
   "metadata": {},
   "outputs": [],
   "source": [
    "#Importing the libraries\n",
    "import pandas as pd\n",
    "import matplotlib.pyplot as plt\n",
    "import seaborn as sns\n",
    "import six\n",
    "import sys\n",
    "sys.modules['sklearn.externals.six'] = six\n",
    "import warnings\n",
    "warnings.filterwarnings(action=\"ignore\",category=FutureWarning)"
   ]
  },
  {
   "cell_type": "code",
   "execution_count": 18,
   "id": "65a33cb6",
   "metadata": {},
   "outputs": [],
   "source": [
    "pd.options.display.float_format=\"{:,.3f}\".format"
   ]
  },
  {
   "cell_type": "code",
   "execution_count": 3,
   "id": "312413c0",
   "metadata": {},
   "outputs": [
    {
     "data": {
      "text/html": [
       "<div>\n",
       "<style scoped>\n",
       "    .dataframe tbody tr th:only-of-type {\n",
       "        vertical-align: middle;\n",
       "    }\n",
       "\n",
       "    .dataframe tbody tr th {\n",
       "        vertical-align: top;\n",
       "    }\n",
       "\n",
       "    .dataframe thead th {\n",
       "        text-align: right;\n",
       "    }\n",
       "</style>\n",
       "<table border=\"1\" class=\"dataframe\">\n",
       "  <thead>\n",
       "    <tr style=\"text-align: right;\">\n",
       "      <th></th>\n",
       "      <th>genre</th>\n",
       "      <th>summary</th>\n",
       "    </tr>\n",
       "  </thead>\n",
       "  <tbody>\n",
       "    <tr>\n",
       "      <th>0</th>\n",
       "      <td>fantasy</td>\n",
       "      <td>Drowned Wednesday is the first Trustee among ...</td>\n",
       "    </tr>\n",
       "    <tr>\n",
       "      <th>1</th>\n",
       "      <td>fantasy</td>\n",
       "      <td>As the book opens, Jason awakens on a school ...</td>\n",
       "    </tr>\n",
       "    <tr>\n",
       "      <th>2</th>\n",
       "      <td>fantasy</td>\n",
       "      <td>Cugel is easily persuaded by the merchant Fia...</td>\n",
       "    </tr>\n",
       "    <tr>\n",
       "      <th>3</th>\n",
       "      <td>fantasy</td>\n",
       "      <td>The book opens with Herald-Mage Vanyel return...</td>\n",
       "    </tr>\n",
       "    <tr>\n",
       "      <th>4</th>\n",
       "      <td>fantasy</td>\n",
       "      <td>Taran and Gurgi have returned to Caer Dallben...</td>\n",
       "    </tr>\n",
       "  </tbody>\n",
       "</table>\n",
       "</div>"
      ],
      "text/plain": [
       "     genre                                            summary\n",
       "0  fantasy   Drowned Wednesday is the first Trustee among ...\n",
       "1  fantasy   As the book opens, Jason awakens on a school ...\n",
       "2  fantasy   Cugel is easily persuaded by the merchant Fia...\n",
       "3  fantasy   The book opens with Herald-Mage Vanyel return...\n",
       "4  fantasy   Taran and Gurgi have returned to Caer Dallben..."
      ]
     },
     "execution_count": 3,
     "metadata": {},
     "output_type": "execute_result"
    }
   ],
   "source": [
    "#Loading data\n",
    "df=pd.read_csv('data.csv').iloc[:,2:]\n",
    "df.head()"
   ]
  },
  {
   "cell_type": "code",
   "execution_count": 4,
   "id": "a23691bb",
   "metadata": {},
   "outputs": [
    {
     "name": "stdout",
     "output_type": "stream",
     "text": [
      "<class 'pandas.core.frame.DataFrame'>\n",
      "RangeIndex: 4657 entries, 0 to 4656\n",
      "Data columns (total 2 columns):\n",
      " #   Column   Non-Null Count  Dtype \n",
      "---  ------   --------------  ----- \n",
      " 0   genre    4657 non-null   object\n",
      " 1   summary  4657 non-null   object\n",
      "dtypes: object(2)\n",
      "memory usage: 72.9+ KB\n"
     ]
    }
   ],
   "source": [
    "df.info()"
   ]
  },
  {
   "cell_type": "code",
   "execution_count": 5,
   "id": "c0e43826",
   "metadata": {},
   "outputs": [
    {
     "data": {
      "image/png": "[encoded data removed]",
      "text/plain": [
       "<Figure size 640x480 with 1 Axes>"
      ]
     },
     "metadata": {},
     "output_type": "display_data"
    }
   ],
   "source": [
    "#Plotting the different kind of Genres\n",
    "df['genre'].value_counts().plot(kind='bar');"
   ]
  },
  {
   "cell_type": "markdown",
   "id": "71a6612a",
   "metadata": {},
   "source": [
    "## Creating an evaluation function for our model experiments"
   ]
  },
  {
   "cell_type": "code",
   "execution_count": 6,
   "id": "68e8483c",
   "metadata": {},
   "outputs": [],
   "source": [
    "#Function to evaluate: accuracy,precision,recall,f1-score\n",
    "from sklearn.metrics import accuracy_score,precision_recall_fscore_support\n",
    "\n",
    "def calculate_results(y_true,y_pred):\n",
    "  #Calculate model accuracy\n",
    "  model_accuracy=accuracy_score(y_true,y_pred)\n",
    "\n",
    "  #Calculate model precision,recall and f1-score using \"weighted average\"\n",
    "  model_precision,model_recall,model_f1,_=precision_recall_fscore_support(y_true,y_pred,average='weighted',zero_division=0)\n",
    "  model_results={'accuracy':model_accuracy.round(2)*100,\n",
    "                 'precision':model_precision.round(2)*100,\n",
    "                 \"recall\":model_recall.round(2)*100,\n",
    "                 \"f1\":model_f1.round(2)*100}\n",
    "              \n",
    "  return model_results"
   ]
  },
  {
   "cell_type": "markdown",
   "id": "8ba6ab01",
   "metadata": {},
   "source": [
    "## Defining train and test datasets"
   ]
  },
  {
   "cell_type": "code",
   "execution_count": 7,
   "id": "b46b0f74",
   "metadata": {},
   "outputs": [],
   "source": [
    "#Defining X and y\n",
    "X=df.drop(columns=[\"genre\"])\n",
    "y=df[[\"genre\"]]"
   ]
  },
  {
   "cell_type": "code",
   "execution_count": 8,
   "id": "04d85b77",
   "metadata": {},
   "outputs": [],
   "source": [
    "#Splitting the data in train and test\n",
    "from sklearn.model_selection import train_test_split\n",
    "X_train,X_test,y_train,y_test=train_test_split(X,y,test_size=0.3, stratify=y,random_state=42)"
   ]
  },
  {
   "cell_type": "markdown",
   "id": "c9616e1f",
   "metadata": {},
   "source": [
    "## Make numeric labels (ML models require numeric labels)"
   ]
  },
  {
   "cell_type": "code",
   "execution_count": 9,
   "id": "827b9999",
   "metadata": {},
   "outputs": [
    {
     "data": {
      "text/plain": [
       "array([[0., 0., 0., ..., 0., 1., 0.],\n",
       "       [0., 0., 0., ..., 1., 0., 0.],\n",
       "       [0., 1., 0., ..., 0., 0., 0.],\n",
       "       ...,\n",
       "       [0., 0., 0., ..., 0., 0., 0.],\n",
       "       [0., 1., 0., ..., 0., 0., 0.],\n",
       "       [0., 0., 0., ..., 0., 0., 0.]])"
      ]
     },
     "execution_count": 9,
     "metadata": {},
     "output_type": "execute_result"
    }
   ],
   "source": [
    "#One hot encode labels\n",
    "from sklearn.preprocessing import OneHotEncoder\n",
    "one_hot_encoder=OneHotEncoder()\n",
    "train_labels_one_hot=one_hot_encoder.fit_transform(y_train.to_numpy().reshape(-1,1)).toarray()\n",
    "test_labels_one_hot=one_hot_encoder.transform(y_test.to_numpy().reshape(-1,1)).toarray()\n",
    "\n",
    "#Check what one hot encoded labels look like\n",
    "train_labels_one_hot"
   ]
  },
  {
   "cell_type": "markdown",
   "id": "501aeced",
   "metadata": {},
   "source": [
    "## Label encode labels"
   ]
  },
  {
   "cell_type": "code",
   "execution_count": 10,
   "id": "bb249534",
   "metadata": {},
   "outputs": [
    {
     "data": {
      "text/plain": [
       "array([8, 7, 1, ..., 6, 1, 6])"
      ]
     },
     "execution_count": 10,
     "metadata": {},
     "output_type": "execute_result"
    }
   ],
   "source": [
    "#Extract labels (\"target\" columns) and encode them into integers\n",
    "from sklearn.preprocessing import LabelEncoder\n",
    "label_encoder=LabelEncoder()\n",
    "train_labels_encoded=label_encoder.fit_transform(y_train.to_numpy().ravel())\n",
    "test_labels_encoded=label_encoder.transform(y_test.to_numpy().ravel())\n",
    "\n",
    "#Check what training labels look like\n",
    "train_labels_encoded"
   ]
  },
  {
   "cell_type": "code",
   "execution_count": 11,
   "id": "23b508ec",
   "metadata": {},
   "outputs": [
    {
     "data": {
      "text/plain": [
       "(10,\n",
       " array(['crime', 'fantasy', 'history', 'horror', 'psychology', 'romance',\n",
       "        'science', 'sports', 'thriller', 'travel'], dtype=object))"
      ]
     },
     "execution_count": 11,
     "metadata": {},
     "output_type": "execute_result"
    }
   ],
   "source": [
    "#Get class names and number of classes from LabelEncoder instance\n",
    "num_classes=len(label_encoder.classes_)\n",
    "class_names=label_encoder.classes_\n",
    "num_classes,class_names"
   ]
  },
  {
   "cell_type": "markdown",
   "id": "80f711a0",
   "metadata": {},
   "source": [
    "# Starting a series of modelling experiments..."
   ]
  },
  {
   "cell_type": "markdown",
   "id": "69dd28cc",
   "metadata": {},
   "source": [
    "## Model 0: Testing the basic machine learning models, finding out the best and tuning it"
   ]
  },
  {
   "cell_type": "code",
   "execution_count": 19,
   "id": "5d0dbe6e",
   "metadata": {},
   "outputs": [],
   "source": [
    "#Importing the libraries\n",
    "from sklearn.preprocessing import StandardScaler\n",
    "from sklearn.model_selection import KFold,cross_val_score\n",
    "from sklearn.linear_model import LogisticRegression\n",
    "from sklearn.naive_bayes import MultinomialNB\n",
    "from sklearn.neighbors import KNeighborsClassifier\n",
    "from sklearn.tree import DecisionTreeClassifier\n",
    "\n",
    "#Ensemble\n",
    "from xgboost import XGBClassifier\n",
    "from catboost import CatBoostClassifier\n",
    "from lightgbm import LGBMClassifier\n",
    "from sklearn.ensemble import RandomForestClassifier,BaggingClassifier,ExtraTreesClassifier,AdaBoostClassifier,GradientBoostingClassifier\n"
   ]
  },
  {
   "cell_type": "code",
   "execution_count": 20,
   "id": "b1019960",
   "metadata": {},
   "outputs": [
    {
     "name": "stdout",
     "output_type": "stream",
     "text": [
      "Logistic Regression :61.68% (3.58%)\n",
      "MultinomialNB :35.10% (2.12%)\n",
      "KNN :47.84% (1.95%)\n",
      "Decision Tree :42.59% (3.06%)\n",
      "XGB Classifier :60.69% (2.14%)\n",
      "Cat Boost Classifier :55.26% (2.63%)\n",
      "LGBM Classifier :53.57% (2.60%)\n",
      "Random Forest :55.26% (3.00%)\n",
      "Bagging Class :50.14% (2.60%)\n",
      "Extra trees :59.28% (2.20%)\n",
      "Ada Boost :21.27% (4.55%)\n",
      "Gradient Boosting :60.57% (2.05%)\n"
     ]
    }
   ],
   "source": [
    "from sklearn.feature_extraction.text import TfidfVectorizer\n",
    "from sklearn.naive_bayes import MultinomialNB\n",
    "from sklearn.pipeline import Pipeline\n",
    "\n",
    "#Preparing the models\n",
    "models=[]\n",
    "models.append((\"Logistic Regression\",LogisticRegression(solver=\"lbfgs\",max_iter=10000,multi_class=\"multinomial\")))\n",
    "models.append((\"MultinomialNB\",MultinomialNB()))\n",
    "models.append((\"KNN\",KNeighborsClassifier()))\n",
    "models.append((\"Decision Tree\",DecisionTreeClassifier()))\n",
    "models.append((\"XGB Classifier\",XGBClassifier(objective=\"multi:softmax\")))\n",
    "models.append((\"Cat Boost Classifier\",CatBoostClassifier(n_estimators =100,learning_rate=0.1, max_depth=3, random_state=500,verbose=0)))\n",
    "models.append((\"LGBM Classifier\",LGBMClassifier(max_depth = 3, learning_rate = 0.1, n_estimators = 10, objective='multiclass', seed=500,verbose=-100,force_row_wise=True,silent = True)))\n",
    "models.append((\"Random Forest\",RandomForestClassifier()))\n",
    "models.append((\"Bagging Class\",BaggingClassifier()))\n",
    "models.append((\"Extra trees\",ExtraTreesClassifier()))\n",
    "models.append((\"Ada Boost\",AdaBoostClassifier()))\n",
    "models.append((\"Gradient Boosting\",GradientBoostingClassifier()))\n",
    "\n",
    "#Evaluating each model in turn\n",
    "results=[]\n",
    "names=[]\n",
    "scoring=\"accuracy\"\n",
    "\n",
    "for name, model in models:\n",
    "    kfold=KFold(n_splits=10,shuffle=True)\n",
    "    #Create a pipeline\n",
    "    model_0=Pipeline([\n",
    "    (\"tf-idf\",TfidfVectorizer()),\n",
    "    ('clf',model)\n",
    "    ])\n",
    "    cv_results=cross_val_score(model_0,X_train.values.ravel(),train_labels_encoded,cv=kfold,scoring=scoring)\n",
    "    results.append(cv_results)\n",
    "    names.append(name)\n",
    "    print(f\"{name} :{cv_results.mean()*100:,.2f}% ({cv_results.std()*100:.2f}%)\")"
   ]
  },
  {
   "cell_type": "code",
   "execution_count": 21,
   "id": "8c57a7b8",
   "metadata": {},
   "outputs": [
    {
     "data": {
      "image/png": "[encoded data removed]",
      "text/plain": [
       "<Figure size 640x480 with 1 Axes>"
      ]
     },
     "metadata": {},
     "output_type": "display_data"
    }
   ],
   "source": [
    "import matplotlib.pyplot as plt\n",
    "fig=plt.figure()\n",
    "fig.suptitle(\"Comparison of the different Algorithms\")\n",
    "ax=fig.add_subplot(111)\n",
    "plt.rcParams[\"figure.figsize\"]=[4,6]\n",
    "plt.boxplot(results)\n",
    "ax.set_xticklabels(names,rotation=\"vertical\")\n",
    "plt.show()"
   ]
  },
  {
   "cell_type": "code",
   "execution_count": 23,
   "id": "7e4595d0",
   "metadata": {},
   "outputs": [
    {
     "name": "stdout",
     "output_type": "stream",
     "text": [
      "Best : 0.611541 using the params {'logreg__C': 1.0}\n",
      "0.219696 (0.014014) with {'logreg__C': 0.001}\n",
      "0.290572 (0.017468) with {'logreg__C': 0.05357894736842105}\n",
      "0.369434 (0.020569) with {'logreg__C': 0.1061578947368421}\n",
      "0.427429 (0.016402) with {'logreg__C': 0.15873684210526315}\n",
      "0.465171 (0.017328) with {'logreg__C': 0.2113157894736842}\n",
      "0.490335 (0.017712) with {'logreg__C': 0.26389473684210524}\n",
      "0.509054 (0.016595) with {'logreg__C': 0.3164736842105263}\n",
      "0.528080 (0.015783) with {'logreg__C': 0.36905263157894735}\n",
      "0.544650 (0.013356) with {'logreg__C': 0.4216315789473684}\n",
      "0.556310 (0.014554) with {'logreg__C': 0.47421052631578947}\n",
      "0.567663 (0.013419) with {'logreg__C': 0.5267894736842105}\n",
      "0.573187 (0.012470) with {'logreg__C': 0.5793684210526315}\n",
      "0.580551 (0.013246) with {'logreg__C': 0.6319473684210526}\n",
      "0.588222 (0.013412) with {'logreg__C': 0.6845263157894736}\n",
      "0.592517 (0.010621) with {'logreg__C': 0.7371052631578947}\n",
      "0.596200 (0.010604) with {'logreg__C': 0.7896842105263158}\n",
      "0.601108 (0.009601) with {'logreg__C': 0.8422631578947368}\n",
      "0.605405 (0.012216) with {'logreg__C': 0.8948421052631579}\n",
      "0.609393 (0.009172) with {'logreg__C': 0.9474210526315789}\n",
      "0.611541 (0.008587) with {'logreg__C': 1.0}\n"
     ]
    }
   ],
   "source": [
    "#Fine Tuning the best model\n",
    "\n",
    "from sklearn.model_selection import GridSearchCV\n",
    "from sklearn.pipeline import Pipeline\n",
    "import numpy as np\n",
    "\n",
    "\n",
    "#Build the steps\n",
    "steps=[(\"tf-idf\",TfidfVectorizer()),('logreg',LogisticRegression(solver=\"lbfgs\",max_iter=10000,multi_class=\"multinomial\"))]\n",
    "\n",
    "\n",
    "pipeline=Pipeline(steps)\n",
    "\n",
    "#Create the parameter space\n",
    "parameters = {\n",
    "    'logreg__C': np.linspace(0.001,1,20)\n",
    "}\n",
    "\n",
    "\n",
    "kfold=KFold(n_splits=5,shuffle=True)\n",
    "\n",
    "grid_result=GridSearchCV(estimator=pipeline,param_grid=parameters,cv=kfold)\n",
    "\n",
    "grid_result.fit(X_train.values.ravel(),train_labels_encoded) \n",
    "\n",
    "#Summarize_results\n",
    "\n",
    "print(\"Best : %f using the params %s\" % (grid_result.best_score_ , grid_result.best_params_))\n",
    "\n",
    "means=grid_result.cv_results_[\"mean_test_score\"]\n",
    "stds=grid_result.cv_results_[\"std_test_score\"]\n",
    "params=grid_result.cv_results_[\"params\"]\n",
    "\n",
    "\n",
    "for mean,stdev,param in zip(means,stds,params):\n",
    "    \n",
    "  print(\"%f (%f) with %r\" % (mean,stdev,param))"
   ]
  },
  {
   "cell_type": "code",
   "execution_count": 24,
   "id": "743be9c8",
   "metadata": {},
   "outputs": [
    {
     "name": "stdout",
     "output_type": "stream",
     "text": [
      "Our baseline model achieves an accuracy of:64.02%\n"
     ]
    }
   ],
   "source": [
    "#Evaluating our best classic machine learning model\n",
    "baseline_score=grid_result.score(X_test.values.ravel(),test_labels_encoded)\n",
    "print(f\"Our baseline model achieves an accuracy of:{baseline_score*100:.2f}%\")"
   ]
  },
  {
   "cell_type": "code",
   "execution_count": 30,
   "id": "5f82f27b",
   "metadata": {},
   "outputs": [
    {
     "data": {
      "text/plain": [
       "array([8, 8, 8, 8, 2, 1, 1, 8, 8, 8])"
      ]
     },
     "execution_count": 30,
     "metadata": {},
     "output_type": "execute_result"
    }
   ],
   "source": [
    "#Making predictions\n",
    "baseline_preds=grid_result.predict(X_test.values.ravel())\n",
    "baseline_preds[:10]"
   ]
  },
  {
   "cell_type": "code",
   "execution_count": 33,
   "id": "4d710f27",
   "metadata": {},
   "outputs": [
    {
     "data": {
      "text/plain": [
       "{'accuracy': 64.0, 'precision': 65.0, 'recall': 64.0, 'f1': 61.0}"
      ]
     },
     "execution_count": 33,
     "metadata": {},
     "output_type": "execute_result"
    }
   ],
   "source": [
    "#Get baseline results\n",
    "\n",
    "baseline_results=calculate_results(test_labels_encoded,baseline_preds)\n",
    "\n",
    "baseline_results"
   ]
  },
  {
   "cell_type": "code",
   "execution_count": 34,
   "id": "2e669ee6",
   "metadata": {},
   "outputs": [],
   "source": [
    "#Saving the fine_tuned model\n",
    "from pickle import dump\n",
    "dump(grid_result,open(\"model_0.pkl\",\"wb\"))"
   ]
  },
  {
   "cell_type": "code",
   "execution_count": 190,
   "id": "70eaefb0",
   "metadata": {},
   "outputs": [],
   "source": [
    "#Loading the model\n",
    "import pickle\n",
    "loaded_model = pickle.load(open('model_0.pkl', 'rb'))"
   ]
  },
  {
   "cell_type": "code",
   "execution_count": 191,
   "id": "3589f9df",
   "metadata": {},
   "outputs": [
    {
     "data": {
      "text/plain": [
       "{'accuracy': 64.0, 'precision': 65.0, 'recall': 64.0, 'f1': 61.0}"
      ]
     },
     "execution_count": 191,
     "metadata": {},
     "output_type": "execute_result"
    }
   ],
   "source": [
    "#Making predictions\n",
    "\n",
    "baseline_preds=loaded_model.predict(X_test.values.ravel())\n",
    "\n",
    "#Get baseline results\n",
    "\n",
    "baseline_results=calculate_results(test_labels_encoded,baseline_preds)\n",
    "\n",
    "baseline_results"
   ]
  },
  {
   "cell_type": "markdown",
   "id": "ccc10bbe",
   "metadata": {},
   "source": [
    "## Model 1: Dense model using Sequential API + TF-IDF"
   ]
  },
  {
   "cell_type": "code",
   "execution_count": 56,
   "id": "325a3de7",
   "metadata": {},
   "outputs": [],
   "source": [
    "import tensorflow as tf\n",
    "from keras.layers import Dense\n",
    "from keras import Sequential\n",
    "from sklearn.feature_extraction.text import TfidfVectorizer"
   ]
  },
  {
   "cell_type": "code",
   "execution_count": 199,
   "id": "e0ceb57f",
   "metadata": {},
   "outputs": [
    {
     "name": "stdout",
     "output_type": "stream",
     "text": [
      "Epoch 1/3\n",
      "77/77 [==============================] - 20s 149ms/step - loss: 1.9556 - accuracy: 0.3163 - val_loss: 1.6090 - val_accuracy: 0.5583\n",
      "Epoch 2/3\n",
      "77/77 [==============================] - 11s 143ms/step - loss: 0.8563 - accuracy: 0.8245 - val_loss: 1.0746 - val_accuracy: 0.6564\n",
      "Epoch 3/3\n",
      "77/77 [==============================] - 11s 143ms/step - loss: 0.1713 - accuracy: 0.9804 - val_loss: 0.9504 - val_accuracy: 0.7104\n"
     ]
    },
    {
     "data": {
      "text/plain": [
       "<keras.callbacks.History at 0x1bf72830670>"
      ]
     },
     "execution_count": 199,
     "metadata": {},
     "output_type": "execute_result"
    }
   ],
   "source": [
    "tf=TfidfVectorizer()\n",
    "tf.fit(X_train.values.ravel())\n",
    "X_train_model_1=tf.transform(X_train.values.ravel()).toarray()\n",
    "X_test_model_1=tf.transform(X_test.values.ravel()).toarray()\n",
    "\n",
    "model_1=Sequential()\n",
    "model_1.add(Dense(256,activation='relu'))\n",
    "model_1.add(Dense(64,activation='relu'))\n",
    "model_1.add(Dense(num_classes,activation='softmax'))\n",
    "model_1.compile(loss='categorical_crossentropy',optimizer='adam',metrics='accuracy')\n",
    "model_1.fit(X_train_model_1,train_labels_one_hot,epochs=3,validation_split=0.25)"
   ]
  },
  {
   "cell_type": "code",
   "execution_count": 52,
   "id": "c385e1e1",
   "metadata": {},
   "outputs": [
    {
     "data": {
      "text/plain": [
       "[1.000740885734558, 0.6866952776908875]"
      ]
     },
     "execution_count": 52,
     "metadata": {},
     "output_type": "execute_result"
    }
   ],
   "source": [
    "#Evaluating our model\n",
    "model_1.evaluate(X_test_model_1,test_labels_one_hot,verbose=0)"
   ]
  },
  {
   "cell_type": "code",
   "execution_count": 58,
   "id": "d4851042",
   "metadata": {},
   "outputs": [
    {
     "name": "stdout",
     "output_type": "stream",
     "text": [
      "44/44 [==============================] - 7s 40ms/step\n"
     ]
    },
    {
     "data": {
      "text/plain": [
       "array([[0.02842021, 0.05309341, 0.00954471, 0.71444225, 0.00491354,\n",
       "        0.02241929, 0.04734169, 0.01482815, 0.09697691, 0.00801987]],\n",
       "      dtype=float32)"
      ]
     },
     "execution_count": 58,
     "metadata": {},
     "output_type": "execute_result"
    }
   ],
   "source": [
    "#Making predictions\n",
    "model_1_pred_probs=model_1.predict(X_test_model_1)\n",
    "model_1_pred_probs[:1]"
   ]
  },
  {
   "cell_type": "code",
   "execution_count": 59,
   "id": "960dee50",
   "metadata": {},
   "outputs": [
    {
     "data": {
      "text/plain": [
       "<tf.Tensor: shape=(1398,), dtype=int64, numpy=array([3, 0, 3, ..., 5, 3, 8], dtype=int64)>"
      ]
     },
     "execution_count": 59,
     "metadata": {},
     "output_type": "execute_result"
    }
   ],
   "source": [
    "#Convert pred probs to classes\n",
    "model_1_preds=tf.argmax(model_1_pred_probs,axis=1)\n",
    "model_1_preds"
   ]
  },
  {
   "cell_type": "code",
   "execution_count": 60,
   "id": "ed062ca0",
   "metadata": {},
   "outputs": [
    {
     "data": {
      "text/plain": [
       "{'accuracy': 69.0, 'precision': 72.0, 'recall': 69.0, 'f1': 69.0}"
      ]
     },
     "execution_count": 60,
     "metadata": {},
     "output_type": "execute_result"
    }
   ],
   "source": [
    "#Calculate model_1_results\n",
    "model_1_results=calculate_results(test_labels_encoded,\n",
    "                                  model_1_preds)\n",
    "model_1_results"
   ]
  },
  {
   "cell_type": "markdown",
   "id": "93a9d6b0",
   "metadata": {},
   "source": [
    "# Preparing our data (the text) for deeper Sequence Models"
   ]
  },
  {
   "cell_type": "code",
   "execution_count": 12,
   "id": "4c09febf",
   "metadata": {},
   "outputs": [],
   "source": [
    "import numpy as np\n",
    "import tensorflow as tf\n",
    "from tensorflow.keras import layers"
   ]
  },
  {
   "cell_type": "code",
   "execution_count": 17,
   "id": "80ebe556",
   "metadata": {},
   "outputs": [
    {
     "data": {
      "text/plain": [
       "353.33292420988033"
      ]
     },
     "execution_count": 17,
     "metadata": {},
     "output_type": "execute_result"
    }
   ],
   "source": [
    "#How long is each sentence on average?\n",
    "sent_lens=[len(sentence.split()) for sentence in X_train.values.ravel().tolist()]\n",
    "avg_sent_len=np.mean(sent_lens)\n",
    "avg_sent_len"
   ]
  },
  {
   "cell_type": "code",
   "execution_count": 19,
   "id": "125dd890",
   "metadata": {},
   "outputs": [
    {
     "data": {
      "image/png": "[encoded data removed]",
      "text/plain": [
       "<Figure size 640x480 with 1 Axes>"
      ]
     },
     "metadata": {},
     "output_type": "display_data"
    }
   ],
   "source": [
    "#What´s the distribution look like?\n",
    "import matplotlib.pyplot as plt\n",
    "plt.hist(sent_lens,bins=20);"
   ]
  },
  {
   "cell_type": "code",
   "execution_count": 20,
   "id": "9f3b5617",
   "metadata": {},
   "outputs": [
    {
     "data": {
      "text/plain": [
       "1145"
      ]
     },
     "execution_count": 20,
     "metadata": {},
     "output_type": "execute_result"
    }
   ],
   "source": [
    "#How long of a sentence length cover 95% of examples?\n",
    "output_seq_len=int(np.percentile(sent_lens,95))\n",
    "output_seq_len"
   ]
  },
  {
   "cell_type": "code",
   "execution_count": 21,
   "id": "e24121fd",
   "metadata": {},
   "outputs": [
    {
     "data": {
      "text/plain": [
       "5663"
      ]
     },
     "execution_count": 21,
     "metadata": {},
     "output_type": "execute_result"
    }
   ],
   "source": [
    "#Maximum sequence lenght in the training set\n",
    "max(sent_lens)"
   ]
  },
  {
   "cell_type": "markdown",
   "id": "582d026b",
   "metadata": {},
   "source": [
    "### Create a text vectorizer layer\n",
    "-Tokenization:straight mapping from token to number can be modelled but quickly gets to big).\n",
    "\n",
    "-Embedding:richer representation of relationships between tokens(can limit size + can be learned)"
   ]
  },
  {
   "cell_type": "code",
   "execution_count": 27,
   "id": "96bab709",
   "metadata": {},
   "outputs": [
    {
     "data": {
      "text/plain": [
       "45952"
      ]
     },
     "execution_count": 27,
     "metadata": {},
     "output_type": "execute_result"
    }
   ],
   "source": [
    "from sklearn.feature_extraction.text import CountVectorizer\n",
    "vectorizer = CountVectorizer()\n",
    "vectorizer.fit_transform(X_train.values.ravel())\n",
    "len(vectorizer.get_feature_names_out()) #vectorizer.get_feature_names_out()"
   ]
  },
  {
   "cell_type": "code",
   "execution_count": 28,
   "id": "5aaa6480",
   "metadata": {},
   "outputs": [],
   "source": [
    "#Create text vectorizer\n",
    "from tensorflow.keras.layers.experimental.preprocessing import TextVectorization\n",
    "\n",
    "text_vectorizer=TextVectorization(max_tokens=45952, # number of words in vocabulary\n",
    "                                  output_sequence_length=output_seq_len #desired output length of vectorized sequences \n",
    "                                  )"
   ]
  },
  {
   "cell_type": "code",
   "execution_count": 30,
   "id": "2cce47ac",
   "metadata": {},
   "outputs": [],
   "source": [
    "#Adapt text vectorizer to traning sentences\n",
    "text_vectorizer.adapt(X_train.values.ravel())"
   ]
  },
  {
   "cell_type": "code",
   "execution_count": 32,
   "id": "34f3def4",
   "metadata": {},
   "outputs": [
    {
     "name": "stdout",
     "output_type": "stream",
     "text": [
      "Text:\n",
      " In Odd We Trust serves as a prequel to the first Odd Thomas novel. The ghost of a young boy appears to Odd, and he embarks on a quest to bring justice to the boy's killer so that his ghost can move on. Odd's friend, the Chief of Police Wyatt Porter, shares some details of the case, and informs him that the boy's babysitter is the one that discovered the body. The babysitter turns out to be Sherry Sheldon, a childhood friend of Odd's girlfriend and soulmate, Stormy Llewellyn. Sherry relates that a stalker has been leaving her disturbing notes for several months, and believes this stalker may be the murderer. Odd and Stormy resolve to catch the stalker before he kills again. Odd asks the ghost of the little boy to help him find his killer, and Joey leads him to a street corner, where he sees a suspicious man. The man flees when Odd tries to address him. Odd gives chase, but loses his quarry when he trips over a lawn gnome. Four neighborhood children are believed to be targets, as they have each received a note from the killer. Chief Porter assigns police escorts to each of the houses, and Odd and Stormy decide to spend the night with Sherry at the house where she is babysitting a girl named Angelica. The policeman on stakeout at the house finds an empty car containing a mutilated mannequin, and from this Odd deduces that the killer is nearby, taunting them. He throws open the doors of a nearby van, and discovers the man he chased earlier. He and Odd trade veiled threats, but when Stormy shows up with a gun, the man drives off. Chief Porter traces the van's license plates to a man named Kyle Bernshaw, and gives Odd the resulting address. Odd and Stormy break into Bernshaw's house, to find giant piles of magazines (from which his mysterious notes have been cut and glued together), and a note to Odd, revealing that this was a trap. Odd turns to find himself cornered by a vicious dog, from which he is saved at the last minute by Joey's ghost. Odd and Stormy race back to the house where they left Sherry, only to find out that Angelica's parents have fired her and she has left. Odd realizes that Sherry, not one of the four children under police protection, was the target all along. The two borrow a car and, using Odd's psychic magnetism (an ability that draws him to a person if he concentrates on them while traveling), they locate Bernshaw in an abandoned slaughterhouse. Odd fights him, with limited success, until Stormy shoots him in the leg, and Odd is able to subdue him. They free Sherry from the trunk of Bernshaw's car. The killer is taken into custody, but refuses to confess, insisting that he will be given a chance to escape, as he has made a deal with the devil and everything he wants always comes to him. He threatens to reveal Odd's identity and abilities to the world, bringing a storm of media attention, one of the very things Odd fears most. Odd lies and pretends that he, too, has sold his soul to the devil for his powers, but just as he begins to make headway with taking Bernshaw into his confidence, a guard collapses and the killer is able to grab the guard's gun. He fires, but the bullet ricochets off a chair Odd is holding. The bullet kills Bernshaw. Angelica's parents re-hire Sherry, and the story ends with Odd and Stormy musing on the happy ending they have managed.\n",
      "\n",
      "Length of text:608\n",
      "\n",
      "Vectorized text: [[   7 1535  207 ...    0    0    0]]\n"
     ]
    }
   ],
   "source": [
    "#Test our text vectorize on random sentences\n",
    "import random\n",
    "target_sentence=random.choice(X_train.values.ravel())\n",
    "print(f\"Text:\\n{target_sentence}\")\n",
    "print(f\"\\nLength of text:{len(target_sentence.split())}\")\n",
    "print(f\"\\nVectorized text: {text_vectorizer([target_sentence])}\")"
   ]
  },
  {
   "cell_type": "code",
   "execution_count": 33,
   "id": "96686fd5",
   "metadata": {},
   "outputs": [
    {
     "name": "stdout",
     "output_type": "stream",
     "text": [
      "Number of words in vocab:45952\n",
      "Most common words in vocab:['', '[UNK]', 'the', 'to', 'and']\n",
      "Least common words in vocab:['hosea', 'hos', 'horwood', 'horwitzer', 'horthy']\n"
     ]
    }
   ],
   "source": [
    "#How many words in our training vocabulary\n",
    "df_book_genre_vocab=text_vectorizer.get_vocabulary()\n",
    "print(f\"Number of words in vocab:{len(df_book_genre_vocab)}\")\n",
    "print(f\"Most common words in vocab:{df_book_genre_vocab[:5]}\")\n",
    "print(f\"Least common words in vocab:{df_book_genre_vocab[-5:]}\")"
   ]
  },
  {
   "cell_type": "code",
   "execution_count": 34,
   "id": "6aca75ad",
   "metadata": {},
   "outputs": [
    {
     "data": {
      "text/plain": [
       "{'name': 'text_vectorization',\n",
       " 'trainable': True,\n",
       " 'batch_input_shape': (None, None),\n",
       " 'dtype': 'string',\n",
       " 'max_tokens': 45952,\n",
       " 'standardize': 'lower_and_strip_punctuation',\n",
       " 'split': 'whitespace',\n",
       " 'ngrams': None,\n",
       " 'output_mode': 'int',\n",
       " 'output_sequence_length': 1145,\n",
       " 'pad_to_max_tokens': False,\n",
       " 'sparse': False,\n",
       " 'ragged': False,\n",
       " 'vocabulary': None,\n",
       " 'idf_weights': None}"
      ]
     },
     "execution_count": 34,
     "metadata": {},
     "output_type": "execute_result"
    }
   ],
   "source": [
    "#Get the config of our text vectorizer\n",
    "text_vectorizer.get_config()"
   ]
  },
  {
   "cell_type": "markdown",
   "id": "2d2030ca",
   "metadata": {},
   "source": [
    "### Create custom text embedding"
   ]
  },
  {
   "cell_type": "code",
   "execution_count": 62,
   "id": "0c9b66be",
   "metadata": {},
   "outputs": [],
   "source": [
    "#Create token embedding layer\n",
    "token_embed=layers.Embedding(input_dim=len(df_book_genre_vocab), #length of vocabulary\n",
    "                             output_dim=128, #Note:different embedding sizes result in drastically different parameters to train\n",
    "                             mask_zero=True, #use masking to handle variable sequence lengths (save space),\n",
    "                             name='token_embedding')"
   ]
  },
  {
   "cell_type": "code",
   "execution_count": 63,
   "id": "f0bce42a",
   "metadata": {},
   "outputs": [
    {
     "name": "stdout",
     "output_type": "stream",
     "text": [
      "Sentence before vectorization:\n",
      "  In Odd We Trust serves as a prequel to the first Odd Thomas novel. The ghost of a young boy appears to Odd, and he embarks on a quest to bring justice to the boy's killer so that his ghost can move on. Odd's friend, the Chief of Police Wyatt Porter, shares some details of the case, and informs him that the boy's babysitter is the one that discovered the body. The babysitter turns out to be Sherry Sheldon, a childhood friend of Odd's girlfriend and soulmate, Stormy Llewellyn. Sherry relates that a stalker has been leaving her disturbing notes for several months, and believes this stalker may be the murderer. Odd and Stormy resolve to catch the stalker before he kills again. Odd asks the ghost of the little boy to help him find his killer, and Joey leads him to a street corner, where he sees a suspicious man. The man flees when Odd tries to address him. Odd gives chase, but loses his quarry when he trips over a lawn gnome. Four neighborhood children are believed to be targets, as they have each received a note from the killer. Chief Porter assigns police escorts to each of the houses, and Odd and Stormy decide to spend the night with Sherry at the house where she is babysitting a girl named Angelica. The policeman on stakeout at the house finds an empty car containing a mutilated mannequin, and from this Odd deduces that the killer is nearby, taunting them. He throws open the doors of a nearby van, and discovers the man he chased earlier. He and Odd trade veiled threats, but when Stormy shows up with a gun, the man drives off. Chief Porter traces the van's license plates to a man named Kyle Bernshaw, and gives Odd the resulting address. Odd and Stormy break into Bernshaw's house, to find giant piles of magazines (from which his mysterious notes have been cut and glued together), and a note to Odd, revealing that this was a trap. Odd turns to find himself cornered by a vicious dog, from which he is saved at the last minute by Joey's ghost. Odd and Stormy race back to the house where they left Sherry, only to find out that Angelica's parents have fired her and she has left. Odd realizes that Sherry, not one of the four children under police protection, was the target all along. The two borrow a car and, using Odd's psychic magnetism (an ability that draws him to a person if he concentrates on them while traveling), they locate Bernshaw in an abandoned slaughterhouse. Odd fights him, with limited success, until Stormy shoots him in the leg, and Odd is able to subdue him. They free Sherry from the trunk of Bernshaw's car. The killer is taken into custody, but refuses to confess, insisting that he will be given a chance to escape, as he has made a deal with the devil and everything he wants always comes to him. He threatens to reveal Odd's identity and abilities to the world, bringing a storm of media attention, one of the very things Odd fears most. Odd lies and pretends that he, too, has sold his soul to the devil for his powers, but just as he begins to make headway with taking Bernshaw into his confidence, a guard collapses and the killer is able to grab the guard's gun. He fires, but the bullet ricochets off a chair Odd is holding. The bullet kills Bernshaw. Angelica's parents re-hire Sherry, and the story ends with Odd and Stormy musing on the happy ending they have managed.\n",
      "\n",
      "Sentence after vectorization (before embedding):\n",
      " [[   7 1535  207 ...    0    0    0]]\n",
      "\n",
      "Sentence after embedding:\n",
      " [[[ 0.01239023 -0.00915961 -0.04979236 ... -0.01571348 -0.01411689\n",
      "    0.01018351]\n",
      "  [ 0.02120792  0.02917032 -0.00368766 ... -0.02319654 -0.02548026\n",
      "    0.02301105]\n",
      "  [ 0.00676091 -0.01489524 -0.02390558 ...  0.00672315  0.00923288\n",
      "   -0.04768603]\n",
      "  ...\n",
      "  [ 0.04905595 -0.03873525 -0.03300675 ...  0.04651307  0.04021345\n",
      "    0.01644686]\n",
      "  [ 0.04905595 -0.03873525 -0.03300675 ...  0.04651307  0.04021345\n",
      "    0.01644686]\n",
      "  [ 0.04905595 -0.03873525 -0.03300675 ...  0.04651307  0.04021345\n",
      "    0.01644686]]]\n",
      "\n",
      "Embedded sentence shape: (1, 1145, 128)\n"
     ]
    }
   ],
   "source": [
    "#Show example embedding\n",
    "print(f\"Sentence before vectorization:\\n {target_sentence}\\n\")\n",
    "vectorized_sentence=text_vectorizer([target_sentence])\n",
    "print(f\"Sentence after vectorization (before embedding):\\n {vectorized_sentence}\\n\")\n",
    "embedded_sentence=token_embed(vectorized_sentence)\n",
    "print(f\"Sentence after embedding:\\n {embedded_sentence}\\n\")\n",
    "print(f\"Embedded sentence shape: {embedded_sentence.shape}\")"
   ]
  },
  {
   "cell_type": "markdown",
   "id": "1b7332c4",
   "metadata": {},
   "source": [
    "## Creating datasets (making sure our datasets loads as fast as possible)"
   ]
  },
  {
   "cell_type": "code",
   "execution_count": 64,
   "id": "ccbc4d96",
   "metadata": {},
   "outputs": [
    {
     "data": {
      "text/plain": [
       "<TensorSliceDataset element_spec=(TensorSpec(shape=(), dtype=tf.string, name=None), TensorSpec(shape=(10,), dtype=tf.float64, name=None))>"
      ]
     },
     "execution_count": 64,
     "metadata": {},
     "output_type": "execute_result"
    }
   ],
   "source": [
    "#Turn our data into TensorFlow Datasets\n",
    "train_dataset=tf.data.Dataset.from_tensor_slices((X_train.values.ravel(),train_labels_one_hot))\n",
    "test_dataset=tf.data.Dataset.from_tensor_slices((X_test.values.ravel(),test_labels_one_hot))\n",
    "\n",
    "train_dataset"
   ]
  },
  {
   "cell_type": "code",
   "execution_count": 65,
   "id": "21624911",
   "metadata": {},
   "outputs": [
    {
     "data": {
      "text/plain": [
       "<PrefetchDataset element_spec=(TensorSpec(shape=(None,), dtype=tf.string, name=None), TensorSpec(shape=(None, 10), dtype=tf.float64, name=None))>"
      ]
     },
     "execution_count": 65,
     "metadata": {},
     "output_type": "execute_result"
    }
   ],
   "source": [
    "#Take the TensorSliceDataset's and turn them into prefected datasets\n",
    "train_dataset=train_dataset.batch(32).prefetch(tf.data.AUTOTUNE)\n",
    "test_dataset=test_dataset.batch(32).prefetch(tf.data.AUTOTUNE)\n",
    "\n",
    "train_dataset"
   ]
  },
  {
   "cell_type": "markdown",
   "id": "c5eef9bf",
   "metadata": {},
   "source": [
    "## Model 2 : Conv1D with token embeddings"
   ]
  },
  {
   "cell_type": "code",
   "execution_count": 67,
   "id": "be470cc9",
   "metadata": {},
   "outputs": [],
   "source": [
    "#Create 1D conv model to process sequences\n",
    "inputs=layers.Input(shape=(1,),dtype=tf.string)\n",
    "text_vectors=text_vectorizer(inputs) #vectorize text inputs\n",
    "token_embeddings=token_embed(text_vectors) #create embedding\n",
    "x=layers.Conv1D(64,kernel_size=5,padding='same',activation=\"relu\")(token_embeddings)\n",
    "x=layers.GlobalAveragePooling1D()(x) #condense he outputs of our feature vector from conv layer\n",
    "outputs=layers.Dense(num_classes,activation='softmax')(x)\n",
    "model_2=tf.keras.Model(inputs,outputs)\n",
    "\n",
    "#Compile\n",
    "model_2.compile(loss='categorical_crossentropy',\n",
    "                optimizer=tf.keras.optimizers.Adam(),\n",
    "                metrics=['accuracy'])"
   ]
  },
  {
   "cell_type": "code",
   "execution_count": 68,
   "id": "a2eeeb9a",
   "metadata": {},
   "outputs": [
    {
     "name": "stdout",
     "output_type": "stream",
     "text": [
      "Model: \"model_1\"\n",
      "_________________________________________________________________\n",
      " Layer (type)                Output Shape              Param #   \n",
      "=================================================================\n",
      " input_2 (InputLayer)        [(None, 1)]               0         \n",
      "                                                                 \n",
      " text_vectorization (TextVec  (None, 1145)             0         \n",
      " torization)                                                     \n",
      "                                                                 \n",
      " token_embedding (Embedding)  (None, 1145, 128)        5881856   \n",
      "                                                                 \n",
      " conv1d_1 (Conv1D)           (None, 1145, 64)          41024     \n",
      "                                                                 \n",
      " global_average_pooling1d_1   (None, 64)               0         \n",
      " (GlobalAveragePooling1D)                                        \n",
      "                                                                 \n",
      " dense_16 (Dense)            (None, 10)                650       \n",
      "                                                                 \n",
      "=================================================================\n",
      "Total params: 5,923,530\n",
      "Trainable params: 5,923,530\n",
      "Non-trainable params: 0\n",
      "_________________________________________________________________\n"
     ]
    }
   ],
   "source": [
    "model_2.summary()"
   ]
  },
  {
   "cell_type": "code",
   "execution_count": 72,
   "id": "1e834ccf",
   "metadata": {},
   "outputs": [
    {
     "name": "stdout",
     "output_type": "stream",
     "text": [
      "Epoch 1/3\n",
      "10/10 [==============================] - 5s 153ms/step - loss: 2.1155 - accuracy: 0.2250 - val_loss: 2.0340 - val_accuracy: 0.2188\n",
      "Epoch 2/3\n",
      "10/10 [==============================] - 2s 154ms/step - loss: 2.0690 - accuracy: 0.2000 - val_loss: 1.9858 - val_accuracy: 0.2188\n",
      "Epoch 3/3\n",
      "10/10 [==============================] - 2s 152ms/step - loss: 1.9964 - accuracy: 0.2594 - val_loss: 1.9806 - val_accuracy: 0.2188\n"
     ]
    }
   ],
   "source": [
    "#Fit the model\n",
    "history_model_2=model_2.fit(train_dataset,\n",
    "                            steps_per_epoch=int(0.1*len(train_dataset)),\n",
    "                            epochs=3,\n",
    "                            validation_data=test_dataset,\n",
    "                            validation_steps=int(0.1*len(test_dataset))) #only validate on 10% of the batches"
   ]
  },
  {
   "cell_type": "code",
   "execution_count": 73,
   "id": "26e5fec3",
   "metadata": {},
   "outputs": [
    {
     "data": {
      "text/plain": [
       "[2.030951976776123, 0.22460657358169556]"
      ]
     },
     "execution_count": 73,
     "metadata": {},
     "output_type": "execute_result"
    }
   ],
   "source": [
    "#Evaluate on the whole validation dataset\n",
    "model_2.evaluate(test_dataset,verbose=0)"
   ]
  },
  {
   "cell_type": "code",
   "execution_count": 75,
   "id": "11880013",
   "metadata": {},
   "outputs": [
    {
     "name": "stdout",
     "output_type": "stream",
     "text": [
      "44/44 [==============================] - 5s 39ms/step\n"
     ]
    }
   ],
   "source": [
    "#Make predictions (our model predicts prediction probability for each class)\n",
    "model_2_pred_probs=model_2.predict(test_dataset)"
   ]
  },
  {
   "cell_type": "code",
   "execution_count": 76,
   "id": "847f0444",
   "metadata": {},
   "outputs": [
    {
     "data": {
      "text/plain": [
       "<tf.Tensor: shape=(1398,), dtype=int64, numpy=array([8, 8, 8, ..., 8, 8, 8], dtype=int64)>"
      ]
     },
     "execution_count": 76,
     "metadata": {},
     "output_type": "execute_result"
    }
   ],
   "source": [
    "#Convert pred probs to classes\n",
    "model_2_preds=tf.argmax(model_2_pred_probs,axis=1)\n",
    "model_2_preds"
   ]
  },
  {
   "cell_type": "code",
   "execution_count": 96,
   "id": "44cd816b",
   "metadata": {},
   "outputs": [
    {
     "data": {
      "text/plain": [
       "{'accuracy': 22.0, 'precision': 18.0, 'recall': 22.0, 'f1': 9.0}"
      ]
     },
     "execution_count": 96,
     "metadata": {},
     "output_type": "execute_result"
    }
   ],
   "source": [
    "#Calculate model_2_results\n",
    "model_2_results=calculate_results(test_labels_encoded,\n",
    "                                  model_2_preds)\n",
    "model_2_results"
   ]
  },
  {
   "cell_type": "markdown",
   "id": "a6984968",
   "metadata": {},
   "source": [
    "# Recurrent Neural Networks (RNN's)"
   ]
  },
  {
   "cell_type": "markdown",
   "id": "ae83e721",
   "metadata": {},
   "source": [
    "## Model 3: LSTM"
   ]
  },
  {
   "cell_type": "code",
   "execution_count": 115,
   "id": "cd11b8d6",
   "metadata": {},
   "outputs": [],
   "source": [
    "#Create an LSTM model\n",
    "from tensorflow.keras import layers\n",
    "inputs=layers.Input(shape=(1,) ,dtype='string')\n",
    "x=text_vectorizer(inputs)\n",
    "x=token_embed(x)\n",
    "x=layers.LSTM(64,return_sequences=True)(x) #When you are stacking RNN cells together,you need to set return_sequences=True\n",
    "x=layers.LSTM(64)(x)\n",
    "x=layers.Dense(64,activation='relu')(x)\n",
    "outputs=layers.Dense(num_classes,activation='softmax')(x)\n",
    "model_3=tf.keras.Model(inputs,outputs,name='model_3_LSTM')"
   ]
  },
  {
   "cell_type": "code",
   "execution_count": 116,
   "id": "78280c9c",
   "metadata": {},
   "outputs": [
    {
     "name": "stdout",
     "output_type": "stream",
     "text": [
      "Model: \"model_3_LSTM\"\n",
      "_________________________________________________________________\n",
      " Layer (type)                Output Shape              Param #   \n",
      "=================================================================\n",
      " input_22 (InputLayer)       [(None, 1)]               0         \n",
      "                                                                 \n",
      " text_vectorization (TextVec  (None, 1145)             0         \n",
      " torization)                                                     \n",
      "                                                                 \n",
      " token_embedding (Embedding)  (None, 1145, 128)        5881856   \n",
      "                                                                 \n",
      " lstm_8 (LSTM)               (None, 1145, 64)          49408     \n",
      "                                                                 \n",
      " lstm_9 (LSTM)               (None, 64)                33024     \n",
      "                                                                 \n",
      " dense_41 (Dense)            (None, 64)                4160      \n",
      "                                                                 \n",
      " dense_42 (Dense)            (None, 10)                650       \n",
      "                                                                 \n",
      "=================================================================\n",
      "Total params: 5,969,098\n",
      "Trainable params: 5,969,098\n",
      "Non-trainable params: 0\n",
      "_________________________________________________________________\n"
     ]
    }
   ],
   "source": [
    "#Get a summary\n",
    "model_3.summary()"
   ]
  },
  {
   "cell_type": "code",
   "execution_count": 117,
   "id": "9e6c86c0",
   "metadata": {},
   "outputs": [
    {
     "name": "stdout",
     "output_type": "stream",
     "text": [
      "Epoch 1/3\n",
      "10/10 [==============================] - 63s 4s/step - loss: 2.2626 - accuracy: 0.1906 - val_loss: 2.1300 - val_accuracy: 0.2188\n",
      "Epoch 2/3\n",
      "10/10 [==============================] - 41s 4s/step - loss: 2.0955 - accuracy: 0.2031 - val_loss: 1.9940 - val_accuracy: 0.1641\n",
      "Epoch 3/3\n",
      "10/10 [==============================] - 40s 4s/step - loss: 2.0044 - accuracy: 0.1813 - val_loss: 1.9962 - val_accuracy: 0.2188\n"
     ]
    }
   ],
   "source": [
    "#Compile the model\n",
    "model_3.compile(loss='categorical_crossentropy',optimizer='adam',metrics='accuracy')\n",
    "\n",
    "#Fit model_3 to the data\n",
    "history_model_3=model_3.fit(train_dataset,\n",
    "                            epochs=3,\n",
    "                            steps_per_epoch=int(0.1*len(train_dataset)),\n",
    "                            validation_data=test_dataset,\n",
    "                            validation_steps=int(0.1*len(test_dataset)))"
   ]
  },
  {
   "cell_type": "code",
   "execution_count": 118,
   "id": "ec16f349",
   "metadata": {},
   "outputs": [
    {
     "name": "stdout",
     "output_type": "stream",
     "text": [
      "44/44 [==============================] - 52s 1s/step - loss: 2.0360 - accuracy: 0.2196\n"
     ]
    },
    {
     "data": {
      "text/plain": [
       "[2.0360045433044434, 0.2195994257926941]"
      ]
     },
     "execution_count": 118,
     "metadata": {},
     "output_type": "execute_result"
    }
   ],
   "source": [
    "#Evaluate on the whole test dataset\n",
    "model_3.evaluate(test_dataset)"
   ]
  },
  {
   "cell_type": "code",
   "execution_count": 94,
   "id": "a858e672",
   "metadata": {},
   "outputs": [
    {
     "name": "stdout",
     "output_type": "stream",
     "text": [
      "44/44 [==============================] - 38s 644ms/step\n"
     ]
    }
   ],
   "source": [
    "#Make predictions (our model predicts prediction probability for each class)\n",
    "model_3_pred_probs=model_3.predict(test_dataset)"
   ]
  },
  {
   "cell_type": "code",
   "execution_count": 95,
   "id": "7ae41f0b",
   "metadata": {},
   "outputs": [
    {
     "data": {
      "text/plain": [
       "<tf.Tensor: shape=(1398,), dtype=int64, numpy=array([8, 8, 8, ..., 8, 8, 8], dtype=int64)>"
      ]
     },
     "execution_count": 95,
     "metadata": {},
     "output_type": "execute_result"
    }
   ],
   "source": [
    "#Convert pred probs to classes\n",
    "model_3_preds=tf.argmax(model_3_pred_probs,axis=1)\n",
    "model_3_preds"
   ]
  },
  {
   "cell_type": "code",
   "execution_count": 97,
   "id": "f0e39a0f",
   "metadata": {},
   "outputs": [
    {
     "data": {
      "text/plain": [
       "{'accuracy': 22.0, 'precision': 5.0, 'recall': 22.0, 'f1': 8.0}"
      ]
     },
     "execution_count": 97,
     "metadata": {},
     "output_type": "execute_result"
    }
   ],
   "source": [
    "#Calculate model_3_results\n",
    "model_3_results=calculate_results(test_labels_encoded,\n",
    "                                  model_3_preds)\n",
    "model_3_results"
   ]
  },
  {
   "cell_type": "markdown",
   "id": "f15fa675",
   "metadata": {},
   "source": [
    "## Model 4 : GRU"
   ]
  },
  {
   "cell_type": "code",
   "execution_count": 111,
   "id": "f898f54d",
   "metadata": {},
   "outputs": [],
   "source": [
    "#Build an RNN using the GRU cell\n",
    "from tensorflow.keras import layers\n",
    "inputs=layers.Input(shape=(1,) , dtype=tf.string)\n",
    "x=text_vectorizer(inputs)\n",
    "x=token_embed(x)\n",
    "x=layers.GRU(128,return_sequences=True)(x)\n",
    "x=layers.GRU(64,return_sequences=True)(x)\n",
    "x=layers.Dense(32,activation='relu')(x)\n",
    "x=layers.GlobalAveragePooling1D()(x)\n",
    "outputs=layers.Dense(num_classes,activation='softmax')(x)\n",
    "model_4=tf.keras.Model(inputs,outputs,name='model_4_GRU')"
   ]
  },
  {
   "cell_type": "code",
   "execution_count": 112,
   "id": "d7ada3e3",
   "metadata": {},
   "outputs": [
    {
     "name": "stdout",
     "output_type": "stream",
     "text": [
      "Model: \"model_4_GRU\"\n",
      "_________________________________________________________________\n",
      " Layer (type)                Output Shape              Param #   \n",
      "=================================================================\n",
      " input_21 (InputLayer)       [(None, 1)]               0         \n",
      "                                                                 \n",
      " text_vectorization (TextVec  (None, 1145)             0         \n",
      " torization)                                                     \n",
      "                                                                 \n",
      " token_embedding (Embedding)  (None, 1145, 128)        5881856   \n",
      "                                                                 \n",
      " gru_17 (GRU)                (None, 1145, 128)         99072     \n",
      "                                                                 \n",
      " gru_18 (GRU)                (None, 1145, 64)          37248     \n",
      "                                                                 \n",
      " dense_39 (Dense)            (None, 1145, 32)          2080      \n",
      "                                                                 \n",
      " global_average_pooling1d_6   (None, 32)               0         \n",
      " (GlobalAveragePooling1D)                                        \n",
      "                                                                 \n",
      " dense_40 (Dense)            (None, 10)                330       \n",
      "                                                                 \n",
      "=================================================================\n",
      "Total params: 6,020,586\n",
      "Trainable params: 6,020,586\n",
      "Non-trainable params: 0\n",
      "_________________________________________________________________\n"
     ]
    }
   ],
   "source": [
    "model_4.summary()"
   ]
  },
  {
   "cell_type": "code",
   "execution_count": 113,
   "id": "b593c392",
   "metadata": {},
   "outputs": [
    {
     "name": "stdout",
     "output_type": "stream",
     "text": [
      "Epoch 1/3\n",
      "10/10 [==============================] - 61s 4s/step - loss: 2.2360 - accuracy: 0.2094 - val_loss: 2.1109 - val_accuracy: 0.2188\n",
      "Epoch 2/3\n",
      "10/10 [==============================] - 33s 3s/step - loss: 2.1150 - accuracy: 0.2000 - val_loss: 2.0379 - val_accuracy: 0.2188\n",
      "Epoch 3/3\n",
      "10/10 [==============================] - 33s 3s/step - loss: 2.0075 - accuracy: 0.2594 - val_loss: 2.0328 - val_accuracy: 0.2188\n"
     ]
    }
   ],
   "source": [
    "#Compile the model\n",
    "model_4.compile(loss='categorical_crossentropy',optimizer='adam',metrics='accuracy')\n",
    "\n",
    "#Fit model_4 to the data\n",
    "history_model_4=model_4.fit(train_dataset,\n",
    "                            epochs=3,\n",
    "                            steps_per_epoch=int(0.1*len(train_dataset)),\n",
    "                            validation_data=test_dataset,\n",
    "                            validation_steps=int(0.1*len(test_dataset)))"
   ]
  },
  {
   "cell_type": "code",
   "execution_count": 119,
   "id": "a7a01c95",
   "metadata": {},
   "outputs": [
    {
     "name": "stdout",
     "output_type": "stream",
     "text": [
      "44/44 [==============================] - 44s 932ms/step - loss: 2.0634 - accuracy: 0.2196\n"
     ]
    },
    {
     "data": {
      "text/plain": [
       "[2.0634143352508545, 0.2195994257926941]"
      ]
     },
     "execution_count": 119,
     "metadata": {},
     "output_type": "execute_result"
    }
   ],
   "source": [
    "#Evaluate on the whole test dataset\n",
    "model_4.evaluate(test_dataset)"
   ]
  },
  {
   "cell_type": "code",
   "execution_count": 120,
   "id": "17254b0b",
   "metadata": {},
   "outputs": [
    {
     "name": "stdout",
     "output_type": "stream",
     "text": [
      "44/44 [==============================] - 41s 719ms/step\n"
     ]
    }
   ],
   "source": [
    "#Make predictions (our model predicts prediction probability for each class)\n",
    "model_4_pred_probs=model_4.predict(test_dataset)"
   ]
  },
  {
   "cell_type": "code",
   "execution_count": 121,
   "id": "7deda9e1",
   "metadata": {},
   "outputs": [
    {
     "data": {
      "text/plain": [
       "<tf.Tensor: shape=(1398,), dtype=int64, numpy=array([8, 8, 8, ..., 8, 8, 8], dtype=int64)>"
      ]
     },
     "execution_count": 121,
     "metadata": {},
     "output_type": "execute_result"
    }
   ],
   "source": [
    "#Convert pred probs to classes\n",
    "model_4_preds=tf.argmax(model_4_pred_probs,axis=1)\n",
    "model_4_preds"
   ]
  },
  {
   "cell_type": "code",
   "execution_count": 122,
   "id": "e97f38fe",
   "metadata": {},
   "outputs": [
    {
     "data": {
      "text/plain": [
       "{'accuracy': 22.0, 'precision': 5.0, 'recall': 22.0, 'f1': 8.0}"
      ]
     },
     "execution_count": 122,
     "metadata": {},
     "output_type": "execute_result"
    }
   ],
   "source": [
    "#Calculate model_4_results\n",
    "model_4_results=calculate_results(test_labels_encoded,\n",
    "                                  model_4_preds)\n",
    "model_4_results"
   ]
  },
  {
   "cell_type": "markdown",
   "id": "d7748229",
   "metadata": {},
   "source": [
    "## Model 5 : Bidirectional RNN"
   ]
  },
  {
   "cell_type": "code",
   "execution_count": 123,
   "id": "3fe40f5f",
   "metadata": {},
   "outputs": [],
   "source": [
    "#Build a bidirectional RNN in TensorFlow\n",
    "from tensorflow.keras import layers\n",
    "inputs=layers.Input(shape=(1,),dtype='string')\n",
    "x=text_vectorizer(inputs)\n",
    "x=token_embed(x)\n",
    "x=layers.Bidirectional(layers.LSTM(64,return_sequences=True))(x)\n",
    "x=layers.Bidirectional(layers.GRU(64))(x)\n",
    "outputs=layers.Dense(num_classes,activation='softmax')(x)\n",
    "model_5=tf.keras.Model(inputs,outputs,name='model_5_bidirectional')"
   ]
  },
  {
   "cell_type": "code",
   "execution_count": 124,
   "id": "1aabc979",
   "metadata": {},
   "outputs": [
    {
     "name": "stdout",
     "output_type": "stream",
     "text": [
      "Model: \"model_5_bidirectional\"\n",
      "_________________________________________________________________\n",
      " Layer (type)                Output Shape              Param #   \n",
      "=================================================================\n",
      " input_23 (InputLayer)       [(None, 1)]               0         \n",
      "                                                                 \n",
      " text_vectorization (TextVec  (None, 1145)             0         \n",
      " torization)                                                     \n",
      "                                                                 \n",
      " token_embedding (Embedding)  (None, 1145, 128)        5881856   \n",
      "                                                                 \n",
      " bidirectional (Bidirectiona  (None, 1145, 128)        98816     \n",
      " l)                                                              \n",
      "                                                                 \n",
      " bidirectional_1 (Bidirectio  (None, 128)              74496     \n",
      " nal)                                                            \n",
      "                                                                 \n",
      " dense_43 (Dense)            (None, 10)                1290      \n",
      "                                                                 \n",
      "=================================================================\n",
      "Total params: 6,056,458\n",
      "Trainable params: 6,056,458\n",
      "Non-trainable params: 0\n",
      "_________________________________________________________________\n"
     ]
    }
   ],
   "source": [
    "model_5.summary()"
   ]
  },
  {
   "cell_type": "code",
   "execution_count": 125,
   "id": "57dd265f",
   "metadata": {},
   "outputs": [
    {
     "name": "stdout",
     "output_type": "stream",
     "text": [
      "Epoch 1/3\n",
      "10/10 [==============================] - 112s 8s/step - loss: 2.2122 - accuracy: 0.1813 - val_loss: 2.0263 - val_accuracy: 0.2188\n",
      "Epoch 2/3\n",
      "10/10 [==============================] - 56s 6s/step - loss: 2.0197 - accuracy: 0.2344 - val_loss: 1.9719 - val_accuracy: 0.1641\n",
      "Epoch 3/3\n",
      "10/10 [==============================] - 55s 6s/step - loss: 1.9784 - accuracy: 0.2281 - val_loss: 1.9718 - val_accuracy: 0.2188\n"
     ]
    }
   ],
   "source": [
    "#Compile the model\n",
    "model_5.compile(loss='categorical_crossentropy',optimizer='adam',metrics='accuracy')\n",
    "\n",
    "#Fit model_5 to the data\n",
    "history_model_5=model_5.fit(train_dataset,\n",
    "                            epochs=3,\n",
    "                            steps_per_epoch=int(0.1*len(train_dataset)),\n",
    "                            validation_data=test_dataset,\n",
    "                            validation_steps=int(0.1*len(test_dataset)))"
   ]
  },
  {
   "cell_type": "code",
   "execution_count": 126,
   "id": "5ff5a677",
   "metadata": {},
   "outputs": [
    {
     "name": "stdout",
     "output_type": "stream",
     "text": [
      "44/44 [==============================] - 61s 1s/step - loss: 2.0077 - accuracy: 0.2239\n"
     ]
    },
    {
     "data": {
      "text/plain": [
       "[2.0077056884765625, 0.2238912731409073]"
      ]
     },
     "execution_count": 126,
     "metadata": {},
     "output_type": "execute_result"
    }
   ],
   "source": [
    "#Evaluate on the whole test dataset\n",
    "model_5.evaluate(test_dataset)"
   ]
  },
  {
   "cell_type": "code",
   "execution_count": 127,
   "id": "09a70458",
   "metadata": {},
   "outputs": [
    {
     "name": "stdout",
     "output_type": "stream",
     "text": [
      "44/44 [==============================] - 67s 1s/step\n"
     ]
    }
   ],
   "source": [
    "#Make predictions (our model predicts prediction probability for each class)\n",
    "model_5_pred_probs=model_5.predict(test_dataset)"
   ]
  },
  {
   "cell_type": "code",
   "execution_count": 128,
   "id": "3784bed9",
   "metadata": {},
   "outputs": [
    {
     "data": {
      "text/plain": [
       "<tf.Tensor: shape=(1398,), dtype=int64, numpy=array([8, 8, 8, ..., 8, 8, 8], dtype=int64)>"
      ]
     },
     "execution_count": 128,
     "metadata": {},
     "output_type": "execute_result"
    }
   ],
   "source": [
    "#Convert pred probs to classes\n",
    "model_5_preds=tf.argmax(model_5_pred_probs,axis=1)\n",
    "model_5_preds"
   ]
  },
  {
   "cell_type": "code",
   "execution_count": 129,
   "id": "2a9fa69b",
   "metadata": {},
   "outputs": [
    {
     "data": {
      "text/plain": [
       "{'accuracy': 22.0, 'precision': 9.0, 'recall': 22.0, 'f1': 9.0}"
      ]
     },
     "execution_count": 129,
     "metadata": {},
     "output_type": "execute_result"
    }
   ],
   "source": [
    "#Calculate model_5_results\n",
    "model_5_results=calculate_results(test_labels_encoded,\n",
    "                                  model_5_preds)\n",
    "model_5_results"
   ]
  },
  {
   "cell_type": "markdown",
   "id": "d536370d",
   "metadata": {},
   "source": [
    "## Model 6 : Feature Extraction with pretrained token embeddings"
   ]
  },
  {
   "cell_type": "code",
   "execution_count": 131,
   "id": "10ac55a6",
   "metadata": {},
   "outputs": [],
   "source": [
    "#Download pretrained TensorFlow Hub USE\n",
    "import tensorflow_hub as hub\n",
    "tf_hub_embedding_layer=hub.KerasLayer(\"https://tfhub.dev/google/universal-sentence-encoder/4\",\n",
    "                                      trainable=False,\n",
    "                                      name='universal_sentence_encoder')"
   ]
  },
  {
   "cell_type": "code",
   "execution_count": 132,
   "id": "827558db",
   "metadata": {},
   "outputs": [
    {
     "name": "stdout",
     "output_type": "stream",
     "text": [
      "Random sentence:\n",
      "  Picnic at Hanging Rock centers around a trip by a party of girls from Appleyard College, a fictitious upper class private boarding school, who travel to Hanging Rock in the Mount Macedon area, Victoria, for a picnic on Valentine's Day 1900. The excursion ends in tragedy when three of the girls, and later one of their teachers, mysteriously vanish while climbing the rock. No reason for their disappearance is ever given, and one of the missing girls who is later found has no memory of what has happened to her companions. A fourth girl who also climbed the rock with the group is of little help in solving the mystery, having returned in hysterics for reasons she cannot explain. The disappearances provoke much local concern and international sensation with sexual molestation, abduction and murder being high on the list of possible outcomes. Several organized searches of the picnic grounds and the area surrounding the rock itself turn up nothing. Meanwhile the students, teachers and staff of the college, as well as members of the community, grapple with the riddle-like events. A young man on a private search locates one of the missing girls, but is himself found in an unexplained daze – yet another victim of the rock. Concerned parents begin withdrawing their daughters from the formerly prestigious college and several of the staff, including the headmistress, either resign or meet with tragic ends. We are told that both the College, and the Woodend Police Station where records of the investigation were kept, are destroyed by fire shortly afterwards. The unsolvable mystery of the disappearances was arguably the key to the success of both the book and the subsequent film. This aroused enough lasting public interest that in 1980 a book of hypothetical solutions (by Yvonne Rousseau) was published, called The Murders at Hanging Rock. In fact, Lindsay's original draft included a final chapter in which the mystery was resolved. At her editor's suggestion, Lindsay removed it prior to publication. Chapter Eighteen, as it is known, was published posthumously in 1987 as The Secret of Hanging Rock by Angus & Robertson Publishing. The novel is written in the form of a true story, and even begins and ends with a pseudo-historical prologue and epilogue, adding to the overall feeling of mystery. However, while the geological feature, Hanging Rock, and the several towns mentioned are actual places near Mount Macedon, the story is not completely true. Lindsay had done little to dispel the myth that the story is based on truth, in many interviews either refusing to confirm it was entirely fiction, or hinting that parts of the book were fictitious, and others were not. Valentine's Day, 14 February 1900 was a Wednesday, not a Saturday as depicted in the story. All attempts by enthusiastic readers to find historical evidence of the event, characters, or even Appleyard College, have proved fruitless. Appleyard College was to some extent based on Clyde Girls' Grammar School at East St Kilda, Melbourne, which Joan Lindsay attended as a day-girl while in her teens. Incidentally, in 1919 this school was transferred to the town of Woodend, Victoria, about 8&nbsp;km southwest of Hanging Rock. The book suggests that the fictional site of Appleyard College, given its eastward view of Mount Macedon on the Bendigo-Melbourne Road, might have been on the western side of Calder Highway/Black Forest Drive (C792), about 2–4&nbsp;km south of Woodend. A far more detailed synopsis of the story is given in the main entry for the film version.\n",
      "Sentence after embedding:\n",
      " [-3.95825766e-02  6.04361631e-02  5.16106710e-02 -4.54427749e-02\n",
      "  5.46648949e-02  3.72665115e-02  6.16054870e-02 -5.16691357e-02\n",
      "  6.01067394e-02 -2.84166541e-02  6.15149848e-02  4.50381264e-02\n",
      "  5.61672859e-02 -1.47351455e-02  1.43356016e-02 -6.22682832e-02\n",
      " -5.31617664e-02  6.05678000e-02 -5.40766828e-02 -6.22563660e-02\n",
      "  3.21868900e-03  2.36495417e-02 -2.91821901e-02 -5.14318570e-02\n",
      "  5.31848595e-02  5.14031798e-02 -2.33349707e-02 -5.97431138e-02\n",
      "  6.04989566e-02  5.73394857e-02 -5.25281504e-02 -3.99085917e-02\n",
      " -4.99491729e-02 -9.38749500e-03 -1.30944867e-02  4.23677638e-02\n",
      " -6.05149530e-02  5.52788042e-02 -2.18731891e-02  4.95315231e-02\n",
      " -5.74801229e-02 -6.04796670e-02  2.48958748e-02 -3.62470970e-02\n",
      " -6.14864491e-02 -3.92352901e-02  9.73989163e-03  5.06609492e-02\n",
      "  2.96047386e-02 -6.07489981e-02  3.35614644e-02  6.12128265e-02\n",
      " -5.65532111e-02 -5.95710948e-02 -3.69582325e-02 -4.76953164e-02\n",
      " -6.20365366e-02 -4.35942002e-02  5.98725788e-02 -3.18421088e-02\n",
      "  4.51480895e-02 -4.11556177e-02 -6.23044632e-02 -5.25450818e-02\n",
      " -4.59486619e-02 -6.19861595e-02  6.07912019e-02 -5.74543476e-02\n",
      " -1.50634814e-03  1.79987047e-02  2.10265885e-03  5.99514470e-02\n",
      " -4.05457951e-02  5.15880398e-02 -6.16783276e-02  5.00154383e-02\n",
      "  5.68422861e-03  5.39073087e-02 -4.31109294e-02  4.03189138e-02\n",
      " -1.73308440e-02  5.36876433e-02  6.12524599e-02 -2.79222932e-02\n",
      " -3.93886305e-02  5.74346967e-02 -1.26730669e-02  5.33753037e-02\n",
      " -6.21729642e-02 -1.41743049e-02 -3.85309085e-02 -6.16992041e-02\n",
      "  4.73213382e-02 -1.49969347e-02 -3.37630026e-02  6.23067357e-02\n",
      "  5.61421700e-02  6.19697310e-02  6.23062551e-02  4.14998569e-02\n",
      " -5.06700426e-02  2.96065472e-02 -3.04871649e-02 -4.56761234e-02\n",
      "  1.33044235e-02  6.11390918e-02 -4.66799177e-02 -6.16198853e-02\n",
      "  4.38991971e-02  1.75090097e-02 -6.22719079e-02 -3.94817516e-02\n",
      " -5.74171469e-02  5.18613867e-02  2.85012443e-02  3.06384987e-03\n",
      "  6.60385191e-03 -4.37093303e-02  4.38405499e-02 -5.54029772e-04\n",
      " -3.10775638e-02  4.47713025e-02 -4.17722054e-02 -2.24343557e-02\n",
      "  5.53490706e-02 -5.94006069e-02  1.49535732e-02 -6.20252304e-02\n",
      " -5.54232346e-03 -2.78842784e-02  5.43527603e-02 -1.97848566e-02\n",
      "  5.87780587e-02 -1.66216822e-04  4.99183824e-03 -6.19561933e-02\n",
      "  1.65614542e-02  6.03087693e-02 -6.01709783e-02  5.26948124e-02\n",
      "  3.45584042e-02  6.23067357e-02 -6.22479580e-02  4.89863828e-02\n",
      "  6.12714589e-02 -3.06817070e-02  1.57530103e-02 -4.80026789e-02\n",
      " -2.43861158e-03  1.22398166e-02 -6.07886575e-02 -6.09753951e-02\n",
      "  2.91780457e-02  5.45193553e-02 -7.40488758e-03  4.35317233e-02\n",
      " -3.05782165e-02  5.03743179e-02 -5.51624075e-02  6.15068227e-02\n",
      " -4.54643480e-02 -4.50661182e-02 -4.03874703e-02 -2.73572449e-02\n",
      "  4.10982072e-02  5.92524372e-02  6.22906759e-02  3.06751169e-02\n",
      " -6.21226877e-02 -6.07149862e-02  6.23012520e-02 -5.87576106e-02\n",
      " -7.71176862e-03  5.63056432e-02 -5.55320606e-02  4.23602313e-02\n",
      "  2.36487724e-02 -1.85541995e-02  1.49862105e-02 -6.07622787e-02\n",
      "  1.63880968e-03 -4.07318883e-02 -4.94515151e-02  2.56254524e-02\n",
      " -6.22079559e-02 -4.26581223e-03  1.61274131e-02 -3.62413563e-03\n",
      "  5.97017556e-02 -5.23201078e-02  3.24746631e-02  3.71591114e-02\n",
      "  2.08126940e-02 -5.90971261e-02 -6.48643821e-03 -5.93840852e-02\n",
      "  3.97628844e-02 -4.71824370e-02  6.23045526e-02  1.75133143e-02\n",
      " -6.14372268e-02 -5.67828007e-02  5.71344160e-02 -6.05769232e-02\n",
      "  4.99601252e-02 -5.60921431e-02 -2.42886078e-02 -4.51821499e-02\n",
      " -6.02236688e-02 -5.46646081e-02 -5.65046929e-02  5.32799680e-03\n",
      "  5.60186096e-02  5.54542951e-02 -6.13427237e-02  5.69146387e-02\n",
      " -3.99725735e-02  1.23913419e-02 -4.98641767e-02 -5.37946746e-02\n",
      "  3.15016583e-02 -4.26238542e-03  5.20489365e-02 -5.62431961e-02\n",
      " -1.90391969e-02 -5.94534650e-02 -4.62038442e-02 -6.12482280e-02\n",
      "  3.29546556e-02 -1.91229507e-02  3.32416734e-03  4.31732200e-02\n",
      "  1.90697275e-02 -6.23067357e-02 -5.13322912e-02 -5.69061600e-02\n",
      " -1.69175882e-02  6.04992658e-02 -4.86342348e-02 -5.85251004e-02\n",
      "  5.37409112e-02 -1.96126606e-02  4.34396490e-02  3.09412889e-02\n",
      "  5.16975895e-02 -3.16850953e-02 -2.36970168e-02 -1.55840423e-02\n",
      "  5.87726571e-02  4.44861576e-02  6.20994680e-02 -5.75145371e-02\n",
      " -2.77716089e-02 -5.28425649e-02  6.20318502e-02  5.10004945e-02\n",
      "  3.88234556e-02  6.23067357e-02 -8.15758854e-03  1.09385168e-02\n",
      "  6.03147559e-02 -4.03415300e-02 -2.63156556e-02  3.95876616e-02\n",
      "  5.98518411e-03  6.22073933e-02  4.72124554e-02  2.60436404e-02\n",
      " -5.46524860e-02 -5.77330068e-02 -2.90724970e-02  6.21660389e-02\n",
      " -4.08309652e-03 -2.17210054e-02 -1.94435082e-02  2.48729046e-02\n",
      " -4.83813919e-02 -3.88263240e-02  5.41488416e-02  5.41519653e-03\n",
      " -6.05080537e-02 -2.39295568e-02 -1.21598840e-02  6.10336922e-02\n",
      " -3.99063751e-02 -6.22648671e-02  3.19095366e-02  2.05097683e-02\n",
      " -1.13407094e-02  4.80101965e-02 -2.08809227e-02 -6.33511599e-03\n",
      "  6.20053858e-02  6.15172535e-02 -5.36618866e-02 -6.11803457e-02\n",
      "  3.65743153e-02  2.71333009e-02  3.37090567e-02  3.85606252e-02\n",
      "  4.05160189e-02  4.77275215e-02  4.30404693e-02  3.18104625e-02\n",
      "  3.50243747e-02 -5.88699803e-02 -2.58351397e-02 -3.60009596e-02\n",
      "  2.94186994e-02  6.15876615e-02 -3.69274169e-02 -5.59416935e-02\n",
      "  6.07212819e-02 -2.49113124e-02  1.06179332e-02 -5.79405241e-02\n",
      "  4.49073594e-03  5.90681061e-02  6.20121434e-02 -1.59179755e-02\n",
      " -5.01606837e-02 -3.76265123e-02  7.48699531e-03 -3.61736454e-02\n",
      " -1.16786361e-02  2.19011847e-02 -2.52454635e-02  5.93024790e-02\n",
      " -2.41532288e-02  2.60437783e-02 -1.66513640e-02  2.33905595e-02\n",
      " -6.10240214e-02  5.46808541e-02 -5.99901527e-02  2.66291741e-02\n",
      "  4.03562598e-02  9.78786312e-03 -3.91057096e-02  1.44662894e-02\n",
      "  6.17613792e-02  5.51343709e-02 -4.76373583e-02 -4.99776416e-02\n",
      " -4.43134531e-02 -3.01040839e-02 -2.50746217e-02  1.45594357e-02\n",
      "  2.38204114e-02  2.21080538e-02  3.11434902e-02 -1.18723437e-02\n",
      "  6.08001053e-02 -5.72579401e-03  4.24500369e-02 -6.21610805e-02\n",
      " -6.23066947e-02  5.76646738e-02  3.68492045e-02 -1.12341596e-02\n",
      "  5.23527265e-02 -4.70462590e-02  3.40214074e-02  6.22354522e-02\n",
      "  6.66140672e-03 -4.37090397e-02  6.23044893e-02  5.96940368e-02\n",
      "  5.91633841e-02 -2.26838775e-02 -5.94891869e-02  5.18692844e-02\n",
      " -5.42385206e-02  6.19916730e-02  2.90261824e-02  3.52321342e-02\n",
      " -3.20897624e-02  5.46464957e-02  1.33307092e-02 -2.43183263e-02\n",
      "  5.97330220e-02 -7.21318135e-03  5.92594557e-02 -5.62156774e-02\n",
      "  5.32024428e-02 -6.22926690e-02  5.93928024e-02 -5.61147276e-03\n",
      " -3.41659188e-02 -5.32433130e-02  2.58384384e-02 -7.45812012e-03\n",
      "  5.99932149e-02 -3.32519077e-02  1.02160592e-02  4.00741445e-03\n",
      "  6.22796975e-02 -4.73881327e-02 -4.64615747e-02 -6.23057708e-02\n",
      " -3.22375111e-02 -4.46152985e-02 -1.25184366e-02 -9.42587852e-03\n",
      "  2.66346447e-02 -1.90064572e-02  6.22626096e-02  5.40959947e-02\n",
      "  5.72161637e-02 -5.53357974e-02  1.09848622e-02 -2.95563117e-02\n",
      "  5.42824417e-02  2.24312358e-02  5.50804622e-02  3.10880765e-02\n",
      "  1.86023843e-02 -6.00722283e-02  3.74142043e-02 -2.69167945e-02\n",
      "  4.67395484e-02 -6.18531629e-02  4.06512916e-02 -4.67915945e-02\n",
      " -6.05487451e-02  9.56804259e-04  3.25540714e-02  6.23011366e-02\n",
      " -5.59064746e-02  3.33672464e-02  5.12271188e-02  5.57456240e-02\n",
      " -2.59392280e-02  6.23013750e-02  1.80686414e-02 -2.45261546e-02\n",
      "  3.97243202e-02  5.81071451e-02 -3.73983085e-02  2.60610674e-02\n",
      "  8.33413214e-04 -4.93382551e-02 -1.92898810e-02  5.55510968e-02\n",
      " -1.86357927e-02 -4.38000634e-02 -1.29620433e-02  3.19471098e-02\n",
      "  4.87281270e-02 -2.77123768e-02  1.88832562e-02 -3.47310267e-02\n",
      "  4.00340296e-02  3.36475000e-02 -5.82154356e-02 -6.22776821e-02\n",
      " -3.93773392e-02  6.23066239e-02 -6.23053275e-02 -4.58446927e-02\n",
      " -6.22380152e-02  2.93473583e-02 -5.69547899e-02  2.10287105e-02\n",
      "  3.61345559e-02 -6.07953183e-02 -3.97411287e-02 -3.71738002e-02\n",
      " -1.02355229e-02 -5.98724619e-05  1.29795503e-02 -7.74762733e-03\n",
      " -2.52458733e-02 -9.56245139e-03 -1.56400800e-02  5.38675636e-02\n",
      " -4.68321256e-02  5.91317192e-02 -1.25080198e-02 -6.07629940e-02\n",
      "  5.75812757e-02  2.14346610e-02 -5.40610179e-02 -6.23066761e-02\n",
      " -2.05909573e-02 -5.99581935e-02  4.90349494e-02  5.32858782e-02\n",
      " -2.21074149e-02  4.60108034e-02  4.51166034e-02  6.15992025e-03\n",
      "  3.64265218e-02  2.91245598e-02 -1.11839790e-02 -3.26965339e-02\n",
      " -2.07081065e-02 -2.52784304e-02  2.18183938e-02 -2.71516778e-02\n",
      " -5.52968718e-02 -5.99215738e-02  5.22488877e-02 -6.23067357e-02\n",
      "  1.85748842e-02 -1.46469008e-02 -1.44946612e-02 -1.95513945e-02\n",
      "  4.97210883e-02 -5.44228964e-02  6.22391663e-02 -2.98844650e-02]\n",
      "Length of sentence embedding: 512\n"
     ]
    }
   ],
   "source": [
    "#Test out the pretrained embedding on a random sentence\n",
    "random_train_sentence=random.choice(X_train.values.ravel())\n",
    "print(f\"Random sentence:\\n {random_train_sentence}\")\n",
    "use_embedded_sentence=tf_hub_embedding_layer([random_train_sentence])\n",
    "print(f\"Sentence after embedding:\\n {use_embedded_sentence[0]}\")\n",
    "print(f\"Length of sentence embedding: {len(use_embedded_sentence[0])}\")"
   ]
  },
  {
   "cell_type": "markdown",
   "id": "64a6b202",
   "metadata": {},
   "source": [
    "### Building and fitting an NLP feature extraction model using pretrained embeddings from TensorFlow Hub"
   ]
  },
  {
   "cell_type": "code",
   "execution_count": 133,
   "id": "9ce0f223",
   "metadata": {},
   "outputs": [],
   "source": [
    "#Define feature extraction model using TF Hub Layer\n",
    "inputs=layers.Input(shape=[],dtype=tf.string)\n",
    "pretrained_embedding=tf_hub_embedding_layer(inputs) #tokenize text and create embedding of each sequence (512 long vector)\n",
    "x=layers.Dense(128,activation=\"relu\")(pretrained_embedding)\n",
    "#Note: you could add more layers here if you wanted to\n",
    "outputs=layers.Dense(num_classes,activation='softmax')(x) #create the output layer\n",
    "model_6=tf.keras.Model(inputs=inputs,\n",
    "                       outputs=outputs,\n",
    "                       name='model_2_USE_feature_extractor')\n",
    "\n",
    "#Compile the model\n",
    "model_6.compile(loss='categorical_crossentropy',\n",
    "                optimizer=tf.keras.optimizers.Adam(),\n",
    "                metrics=['accuracy'])"
   ]
  },
  {
   "cell_type": "code",
   "execution_count": 134,
   "id": "9e911d6e",
   "metadata": {},
   "outputs": [
    {
     "name": "stdout",
     "output_type": "stream",
     "text": [
      "Model: \"model_2_USE_feature_extractor\"\n",
      "_________________________________________________________________\n",
      " Layer (type)                Output Shape              Param #   \n",
      "=================================================================\n",
      " input_24 (InputLayer)       [(None,)]                 0         \n",
      "                                                                 \n",
      " universal_sentence_encoder   (None, 512)              256797824 \n",
      " (KerasLayer)                                                    \n",
      "                                                                 \n",
      " dense_44 (Dense)            (None, 128)               65664     \n",
      "                                                                 \n",
      " dense_45 (Dense)            (None, 10)                1290      \n",
      "                                                                 \n",
      "=================================================================\n",
      "Total params: 256,864,778\n",
      "Trainable params: 66,954\n",
      "Non-trainable params: 256,797,824\n",
      "_________________________________________________________________\n"
     ]
    }
   ],
   "source": [
    "model_6.summary()"
   ]
  },
  {
   "cell_type": "code",
   "execution_count": 142,
   "id": "da89e44c",
   "metadata": {},
   "outputs": [
    {
     "name": "stdout",
     "output_type": "stream",
     "text": [
      "Epoch 1/3\n",
      "10/10 [==============================] - 5s 224ms/step - loss: 1.1527 - accuracy: 0.6156 - val_loss: 1.2220 - val_accuracy: 0.5859\n",
      "Epoch 2/3\n",
      "10/10 [==============================] - 2s 186ms/step - loss: 1.1825 - accuracy: 0.6000 - val_loss: 1.1974 - val_accuracy: 0.6250\n",
      "Epoch 3/3\n",
      "10/10 [==============================] - 2s 213ms/step - loss: 1.1020 - accuracy: 0.6500 - val_loss: 1.1873 - val_accuracy: 0.6328\n"
     ]
    }
   ],
   "source": [
    "#Fit model_6 to the data\n",
    "history_model_6=model_6.fit(train_dataset,\n",
    "                            epochs=3,\n",
    "                            steps_per_epoch=int(0.1*len(train_dataset)),\n",
    "                            validation_data=test_dataset,\n",
    "                            validation_steps=int(0.1*len(test_dataset)))"
   ]
  },
  {
   "cell_type": "code",
   "execution_count": 143,
   "id": "f4f977d6",
   "metadata": {},
   "outputs": [
    {
     "name": "stdout",
     "output_type": "stream",
     "text": [
      "44/44 [==============================] - 6s 135ms/step - loss: 1.1284 - accuracy: 0.6416\n"
     ]
    },
    {
     "data": {
      "text/plain": [
       "[1.1283636093139648, 0.6416308879852295]"
      ]
     },
     "execution_count": 143,
     "metadata": {},
     "output_type": "execute_result"
    }
   ],
   "source": [
    "#Evaluate on the whole test dataset\n",
    "model_6.evaluate(test_dataset)"
   ]
  },
  {
   "cell_type": "code",
   "execution_count": 144,
   "id": "138bd4a1",
   "metadata": {},
   "outputs": [
    {
     "name": "stdout",
     "output_type": "stream",
     "text": [
      "44/44 [==============================] - 9s 134ms/step\n"
     ]
    }
   ],
   "source": [
    "#Make predictions (our model predicts prediction probability for each class)\n",
    "model_6_pred_probs=model_6.predict(test_dataset)"
   ]
  },
  {
   "cell_type": "code",
   "execution_count": 147,
   "id": "64ee1806",
   "metadata": {},
   "outputs": [
    {
     "data": {
      "text/plain": [
       "<tf.Tensor: shape=(1398,), dtype=int64, numpy=array([3, 8, 3, ..., 1, 2, 8], dtype=int64)>"
      ]
     },
     "execution_count": 147,
     "metadata": {},
     "output_type": "execute_result"
    }
   ],
   "source": [
    "#Convert pred probs to classes\n",
    "model_6_preds=tf.argmax(model_6_pred_probs,axis=1)\n",
    "model_6_preds"
   ]
  },
  {
   "cell_type": "code",
   "execution_count": 148,
   "id": "e0633cdc",
   "metadata": {},
   "outputs": [
    {
     "data": {
      "text/plain": [
       "{'accuracy': 64.0, 'precision': 66.0, 'recall': 64.0, 'f1': 62.0}"
      ]
     },
     "execution_count": 148,
     "metadata": {},
     "output_type": "execute_result"
    }
   ],
   "source": [
    "#Calculate model_6_results\n",
    "\n",
    "model_6_results=calculate_results(test_labels_encoded,\n",
    "                                  model_6_preds)\n",
    "model_6_results"
   ]
  },
  {
   "cell_type": "markdown",
   "id": "b78c9b46",
   "metadata": {},
   "source": [
    "## Model 7: Combining pretrained token embeddings + characters embeddings (hybrid embedding layer)"
   ]
  },
  {
   "cell_type": "markdown",
   "id": "d264450a",
   "metadata": {},
   "source": [
    "### Creating a character-level tokenizer"
   ]
  },
  {
   "cell_type": "code",
   "execution_count": 150,
   "id": "29093039",
   "metadata": {},
   "outputs": [
    {
     "data": {
      "text/plain": [
       "array([' As the story opens, the Austin family has settled in a New York City apartment after the events of The Moon by Night, and made some friends; blind young pianist Emily Gregory and Josiah \"Dave\" Davidson, who helps Emily get around. Emily is studying under the tutelage of the passionate, leonine Emmanuel Theotocopulous, better known as Mr. Theo. Canon Tallis, newly arrived at the Cathedral of Saint John the Divine after the events of The Arm of the Starfish, meets the Austin children and their friends just as they encounter an anachronistic Genie in a junk shop. Tallis advises and helps to protect the children as they are drawn into a mystery involving the Genie, a street gang called the Alphabats, and the local bishop\\'s strange behavior. Dave is skeptical of the Genie, as is Suzy Austin, but the others are not sure. Centralized, single-minded activity on the part of the criminal Alphabats excites the suspicion of Canon Tallis, who interrogates Dave and Dr. Wallace Austin. Dr. Austin has been working on the creation and perfection of a laser-based Micro-Ray, which is so unerringly precise that it may do more than simply penetrate the corporeal. Dave was once a member of the Alphabats, but has turned from their ways. He is in denial of his past, not even talking about it. Tension builds as the \\'Bats try to draw Dave into their new mischief, whose mastermind is none other than the Bishop himself. The Genie appears to be the bishop\\'s servant, and also appears to possess a Micro-Ray. It is revealed that the bishop has given up hope for the world; that he hopes to establish a state of control over humanity, whereby he may prevent anything he deems detrimental to its success. His Genie, Hythloday, uses the Micro-Ray to control the Alphabats. A concentrated beam from it stimulates the brain\\'s pleasure center, giving the victim a feeling of flight. The Alphabats, hoping to receive more of this pleasure as a reward, carry out the bishop\\'s demands. Eventually, Rob Austin is captured. Vicky and Emily track him to the Cathedral, where they are joined by Vicky\\'s family, Canon Tallis, and Mr. Theotocopulous. The united group expose the bishop as his (the bishop\\'s) own brother, actor Henry Grandcourt, in disguise; break apart his plans to seize power; and unmask Hythloday as the dishonest scientist Dr. Hyde. The Micro-Ray is seized. Dave makes his peace with both his past and future, coming eventually to look upon those who have been with him as his family.'],\n",
       "      dtype=object)"
      ]
     },
     "execution_count": 150,
     "metadata": {},
     "output_type": "execute_result"
    }
   ],
   "source": [
    "X_train.values.ravel()[:1]"
   ]
  },
  {
   "cell_type": "code",
   "execution_count": 151,
   "id": "41f4b38c",
   "metadata": {},
   "outputs": [],
   "source": [
    "#Making a function to split sentences into characters\n",
    "def split_chars(text):\n",
    "  return \" \".join(list(text))"
   ]
  },
  {
   "cell_type": "code",
   "execution_count": 153,
   "id": "b63cc03f",
   "metadata": {},
   "outputs": [
    {
     "data": {
      "text/plain": [
       "'  E t h a n   F r o m e   i s   s e t   i n   a   f i c t i o n a l   N e w   E n g l a n d   t o w n   n a m e d   S t a r k f i e l d ,   w h e r e   a n   u n n a m e d   n a r r a t o r   t e l l s   t h e   s t o r y   o f   h i s   e n c o u n t e r   w i t h   E t h a n   F r o m e ,   a   m a n   w i t h   d r e a m s   a n d   d e s i r e s   t h a t   e n d   i n   a n   i r o n i c   t u r n   o f   e v e n t s .   T h e   n a r r a t o r   t e l l s   t h e   s t o r y   b a s e d   o n   a n   a c c o u n t   f r o m   o b s e r v a t i o n s   a t   F r o m e \\' s   h o u s e   w h e n   h e   h a d   t o   s t a y   t h e r e   d u r i n g   a   w i n t e r   s t o r m .   T h e   n o v e l   i s   f r a m e d   b y   t h e   l i t e r a r y   d e v i c e   o f   a n   e x t e n d e d   f l a s h b a c k .   T h e   f i r s t   c h a p t e r   o p e n s   w i t h   a n   u n n a m e d   n a r r a t o r   w h o ,   w h i l e   s p e n d i n g   a   w i n t e r   i n   S t a r k f i e l d ,   s e t s   o u t   t o   l e a r n   a b o u t   t h e   l i f e   o f   a   m y s t e r i o u s   l o c a l   f i g u r e   n a m e d   E t h a n   F r o m e ,   a   m a n   w h o   h a d   b e e n   i n j u r e d   i n   a   h o r r i f i c   “ s m a s h - u p ”   t w e n t y - f o u r   y e a r s   b e f o r e .   F r o m e   i s   d e s c r i b e d   a s   “ t h e   m o s t   s t r i k i n g   f i g u r e   i n   S t a r k f i e l d ” ,   “ t h e   r u i n   o f   a   m a n ”   w i t h   a   “ c a r e l e s s   p o w e r f u l   l o o k … i n   s p i t e   o f   a   l a m e n e s s   c h e c k i n g   e a c h   s t e p   l i k e   t h e   j e r k   o f   a   c h a i n ” .   T h e   n a r r a t o r   f a i l s   t o   g e t   m a n y   d e t a i l s   f r o m   t h e   t o w n s p e o p l e .   H o w e v e r ,   t h e   n a r r a t o r   h i r e s   F r o m e   a s   h i s   d r i v e r   f o r   a   w e e k .   A   s e v e r e   s n o w s t o r m   f o r c e s   F r o m e   t o   t a k e   t h e   n a r r a t o r   t o   h i s   h o m e   o n e   n i g h t   f o r   s h e l t e r .   J u s t   a s   t h e   t w o   a r e   e n t e r i n g   F r o m e \\' s   h o u s e ,   t h e   f i r s t   c h a p t e r   e n d s .   T h e   s e c o n d   c h a p t e r   f l a s h e s   b a c k   t w e n t y - f o u r   y e a r s ;   t h e   n a r r a t i o n   s w i t c h e s   f r o m   t h e   f i r s t - p e r s o n   n a r r a t o r   o f   t h e   f i r s t   c h a p t e r   t o   a   l i m i t e d   t h i r d - p e r s o n   n a r r a t o r .   E t h a n   i s   w a i t i n g   o u t s i d e   a   c h u r c h   d a n c e   f o r   M a t t i e ,   h i s   w i f e ’ s   c o u s i n ,   w h o   l i v e s   w i t h   E t h a n   a n d   h i s   w i f e   Z e e n a   ( Z e n o b i a )   t o   h e l p   a r o u n d   t h e   h o u s e   s i n c e   Z e e n a   i s   s i c k l y .   M a t t i e   i s   g i v e n   t h e   o c c a s i o n a l   n i g h t   o f f   t o   e n t e r t a i n   h e r s e l f   i n   t o w n   a s   p a r t i a l   r e c o m p e n s e   f o r   t a k i n g   c a r e   o f   t h e   F r o m e   f a m i l y   w i t h o u t   p a y ,   a n d   E t h a n   h a s   f a l l e n   i n t o   t h e   h a b i t   o f   w a l k i n g   h e r   h o m e .   I t   i s   m a d e   c l e a r   t h a t   E t h a n   h a s   d e e p   f e e l i n g s   f o r   M a t t i e ,   a n d   i t   i s   e q u a l l y   c l e a r   t h a t   Z e e n a   s u s p e c t s   t h e s e   f e e l i n g s   a n d   d o e s   n o t   a p p r o v e .   W h e n   Z e e n a   l e a v e s   f o r   a   t w o - d a y   v i s i t   t o   s e e k   t r e a t m e n t   f o r   h e r   i l l n e s s   i n   a   n e i g h b o r i n g   t o w n ,   E t h a n   i s   e x c i t e d   t o   h a v e   a n   e v e n i n g   a l o n e   w i t h   M a t t i e .   H o w e v e r ,   t h e   t w o   n e v e r   v e r b a l i z e   o r   s h o w   t h e i r   p a s s i o n   f o r   e a c h   o t h e r   t h r o u g h o u t   t h e i r   e v e n i n g   t o g e t h e r .   T h e   F r o m e s \\'   c a t   b r e a k s   Z e e n a ’ s   f a v o r i t e   p i c k l e   d i s h   w h i c h   M a t t i e   h a d   s e t   o n   t h e   t a b l e .   E t h a n   s e t s   t h e   d i s h \\' s   p i e c e s   n e a t l y   i n   t h e   c u p b o a r d   w i t h   p l a n s   t o   f i x   i t   s o o n .   H e   r e p r e s s e s   t h e   i m p u l s e   t o   d e m o n s t r a t e   h i s   p a s s i o n   a n d   a f f e c t i o n   f o r   M a t t i e .   I n   t h e   m o r n i n g   E t h a n ’ s   p l a n s   t o   r e v e a l   h i s   l o v e   f o r   M a t t i e   a r e   f o i l e d   b y   t h e   p r e s e n c e   o f   h i s   h i r e d   m a n ;   h e   r u n s   i n t o   t o w n   t o   p i c k   u p   s o m e   g l u e   f o r   t h e   b r o k e n   p i c k l e   d i s h ,   a n d   u p o n   h i s   r e t u r n   f i n d s   t h a t   Z e e n a   h a s   r e t u r n e d .   Z e e n a   i n f o r m s   h i m   t h a t   s h e   p l a n s   t o   s e n d   M a t t i e   a w a y   a n d   h i r e   a   m o r e   e f f i c i e n t   g i r l   t o   r e p l a c e   h e r ,   a s   h e r   h e a l t h   i s   f a i l i n g   e v e n   m o r e   r a p i d l y .   E t h a n ’ s   p a s s i o n s   a r e   i n f l a m e d   b y   t h e   t h o u g h t   o f   l o s i n g   M a t t i e ,   h e   f i n d s   h e r   i n   t h e   k i t c h e n   a f t e r   Z e e n a ’ s   p r o n o u n c e m e n t .   H e   t e l l s   h e r   o f   Z e e n a ’ s   p l a n s   t o   d i s m i s s   h e r ,   b u t   t h e i r   m o m e n t   i s   i n t e r r u p t e d   b y   Z e e n a   h e r s e l f .   Z e e n a   d i s c o v e r s   t h e   b r o k e n   p i c k l e   d i s h   a n d   i s   a n g e r e d ,   f u r t h e r i n g   h e r   d e t e r m i n a t i o n   t o   g e t   r i d   o f   M a t t i e .   E t h a n   c o n s i d e r s   r u n n i n g   a w a y   w i t h   M a t t i e ,   b u t   h e   d o e s   n o t   p o s s e s s   t h e   f i n a n c i a l   w h e r e w i t h a l   t o   d o   s o .   T h e   n e x t   m o r n i n g ,   Z e e n a   a n n o u n c e s   t h e   p l a n s   t o   h i r e   a   n e w   g i r l   a n d   s e n d   M a t t i e   o n   h e r   w a y .   E t h a n   r u s h e s   i n t o   t o w n   o n   a n   e r r a n d   t o   s e e k   o u t   a n   a d v a n c e   f r o m   a   c u s t o m e r   f o r   a   l o a d   o f   l u m b e r ,   s o   a s   t o   g i v e   h i m   t h e   m o n e y   t o   r u n   a w a y   w i t h   M a t t i e .   H i s   p l a n   i s   u n h i n g e d   b y   g u i l t ,   h o w e v e r ,   w h e n   h i s   c u s t o m e r ’ s   w i f e   c o m p l i m e n t s   h i m   o n   h i s   p a t i e n c e   a n d   d e d i c a t i o n   i n   c a r i n g   f o r   Z e e n a   t h r o u g h   h e r   s i c k n e s s .   E t h a n   r e t u r n s   t o   t h e   f a r m ,   p i c k i n g   u p   M a t t i e   t o   g o   t o   t h e   t r a i n   s t a t i o n .   T h e y   s t o p   a t   a   h i l l   u p o n   w h i c h   t h e y   h a d   o n c e   p r o p o s e d   t o   g o   s l e d d i n g ,   a n d   t h e y   d e c i d e   t o   g o   t h r o u g h   w i t h   t h e   s l e d d i n g   d e s p i t e   t h e   d a n g e r s   o f   t h e   t r e e s .   A f t e r   t h e i r   f i r s t   r u n ,   M a t t i e   s u g g e s t s   a   s u i c i d e   p a c t ;   t h a t   t h e y   r u n   t h e m s e l v e s   i n t o   a   t r e e   s o   t h e y   m a y   s p e n d   t h e i r   l a s t   m o m e n t s   t o g e t h e r .   E t h a n   r e s i s t s   t h e   n o t i o n ,   b u t   t h e n   f i n a l l y   a g r e e s ,   a n d   t h e y   t a k e   t h e   r i d e   d o w n   t o g e t h e r .   O n   t h e   w a y   d o w n ,   a   v i s i o n   o f   Z e e n a \\' s   f a c e   m a k e s   E t h a n   t r y   t o   t u r n   a s i d e   a t   t h e   l a s t   m o m e n t ,   b u t   h e   r e c o v e r s   a n d   h i t s   t h e   e l m   t r e e .   I n s t e a d   o f   b o t h   o f   t h e m   b e i n g   k i l l e d ,   E t h a n   r e g a i n s   c o n s c i o u s n e s s   a f t e r   t h e   a c c i d e n t   a n d ,   d a z e d   a n d   c o n f u s e d ,   f i n d s   M a t t i e   l y i n g   b e s i d e   h i m   m o a n i n g   i n   p a i n .   A d d i t i o n a l l y ,   E t h a n   i s   p a r t i a l l y   p a r a l y z e d ,   f i n d i n g   m o v e m e n t   t o   b e   d i f f i c u l t .   T h i s   w a s   t h e   s o - c a l l e d   \" s m a s h - u p \"   i n t r o d u c e d   a t   t h e   b e g i n n i n g   o f   t h e   n o v e l .   T h e   f i n a l   c h a p t e r   s w i t c h e s   b a c k   t o   t h e   f i r s t - p e r s o n   n a r r a t o r   p o i n t   o f   v i e w   o f   t h e   f i r s t   c h a p t e r ,   a s   F r o m e   a n d   t h e   n a r r a t o r   w a l k   i n t o   t h e   F r o m e   h o u s e h o l d   t w o   d e c a d e s   l a t e r .   M a t t i e   s t i l l   l i v e s   w i t h   F r o m e ,   b u t   s h e   i s   p a r a l y z e d   f r o m   t h e   a c c i d e n t .   H e r   p e r s o n a l i t y   h a s   \" s o u r e d \"   a n d   Z e e n a   n o w   m u s t   c a r e   f o r   h e r   a n d   E t h a n .'"
      ]
     },
     "execution_count": 153,
     "metadata": {},
     "output_type": "execute_result"
    }
   ],
   "source": [
    "#Text splitting non-character-level sequence into characters\n",
    "random_train_sentence=random.choice(X_train.values.ravel())\n",
    "split_chars(random_train_sentence)"
   ]
  },
  {
   "cell_type": "code",
   "execution_count": 154,
   "id": "4160220a",
   "metadata": {},
   "outputs": [
    {
     "name": "stdout",
     "output_type": "stream",
     "text": [
      "['  A s   t h e   s t o r y   o p e n s ,   t h e   A u s t i n   f a m i l y   h a s   s e t t l e d   i n   a   N e w   Y o r k   C i t y   a p a r t m e n t   a f t e r   t h e   e v e n t s   o f   T h e   M o o n   b y   N i g h t ,   a n d   m a d e   s o m e   f r i e n d s ;   b l i n d   y o u n g   p i a n i s t   E m i l y   G r e g o r y   a n d   J o s i a h   \" D a v e \"   D a v i d s o n ,   w h o   h e l p s   E m i l y   g e t   a r o u n d .   E m i l y   i s   s t u d y i n g   u n d e r   t h e   t u t e l a g e   o f   t h e   p a s s i o n a t e ,   l e o n i n e   E m m a n u e l   T h e o t o c o p u l o u s ,   b e t t e r   k n o w n   a s   M r .   T h e o .   C a n o n   T a l l i s ,   n e w l y   a r r i v e d   a t   t h e   C a t h e d r a l   o f   S a i n t   J o h n   t h e   D i v i n e   a f t e r   t h e   e v e n t s   o f   T h e   A r m   o f   t h e   S t a r f i s h ,   m e e t s   t h e   A u s t i n   c h i l d r e n   a n d   t h e i r   f r i e n d s   j u s t   a s   t h e y   e n c o u n t e r   a n   a n a c h r o n i s t i c   G e n i e   i n   a   j u n k   s h o p .   T a l l i s   a d v i s e s   a n d   h e l p s   t o   p r o t e c t   t h e   c h i l d r e n   a s   t h e y   a r e   d r a w n   i n t o   a   m y s t e r y   i n v o l v i n g   t h e   G e n i e ,   a   s t r e e t   g a n g   c a l l e d   t h e   A l p h a b a t s ,   a n d   t h e   l o c a l   b i s h o p \\' s   s t r a n g e   b e h a v i o r .   D a v e   i s   s k e p t i c a l   o f   t h e   G e n i e ,   a s   i s   S u z y   A u s t i n ,   b u t   t h e   o t h e r s   a r e   n o t   s u r e .   C e n t r a l i z e d ,   s i n g l e - m i n d e d   a c t i v i t y   o n   t h e   p a r t   o f   t h e   c r i m i n a l   A l p h a b a t s   e x c i t e s   t h e   s u s p i c i o n   o f   C a n o n   T a l l i s ,   w h o   i n t e r r o g a t e s   D a v e   a n d   D r .   W a l l a c e   A u s t i n .   D r .   A u s t i n   h a s   b e e n   w o r k i n g   o n   t h e   c r e a t i o n   a n d   p e r f e c t i o n   o f   a   l a s e r - b a s e d   M i c r o - R a y ,   w h i c h   i s   s o   u n e r r i n g l y   p r e c i s e   t h a t   i t   m a y   d o   m o r e   t h a n   s i m p l y   p e n e t r a t e   t h e   c o r p o r e a l .   D a v e   w a s   o n c e   a   m e m b e r   o f   t h e   A l p h a b a t s ,   b u t   h a s   t u r n e d   f r o m   t h e i r   w a y s .   H e   i s   i n   d e n i a l   o f   h i s   p a s t ,   n o t   e v e n   t a l k i n g   a b o u t   i t .   T e n s i o n   b u i l d s   a s   t h e   \\' B a t s   t r y   t o   d r a w   D a v e   i n t o   t h e i r   n e w   m i s c h i e f ,   w h o s e   m a s t e r m i n d   i s   n o n e   o t h e r   t h a n   t h e   B i s h o p   h i m s e l f .   T h e   G e n i e   a p p e a r s   t o   b e   t h e   b i s h o p \\' s   s e r v a n t ,   a n d   a l s o   a p p e a r s   t o   p o s s e s s   a   M i c r o - R a y .   I t   i s   r e v e a l e d   t h a t   t h e   b i s h o p   h a s   g i v e n   u p   h o p e   f o r   t h e   w o r l d ;   t h a t   h e   h o p e s   t o   e s t a b l i s h   a   s t a t e   o f   c o n t r o l   o v e r   h u m a n i t y ,   w h e r e b y   h e   m a y   p r e v e n t   a n y t h i n g   h e   d e e m s   d e t r i m e n t a l   t o   i t s   s u c c e s s .   H i s   G e n i e ,   H y t h l o d a y ,   u s e s   t h e   M i c r o - R a y   t o   c o n t r o l   t h e   A l p h a b a t s .   A   c o n c e n t r a t e d   b e a m   f r o m   i t   s t i m u l a t e s   t h e   b r a i n \\' s   p l e a s u r e   c e n t e r ,   g i v i n g   t h e   v i c t i m   a   f e e l i n g   o f   f l i g h t .   T h e   A l p h a b a t s ,   h o p i n g   t o   r e c e i v e   m o r e   o f   t h i s   p l e a s u r e   a s   a   r e w a r d ,   c a r r y   o u t   t h e   b i s h o p \\' s   d e m a n d s .   E v e n t u a l l y ,   R o b   A u s t i n   i s   c a p t u r e d .   V i c k y   a n d   E m i l y   t r a c k   h i m   t o   t h e   C a t h e d r a l ,   w h e r e   t h e y   a r e   j o i n e d   b y   V i c k y \\' s   f a m i l y ,   C a n o n   T a l l i s ,   a n d   M r .   T h e o t o c o p u l o u s .   T h e   u n i t e d   g r o u p   e x p o s e   t h e   b i s h o p   a s   h i s   ( t h e   b i s h o p \\' s )   o w n   b r o t h e r ,   a c t o r   H e n r y   G r a n d c o u r t ,   i n   d i s g u i s e ;   b r e a k   a p a r t   h i s   p l a n s   t o   s e i z e   p o w e r ;   a n d   u n m a s k   H y t h l o d a y   a s   t h e   d i s h o n e s t   s c i e n t i s t   D r .   H y d e .   T h e   M i c r o - R a y   i s   s e i z e d .   D a v e   m a k e s   h i s   p e a c e   w i t h   b o t h   h i s   p a s t   a n d   f u t u r e ,   c o m i n g   e v e n t u a l l y   t o   l o o k   u p o n   t h o s e   w h o   h a v e   b e e n   w i t h   h i m   a s   h i s   f a m i l y .', 'I f   s o m e o n e   w e r e   t o   a s k   J a s m i n e   S a n t o s   t o   d e s c r i b e   t h e   l a s t   f e w   y e a r s   o f   h e r   l i f e   w i t h   a   s i n g l e   w o r d ,   i t   w o u l d   d e f i n i t e l y   b e   a   f o u r - l e t t e r   o n e . \\n \\n A f t e r   s e v e n t e e n   y e a r s — a n d   c o u n t l e s s   b r o k e n   b o n e s   a n d   b r o k e n   p r o m i s e s — s h e   k n o w s   h e r   w i n d o w   t o   c o m p e t e   i n   f i g u r e   s k a t i n g   i s   c o m i n g   t o   a   c l o s e . \\n \\n B u t   w h e n   t h e   o f f e r   o f   a   l i f e t i m e   c o m e s   i n   f r o m   a n   a r r o g a n t   i d i o t   s h e ’ s   s p e n t   t h e   l a s t   d e c a d e   d r e a m i n g   a b o u t   p u s h i n g   i n   t h e   w a y   o f   a   m o v i n g   b u s ,   J a s m i n e   m i g h t   h a v e   t o   r e c o n s i d e r   e v e r y t h i n g . \\n \\n I n c l u d i n g   I v a n   L u k o v .   ( l e s s )']\n"
     ]
    }
   ],
   "source": [
    "#Split sequence-level data splits into character-level data splits\n",
    "train_chars=[split_chars(sentence) for sentence in X_train.values.ravel()]\n",
    "test_chars=[split_chars(sentence) for sentence in X_test.values.ravel()]\n",
    "print(train_chars[:2])"
   ]
  },
  {
   "cell_type": "code",
   "execution_count": 155,
   "id": "0880a2ae",
   "metadata": {},
   "outputs": [
    {
     "data": {
      "text/plain": [
       "2073.7385701135318"
      ]
     },
     "execution_count": 155,
     "metadata": {},
     "output_type": "execute_result"
    }
   ],
   "source": [
    "#What´s the average character length?\n",
    "chars_lens=[len(sentence) for sentence in X_train.values.ravel()]\n",
    "mean_char_len=np.mean(chars_lens)\n",
    "mean_char_len"
   ]
  },
  {
   "cell_type": "code",
   "execution_count": 156,
   "id": "e12fed27",
   "metadata": {},
   "outputs": [
    {
     "data": {
      "image/png": "[encoded data removed]",
      "text/plain": [
       "<Figure size 640x480 with 1 Axes>"
      ]
     },
     "metadata": {},
     "output_type": "display_data"
    }
   ],
   "source": [
    "#Check the distribution of our sequences at a character-level\n",
    "import matplotlib.pyplot as plt\n",
    "plt.hist(chars_lens,bins=7);"
   ]
  },
  {
   "cell_type": "code",
   "execution_count": 157,
   "id": "77f03898",
   "metadata": {},
   "outputs": [
    {
     "data": {
      "text/plain": [
       "6602"
      ]
     },
     "execution_count": 157,
     "metadata": {},
     "output_type": "execute_result"
    }
   ],
   "source": [
    "#Find wha character length covers 95% of sequences\n",
    "output_seq_char_len=int(np.percentile(chars_lens,95))\n",
    "output_seq_char_len"
   ]
  },
  {
   "cell_type": "code",
   "execution_count": 158,
   "id": "7243321e",
   "metadata": {},
   "outputs": [
    {
     "data": {
      "text/plain": [
       "'abcdefghijklmnopqrstuvwxyz0123456789!\"#$%&\\'()*+,-./:;<=>?@[\\\\]^_`{|}~'"
      ]
     },
     "execution_count": 158,
     "metadata": {},
     "output_type": "execute_result"
    }
   ],
   "source": [
    "#Get all keyboard characters\n",
    "import string\n",
    "alphabet=string.ascii_lowercase+string.digits+string.punctuation\n",
    "alphabet"
   ]
  },
  {
   "cell_type": "code",
   "execution_count": 159,
   "id": "4f5a0284",
   "metadata": {},
   "outputs": [],
   "source": [
    "#Create char-level vectorizer instance\n",
    "num_char_tokens=len(alphabet)+2 #add 2 for space and OOV token (OOV=out of vocab,'[UNK]')\n",
    "char_vectorizer=TextVectorization(max_tokens=num_char_tokens,\n",
    "                                  # standardize=None, #set standarization to \"None\" if you want to leave punctuation in\n",
    "                                  output_sequence_length=output_seq_char_len,\n",
    "                                  name='char_vectorizer')"
   ]
  },
  {
   "cell_type": "code",
   "execution_count": 160,
   "id": "b373288a",
   "metadata": {},
   "outputs": [],
   "source": [
    "#Adapt character vectorizer to training character\n",
    "char_vectorizer.adapt(train_chars)"
   ]
  },
  {
   "cell_type": "code",
   "execution_count": 161,
   "id": "7832db0d",
   "metadata": {},
   "outputs": [
    {
     "name": "stdout",
     "output_type": "stream",
     "text": [
      "Number of different characters in character vocab: 70\n",
      "5 most common characters:['', '[UNK]', 'e', 't', 'a']\n",
      "5 least common characters:['ą', 'à', 'ć', 'ø', '\\xa0']\n"
     ]
    }
   ],
   "source": [
    "#Check character vocab stats\n",
    "char_vocab=char_vectorizer.get_vocabulary()\n",
    "print(f\"Number of different characters in character vocab: {len(char_vocab)}\") \n",
    "print(f\"5 most common characters:{char_vocab[:5]}\")\n",
    "print(f\"5 least common characters:{char_vocab[-5:]}\")"
   ]
  },
  {
   "cell_type": "code",
   "execution_count": 162,
   "id": "a12a47c7",
   "metadata": {},
   "outputs": [
    {
     "name": "stdout",
     "output_type": "stream",
     "text": [
      "Charified text:\n",
      "   T h e   s t o r y   b e g i n s   i n   T u s c a n y .   A   c a r p e n t e r   h a s   f o u n d   a   b l o c k   o f   p i n e w o o d   w h i c h   h e   p l a n s   t o   c a r v e   i n t o   a   l e g   f o r   h i s   t a b l e .   W h e n   h e   b e g i n s ,   h o w e v e r ,   t h e   l o g   s h o u t s   o u t ,   \" D o n ' t   s t r i k e   m e   t o o   h a r d ! \"   F r i g h t e n e d   b y   t h e   t a l k i n g   l o g ,   t h e   c a r p e n t e r ,   A n t o n i o   o r   M a s t e r   C h e r r y   a s   h e   i s   c a l l e d   d o e s   n o t   k n o w   w h a t   t o   d o   u n t i l   h i s   n e i g h b o r   G e p p e t t o ,   k n o w n   f o r   d i s l i k i n g   c h i l d r e n ,   d r o p s   b y   l o o k i n g   f o r   a   p i e c e   o f   w o o d   t o   b u i l d   a   m a r i o n e t t e .   S e e i n g   a   p e r f e c t   o p p o r t u n i t y ,   A n t o n i o   g i v e s   t h e   b l o c k   t o   G e p p e t t o .   G e p p e t t o   i s   e x t r e m e l y   p o o r   a n d   p l a n s   t o   m a k e   a   l i v i n g   a s   a   p u p p e t e e r .   H e   c a r v e s   t h e   b l o c k   i n t o   a   b o y   a n d   n a m e s   h i m   \" P i n o c c h i o \" .   A s   s o o n   a s   P i n o c c h i o ' s   n o s e   h a s   b e e n   c a r v e d ,   i t   b e g i n s   t o   g r o w   l o n g e r   a n d   l o n g e r   b e f o r e   G e p p e t t o   i s   f i n i s h e d   w i t h   h i m .   A f t e r   t h e   p u p p e t   i s   f i n i s h e d ,   G e p p e t t o   t e a c h e s   h i m   t o   w a l k   a n d   P i n o c c h i o   r u n s   o u t   t h e   d o o r   a n d   a w a y   i n t o   t h e   t o w n .   H e   i s   c a u g h t   b y   a   C a r a b i n i e r e   b u t   w h e n   p e o p l e   s a y   t h a t   G e p p e t t o   d i s l i k e s   c h i l d r e n ,   t h e   c a r a b i n e e r   a s s u m e s   t h a t   P i n o c c h i o   h a s   b e e n   m i s t r e a t e d   a n d   i m p r i s o n s   G e p p e t t o .   P i n o c c h i o   h e a d s   b a c k   t o   G e p p e t t o ' s   h o u s e   a n d   e n c o u n t e r s   T h e   T a l k i n g   C r i c k e t   w h o   h a s   l i v e d   i n   t h e   h o u s e   f o r   o v e r   a   c e n t u r y .   I t   t e l l s   h i m   t h a t   b o y s   w h o   d o   n o t   o b e y   t h e i r   p a r e n t s   g r o w   u p   t o   b e   d o n k e y s .   P i n o c c h i o   t h r o w s   a   h a m m e r   a t   t h e   c r i c k e t   a n d   a c c i d e n t a l l y   k i l l s   i t .   U n a b l e   t o   f i n d   f o o d   i n   t h e   h o u s e ,   P i n o c c h i o   v e n t u r e s   t o   a   n e i g h b o r ' s   h o u s e   t o   b e g   f o r   f o o d   a n d   t h e   a n n o y e d   n e i g h b o r   p o u r s   a   b a s i n   o f   w a t e r   o n   h i m .   P i n o c c h i o   r e t u r n s   h o m e   f r e e z i n g   a n d   t r i e s   t o   w a r m   h i m s e l f   b y   p l a c i n g   h i s   f e e t   u p o n   t h e   s t o v e .   T h e   n e x t   m o r n i n g   h e   w a k e s   t o   f i n d   t h a t   h i s   f e e t   h a v e   b u r n t   o f f .   G e p p e t t o ,   w h o   h a s   b e e n   r e l e a s e d   f r o m   j a i l   a n d   h a s   t h r e e   p e a r s   f o r   a   m e a l ,   m a k e s   h i s   s o n   a   n e w   p a i r   o f   f e e t .   I n   g r a t i t u d e ,   P i n o c c h i o   p r o m i s e s   t o   g o   t o   s c h o o l .   S i n c e   G e p p e t t o   h a s   n o   m o n e y   t o   b u y   s c h o o l   b o o k s ,   h e   s e l l s   h i s   o n l y   c o a t .   P i n o c c h i o   h e a d s   o f f   t o   s c h o o l ,   b u t   o n   t h e   w a y   h e   i s   d i s t r a c t e d   b y   s o m e   m u s i c   a n d   c r o w d s   a n d   h e   f o l l o w s   t h e   s o u n d s   u n t i l   h e   f i n d s   h i m s e l f   i n   a   c r o w d   o f   p e o p l e ,   a l l   c o n g r e g a t e d   t o   s e e   t h e   G r e a t   M a r i o n e t t e   T h e a t e r .   P i n o c c h i o   s e l l s   h i s   s c h o o l   b o o k s   f o r   t i c k e t s   t o   t h e   s h o w .   D u r i n g   t h e   p e r f o r m a n c e ,   t h e   p u p p e t s   H a r l e q u i n ,   P u n c h ,   a n d   S i g n o r a   R o s a u r a   s e e   P i n o c c h i o   a n d   c r y   o u t ,   \" I t   i s   o u r   b r o t h e r   P i n o c c h i o ! \"   T h e   a u d i e n c e   g r o w s   a n g r y ,   a n d   t h e   t h e a t e r   d i r e c t o r ,   M a n g i a f u o c o ,   c o m e s   o u t   t o   s e e   w h a t   i s   g o i n g   o n .   U p s e t ,   h e   d e c i d e s   t o   u s e   P i n o c c h i o   a s   f i r e w o o d   t o   c o o k   h i s   d i n n e r .   P i n o c c h i o   p l e a d s   t o   b e   s a v e d   a n d   M a n g i a f u o c o   g i v e s   i n .   W h e n   h e   l e a r n s   a b o u t   P i n o c c h i o ' s   p o o r   f a t h e r ,   h e   g i v e s   t h e   m a r i o n e t t e   f i v e   g o l d   p i e c e s   f o r   G e p p e t t o .   A s   P i n o c c h i o   h e a d s   h o m e   t o   g i v e   t h e   c o i n s   t o   h i s   f a t h e r ,   h e   m e e t s   a   f o x   a n d   a   c a t   w h o   c o n v i n c e   h i m   t h a t   i f   h e   p l a n t s   h i s   c o i n s   i n   t h e   F i e l d   o f   M i r a c l e s ,   o u t s i d e   t h e   c i t y   o f   C a t c h f o o l s ,   t h e n   t h e y   w i l l   g r o w   i n t o   a   t r e e   w i t h   a   t h o u s a n d   g o l d   c o i n s ,   o r   p e r h a p s   t w o   t h o u s a n d .   P i n o c c h i o   h e a d s   o f f   o n   a   j o u r n e y   t o   C a t c h f o o l s   w i t h   t h e   C a t   a n d   F o x .   O n   t h e   w a y ,   t h e y   s t o p   a t   t h e   I n n   o f   t h e   R e d   C r a y f i s h ,   w h e r e   t h e   F o x   a n d   C a t   g o r g e   t h e m s e l v e s   o n   f o o d   a t   P i n o c c h i o ' s   e x p e n s e .   T h e   f o x   a n d   c a t   t a k e   o f f   a h e a d   o f   P i n o c c h i o   a n d   d i s g u i s e   t h e m s e l v e s   a s   b a n d i t s   w h i l e   P i n o c c h i o   c o n t i n u e s   o n   t o w a r d   C a t c h f o o l s .   T h e   g h o s t   o f   t h e   T a l k i n g   C r i c k e t   a p p e a r s ,   t e l l i n g   h i m   t o   g o   h o m e   a n d   g i v e   t h e   c o i n s   t o   h i s   f a t h e r   b u t   P i n o c c h i o   i g n o r e s   h i m .   A s   h e   p a s s e s   t h r o u g h   t h e   f o r e s t ,   t h e   d i s g u i s e d   C a t   a n d   F o x   j u m p   o u t   a n d   t r y   t o   r o b   P i n o c c h i o ,   w h o   h i d e s   t h e   m o n e y   i n   h i s   m o u t h .   I n   t h e   s t r u g g l e   t h a t   f o l l o w s   P i n o c c h i o   b i t e s   t h e   C a t ' s   h a n d   o f f   a n d   e s c a p e s   d e e p e r   i n t o   t h e   f o r e s t   w h e r e   h e   s e e s   a   w h i t e   h o u s e   a h e a d .   S t o p p i n g   t o   k n o c k   o n   t h e   d o o r ,   h e   i s   g r e e t e d   b y   a   y o u n g   F a i r y   w i t h   T u r q u o i s e   H a i r ,   w h o   s a y s   s h e   i s   d e a d   a n d   w a i t i n g   t o   b e   t a k e n .   H o w e v e r ,   a s   h e   s p e a k s   t o   h e r ,   t h e   b a n d i t s   c a t c h   h i m   a n d   h a n g   h i m   i n   a   t r e e .   A f t e r   a   w h i l e   t h e   F o x   a n d   C a t   g e t   t i r e d   o f   w a i t i n g   f o r   t h e   m a r i o n e t t e   t o   s u f f o c a t e   a n d   l e a v e .   T h e   B l u e - h a i r e d   F a i r y   s e n d s   a   f a l c o n   a n d   a   p o o d l e   t o   r e s c u e   P i n o c c h i o ,   a n d   s h e   c a l l s   i n   t h r e e   f a m o u s   d o c t o r s   t o   t e l l   h e r   i f   P i n o c c h i o   i s   d e a d .   T h e   f i r s t   t w o   ( a n   o w l   a n d   a   c r o w )   a r e   u n c e r t a i n ,   b u t   t h e   t h i r d — t h e   T a l k i n g   C r i c k e t   t h a t   P i n o c c h i o   p r e s u m a b l y   k i l l e d   e a r l i e r — k n o w s   t h a t   P i n o c c h i o   i s   f i n e   a n d   t e l l s   t h e   m a r i o n e t t e   t h a t   h e   h a s   b e e n   d i s o b e d i e n t   a n d   h u r t   h i s   f a t h e r .   T h e   B l u e - h a i r e d   F a i r y   t r i e s   t o   m a k e   P i n o c c h i o   t a k e   m e d i c i n e ,   s a y i n g   h e   w i l l   s o o n   d i e   i f   h e   d o e s n ' t ,   b u t   h e   r e f u s e s   t o   t a k e   i t ,   d e s p i t e   p r o m i s i n g   t o   i f   h e   i s   g i v e n   s u g a r ,   w h i c h   t h e   B l u e - h a i r e d   F a i r y   g i v e s   h i m .   H o w e v e r   F o u r   B l a c k   R a b b i t s   t h e n   e n t e r   t h e   r o o m   w i t h   a   c o f f i n   a n d   t e l l   P i n o c c h i o   t h e y   h a v e   c o m e   t o   t a k e   h i m   a w a y ,   a s   h e   w i l l   b e   d e a d   s o o n .   P i n o c c h i o   t a k e s   t h e   m e d i c i n e   a n d   t h e   r a b b i t s   l e a v e .   T h e   B l u e - h a i r e d   F a i r y   a s k s   P i n o c c h i o   w h a t   h a p p e n e d   a n d   h e   t e l l s   h e r .   S h e   t h e n   a s k s   h i m   w h e r e   t h e   g o l d   c o i n s   a r e .   P i n o c c h i o   l i e s ,   s a y i n g   h e   h a s   l o s t   t h e m .   A s   h e   u t t e r s   t h i s   l i e   ( a n d   m o r e )   h i s   n o s e   b e g i n s   t o   g r o w   u n t i l   i t   i s   s o   l o n g   h e   c a n n o t   t u r n   a r o u n d   i n   t h e   r o o m .   T h e   F a i r y   e x p l a i n s   t o   P i n o c c h i o   t h a t   i t   i s   h i s   l i e s   t h a t   a r e   m a k i n g   h i s   n o s e   g r o w   l o n g ,   t h e n   c a l l s   i n   a   f l o c k   o f   w o o d p e c k e r s   t o   c h i s e l   d o w n   h i s   n o s e .   P i n o c c h i o   a n d   t h e   B l u e - h a i r e d   F a i r y   d e c i d e   t o   b e c o m e   b r o t h e r   a n d   s i s t e r ,   a n d   t h e   F a i r y   s e n d s   f o r   G e p p e t t o   t o   c o m e   l i v e   w i t h   t h e m   i n   t h e   f o r e s t .   P i n o c c h i o   h e a d s   o u t   t o   m e e t   h i s   f a t h e r ,   b u t   o n   t h e   w a y   h e   m e e t s   t h e   f o x   a n d   c a t   a g a i n   ( w h o m   h e   h a d   n o t   r e c o g n i z e d   a s   t h e   b a n d i t s ,   e v e n   t h o u g h   h e   h a s   a   h i n t   f r o m   t h e   c a t ' s   b a n d a g e d   f r o n t   p a w — w h i c h   h e   h a d   b i t t e n   e a r l i e r ;   t h e   f o x   t e l l s   h i m   t h e   c a t   h a d   s h o w n   m i s t a k e n   k i n d n e s s   t o   a   w o l f ) .   T h e y   r e m i n d   P i n o c c h i o   o f   t h e   F i e l d   o f   M i r a c l e s ,   a n d   f i n a l l y   h e   a g r e e s   t o   g o   w i t h   t h e m   a n d   p l a n t   h i s   g o l d .   A f t e r   h a l f   a   d a y ' s   j o u r n e y ,   t h e y   r e a c h   t h e   c i t y   o f   C a t c h f o o l s .   E v e r y o n e   i n   t h e   t o w n   h a s   d o n e   s o m e t h i n g   e x c e e d i n g l y   f o o l i s h   a n d   n o w   s u f f e r s   a s   a   r e s u l t .   W h e n   t h e y   r e a c h   t h e   \" F i e l d   o f   M i r a c l e s \" ,   P i n o c c h i o   b u r i e s   h i s   g o l d   t h e n   r u n s   o f f   t o   w a i t   t h e   t w e n t y   m i n u t e s   i t   w i l l   t a k e   f o r   h i s   g o l d   t o   g r o w .   A f t e r   t w e n t y   m i n u t e s   h e   r e t u r n s ,   o n l y   t o   f i n d   n o   t r e e   a n d — e v e n   w o r s e — n o   g o l d   c o i n s .   R e a l i z i n g   w h a t   h a s   h a p p e n e d   f r o m   a   b i r d ,   h e   g o e s   t o   C a t c h f o o l s   a n d   t e l l s   t h e   j u d g e ,   a n   o l d   G o r i l l a ,   a b o u t   t h e   f o x   a n d   c a t .   T h e   j u d g e   ( a s   i s   t h e   c u s t o m   i n   C a t c h f o o l s )   s e n d s   P i n o c c h i o   t o   p r i s o n   f o r   h i s   f o o l i s h n e s s   f o r   f o u r   m o n t h s .   W h i l e   h e   i s   i n   p r i s o n ,   h o w e v e r ,   t h e   e m p e r o r   o f   C a t c h f o o l s   d e c l a r e s   a   c e l e b r a t i o n ,   a n d   a l l   p r i s o n e r s   a r e   s e t   f r e e .   A s   P i n o c c h i o   h e a d s   b a c k   t o   t h e   f o r e s t ,   h e   f i n d s   a n   e n o r m o u s   s e r p e n t   w i t h   a   s m o k i n g   t a i l   b l o c k i n g   t h e   w a y .   A f t e r   s o m e   c o n f u s i o n ,   h e   a s k s   t h e   s e r p e n t   t o   m o v e ,   b u t   t h e   s e r p e n t   r e m a i n s   c o m p l e t e l y   s t i l l .   C o n c l u d i n g   t h a t   i t   i s   d e a d ,   P i n o c c h i o   b e g i n s   t o   s t e p   o v e r   i t ,   b u t   t h e   s e r p e n t   s u d d e n l y   r i s e s   u p   a n d   h i s s e s   a t   t h e   m a r i o n e t t e ,   t o p p l i n g   h i m   o v e r   o n t o   h i s   h e a d .   S t r u c k   b y   P i n o c c h i o ' s   f r i g h t   a n d   c o m i c a l   p o s i t i o n ,   t h e   s n a k e   l a u g h s   s o   h a r d ,   i t   b u r s t s   a n   a r t e r y   a n d   d i e s .   W h i l e   s n e a k i n g   i n t o   a   f a r m e r ' s   y a r d   t o   t a k e   s o m e   g r a p e s ,   P i n o c c h i o   i s   c a u g h t   i n   a   w e a s e l   t r a p .   H e   a s k s   a   b i r d   t o   h e l p   h i m ,   b u t   i t   r e f u s e s   a f t e r   h e a r i n g   P i n o c c h i o   w a s   p l a n n i n g   t o   s t e a l   g r a p e s .   W h e n   t h e   f a r m e r   c o m e s   o u t   a n d   f i n d s   P i n o c c h i o ,   h e   t i e s   h i m   u p   i n   a   d o g h o u s e   t o   g u a r d   h i s   c h i c k e n   c o o p .   T h a t   n i g h t ,   a   g r o u p   o f   w e a s e l s   c o m e   a n d   t e l l   P i n o c c h i o   t h a t   t h e y   h a d   m a d e   a   d e a l   w i t h   f o r m e r   w a t c h d o g   M e l a m p o   t o   l e t   t h e m   r a i d   t h e   c h i c k e n   c o o p   i f   h e   c o u l d   h a v e   a   c h i c k e n .   P i n o c c h i o   s a y s   h e   w a n t s   t w o   c h i c k e n s ,   s o   t h e   w e a s e l s   a g r e e   a n d   g o   i n t o   t h e   h e n h o u s e .   P i n o c c h i o   t h e n   l o c k s   t h e   d o o r   a n d   b a r k s   l o u d l y .   T h e   f a r m e r   g e t s   t h e   w e a s e l s   a n d   f r e e s   P i n o c c h i o   a s   a   r e w a r d .   P i n o c c h i o   c o m e s   t o   w h e r e   t h e   c o t t a g e   w a s   a n d   f i n d s   n o t h i n g   b u t   a   g r a v e s t o n e .   B e l i e v i n g   t h e   B l u e - h a i r e d   F a i r y   d i e d   f r o m   s o r r o w ,   h e   w e e p s   u n t i l   a   f r i e n d l y   p i g e o n   o f f e r s   t o   g i v e   h i m   a   r i d e   t o   t h e   s e a s h o r e ,   w h e r e   G e p p e t t o   i s   b u i l d i n g   a   b o a t   t o   g o   o u t   a n d   s e a r c h   f o r   P i n o c c h i o .   T h e y   f l y   t o   t h e   s e a s h o r e   a n d   P i n o c c h i o   s e e s   G e p p e t t o   o u t   i n   a   b o a t .   T h e   p u p p e t   l e a p s   i n t o   t h e   w a t e r   a n d   t r i e s   t o   s w i m   t o   G e p p e t t o ,   b u t   t h e   w a v e s   a r e   t o o   r o u g h   a n d   P i n o c c h i o   i s   w a s h e d   u n d e r w a t e r   a s   G e p p e t t o   i s   s w a l l o w e d   b y   a   t e r r i b l e   s h a r k .   A   k i n d l y   d o l p h i n   g i v e s   P i n o c c h i o   a   r i d e   t o   t h e   n e a r e s t   i s l a n d ,   w h i c h   i s   t h e   I s l a n d   o f   B u s y   B e e s .   E v e r y o n e   i s   w o r k i n g   a n d   n o   o n e   w i l l   g i v e   P i n o c c h i o   a n y   f o o d   a s   l o n g   a s   h e   w i l l   n o t   h e l p   t h e m .   H e   f i n a l l y   o f f e r s   t o   c a r r y   a   l a d y ' s   j u g   h o m e   i n   r e t u r n   f o r   f o o d   a n d   w a t e r .   W h e n   t h e y   g e t   t o   t h e   h o u s e ,   P i n o c c h i o   r e c o g n i z e s   t h e   l a d y   a s   t h e   B l u e - h a i r e d   F a i r y ,   n o w   m i r a c u l o u s l y   o l d   e n o u g h   t o   b e   h i s   m o t h e r .   S h e   s a y s   s h e   w i l l   a c t   a s   P i n o c c h i o ' s   m o t h e r   a n d   P i n o c c h i o   w i l l   b e g i n   g o i n g   t o   s c h o o l .   S h e   h i n t s   t h a t   i f   P i n o c c h i o   d o e s   w e l l   i n   s c h o o l   h e   w i l l   b e c o m e   a   r e a l   b o y .   P i n o c c h i o   s t a r t s   s c h o o l   t h e   n e x t   d a y   a n d   a f t e r   s h o w i n g   h i s   d e t e r m i n a t i o n   b e c o m e s   a   f r i e n d   t o   a l l   t h e   s c h o o l b o y s .   A   w h i l e   l a t e r   a   g r o u p   o f   b o y s   t r i c k   P i n o c c h i o   i n t o   p l a y i n g   h o o k e y   b y   s a y i n g   t h e y   s a w   a   l a r g e   w h a l e   a t   t h e   b e a c h .   H o p i n g   t h a t   i t   i s   t h e   s h a r k   t h a t   s w a l l o w e d   G e p p e t t o ,   h e   a c c o m p a n i e s   t h e m   t o   t h e   b e a c h   o n l y   t o   f i n d   h e   h a s   b e e n   f o o l e d .   H e   b e g i n s   f i g h t i n g   w i t h   t h e   b o y s   a n d   o n e   b o y   g r a b s   a   s c h o o l b o o k   o f   P i n o c c h i o ' s   a n d   t h r o w s   i t   a t   h i m .   T h e   m a r i o n e t t e   d u c k s   a n d   t h e   b o o k   h i t s   a n o t h e r   b o y   n a m e d   E u g e n e ,   w h o   i s   k n o c k e d   o u t .   T h e   o t h e r   b o y s   f l e e   w h i l e   P i n o c c h i o   t r i e s   t o   r e v i v e   E u g e n e .   T h e n   t w o   p o l i c e m e n   c o m e   u p   a n d   a c c u s e   P i n o c c h i o   o f   i n j u r i n g   E u g e n e .   B e f o r e   h e   c a n   e x p l a i n ,   t h e   p o l i c e m e n   g r a b   h i m   t o   t a k e   h i m   t o   j a i l — b u t   h e   e s c a p e s   a n d   i s   c h a s e d   i n t o   t h e   s e a   b y   t h e   p o l i c e   d o g .   T h e   d o g   s t a r t s   t o   d r o w n   a n d   P i n o c c h i o   s a v e s   h i m .   T h e   d o g   i s   g r a t e f u l   a n d   p r o m i s e s   t o   b e   P i n o c c h i o ' s   f r i e n d .   P i n o c c h i o   h a p p i l y   s t a r t s   s w i m m i n g   t o   s h o r e .   T h e n   T h e   G r e e n   F i s h e r m a n   c a t c h e s   P i n o c c h i o   i n   h i s   n e t   a n d   s t a r t s   t o   e a t   t h e   f i s h ,   s a y i n g   P i n o c c h i o   m u s t   b e   a   v e r y   s p e c i a l   f i s h .   T a k i n g   o f f   t h e   m a r i o n e t t e ' s   c l o t h e s   a n d   c o v e r i n g   h i m   w i t h   f l o u r ,   t h e   o g r e   p r e p a r e s   t o   e a t   P i n o c c h i o .   T h e   p o l i c e   d o g   t h e n   c o m e s   i n   a n d   r e s c u e s   P i n o c c h i o   f r o m   t h e   o g r e .   O n   t h e   w a y   h o m e ,   P i n o c c h i o   s t o p s   a t   a   m a n ' s   h o u s e   a n d   a s k s   a b o u t   E u g e n e .   T h e   m a n   s a y s   E u g e n e   i s   f i n e ,   b u t   t h a t   P i n o c c h i o   m u s t   b e   a   t r u a n t .   P i n o c c h i o   s a y s   t h a t   h e   i s   a l w a y s   t r u t h f u l   a n d   o b e d i e n t .   A g a i n   h i s   n o s e   g r o w s   l o n g e r   a n d   P i n o c c h i o   i m m e d i a t e l y   t e l l s   t h e   t r u t h   a b o u t   h i m s e l f ,   c a u s i n g   t h e   n o s e   t o   s h r i n k   b a c k   t o   n o r m a l .   P i n o c c h i o   g e t s   h o m e   i n   t h e   m i d d l e   o f   t h e   n i g h t .   H e   k n o c k s   o n   t h e   d o o r   a n d   a   s n a i l   o p e n s   t h e   t h i r d - s t o r y   w i n d o w .   P i n o c c h i o   p l e a d s   t o   b e   l e t   i n   a n d   t h e   s n a i l   s a y s   h e   w i l l   c o m e   d o w n .   S i n c e   a   s n a i l   i s   s l o w ,   i t   t a k e s   a l l   n i g h t   f o r   t h e   s n a i l   t o   c o m e   d o w n   a n d   l e t   P i n o c c h i o   i n .   B y   t h e   t i m e   t h e   s n a i l   c o m e s   d o w n   P i n o c c h i o   h a s   b a n g e d   h i s   f o o t   a g a i n s t   t h e   d o o r   a n d   g o t t e n   s t u c k .   T h e   s n a i l   b r i n g s   P i n o c c h i o   a r t i f i c i a l   f o o d   a n d   t h e   m a r i o n e t t e   f a i n t s .   W h e n   h e   w a k e s ,   h e   i s   o n   t h e   c o u c h   a n d   t h e   F a i r y   s a y s   s h e   w i l l   g i v e   h i m   a n o t h e r   c h a n c e .   P i n o c c h i o   d o e s   e x c e l l e n t l y   i n   s c h o o l   a n d   p a s s e s   w i t h   h i g h   h o n o r s .   T h e   F a i r y   p r o m i s e s   t h a t   P i n o c c h i o   w i l l   b e   a   r e a l   b o y   n e x t   d a y   a n d   s a y s   h e   s h o u l d   i n v i t e   a l l   h i s   f r i e n d s   t o   a   p a r t y .   H e   g o e s   t o   i n v i t e   e v e r y o n e ,   b u t   h e   i s   s i d e t r a c k e d   w h e n   h e   m e e t s   a   b o y   n a m e d   R o m e o — n i c k n a m e d   L a m p w i c k   b e c a u s e   h e   i s   s o   t a l l   a n d   s k i n n y .   L a m p w i c k   i s   a b o u t   t o   g o   t o   a   p l a c e   c a l l e d   T o y l a n d ,   w h e r e   e v e r y o n e   p l a y s   a l l   d a y   a n d   n e v e r   w o r k s .   P i n o c c h i o   g o e s   a l o n g   w i t h   h i m   a n d   t h e y   h a v e   a   w o n d e r f u l   t i m e   i n   t h e   l a n d   o f   P l a y — u n t i l   o n e   m o r n i n g   P i n o c c h i o   a w a k e s   w i t h   d o n k e y   e a r s .   A   S q u i r r e l   t e l l s   h i m   t h a t   b o y s   w h o   d o   n o t h i n g   b u t   p l a y   a n d   n e v e r   w o r k   a l w a y s   g r o w   i n t o   d o n k e y s .   W i t h i n   a   s h o r t   w h i l e   P i n o c c h i o   h a s   b e c o m e   a   d o n k e y .   H e   i s   s o l d   t o   a   c i r c u s   a n d   i s   t r a i n e d   t o   d o   a l l   k i n d s   o f   t r i c k s .   T h e n   o n e   n i g h t   i n   t h e   c i r c u s   h e   f a l l s   a n d   s p r a i n s   h i s   l e g .   T h e   c i r c u s   o w n e r   s e l l s   t h e   d o n k e y   t o   a   m a n   w h o   w a n t s   t o   s k i n   h i m   a n d   m a k e   a   d r u m .   T h e   m a n   t h r o w s   t h e   d o n k e y   i n t o   t h e   s e a   t o   d r o w n   h i m — a n d   b r i n g s   u p   a   l i v i n g   w o o d e n   b o y .   P i n o c c h i o   e x p l a i n s   t h a t   t h e   f i s h   a t e   a l l   t h e   d o n k e y   s k i n   o f f   o f   h i m   a n d   h e   i s   n o w   a   m a r i o n e t t e   a g a i n .   P i n o c c h i o   d i v e s   b a c k   i n t o   t h e   w a t e r   a n d   s w i m s   o u t   t o   s e a — w h e n   h e   i s   s w a l l o w e d   b y   T h e   T e r r i b l e   S h a r k .   I n s i d e   t h e   s h a r k   P i n o c c h i o   m e e t s   a   t u n a   w h o   i s   r e s i g n e d   t o   t h e   f a t e   a n d   j u s t   s a y s   t h e y   w i l l   h a v e   t o   w a i t   t o   b e   d i g e s t e d .   P i n o c c h i o   s e e s   a   l i g h t   f r o m   f a r   o f f   a n d   h e   f o l l o w s   t h e   l i g h t .   A t   t h e   o t h e r   e n d   i s   G e p p e t t o ,   w h o   h a d   b e e n   l i v i n g   o n   a   s h i p   t h a t   w a s   a l s o   i n   t h e   s h a r k .   P i n o c c h i o   a n d   G e p p e t t o   a n d   t h e   t u n a   m a n a g e   t o   g e t   o u t   f r o m   i n s i d e   t h e   s h a r k   a n d   P i n o c c h i o   h e r o i c a l l y   a t t e m p t s   t o   s w i m   w i t h   G e p p e t t o   t o   s h o r e ,   w h i c h   t u r n s   o u t   t o   b e   t o o   f a r ;   h o w e v e r ,   t h e   t u n a   r e s c u e s   t h e m   a n d   b r i n g s   t h e m   t o   s h o r e .   P i n o c c h i o   a n d   G e p p e t t o   t r y   t o   f i n d   a   p l a c e   t o   s t a y .   T h e y   p a s s   t w o   b e g g a r s ,   w h o   a r e   t h e   F o x   a n d   t h e   C a t .   T h e   C a t   i s ,   i r o n i c a l l y ,   r e a l l y   b l i n d   n o w ,   a n d   t h e   f o x   i s   a c t u a l l y   l a m e ,   t a i l l e s s   ( h a v i n g   s o l d   h i s   t a i l   f o r   m o n e y )   a n d   m a n g y .   T h e y   p l e a d   f o r   f o o d   o r   m o n e y ,   b u t   P i n o c c h i o   w i l l   g i v e   t h e m   n o t h i n g .   T h e y   a r r i v e   a t   a   s m a l l   h o u s e ,   a n d   l i v i n g   t h e r e   i s   t h e   T a l k i n g   C r i c k e t ,   w h o   s a y s   t h e y   c a n   s t a y .   P i n o c c h i o   g e t s   a   j o b   d o i n g   w o r k   f o r   a   f a r m e r ,   w h o s e   d o n k e y   i s   d y i n g .   P i n o c c h i o   r e c o g n i z e s   t h e   d o n k e y   a s   L a m p w i c k .   P i n o c c h i o   m o u r n s   o v e r   L a m p w i c k ' s   d e a d   b o d y   a n d   t h e   f a r m e r   i s   p e r p l e x e d   a s   t o   w h y .   P i n o c c h i o   s a y s   t h a t   L a m p w i c k   w a s   h i s   f r i e n d   a n d   t h e y   w e n t   t o   s c h o o l   t o g e t h e r ,   c a u s i n g   F a r m e r   J o h n   t o   b e   e v e n   m o r e   c o n f u s e d .   A f t e r   l o n g   m o n t h s   o f   w o r k i n g   f o r   t h e   f a r m e r   a n d   s u p p o r t i n g   t h e   a i l i n g   G e p p e t t o   h e   g o e s   t o   t o w n   w i t h   w h a t   m o n e y   h e   h a s   s a v e d   ( 4 0   p e n n i e s   t o   b e   e x a c t )   t o   b u y   h i m s e l f   a   n e w   s u i t .   H e   m e e t s   t h e   s n a i l ,   w h o   t e l l s   h i m   t h a t   t h e   B l u e - h a i r e d   F a i r y   i s   i l l   a n d   n e e d s   m o n e y .   P i n o c c h i o   i n s t a n t l y   g i v e s   t h e   s n a i l   a l l   t h e   m o n e y   h e   h a s ,   p r o m i s i n g   t h a t   h e   w i l l   h e l p   h i s   m o t h e r   a s   m u c h   a s   h e   i s   h e l p i n g   h i s   f a t h e r .   T h a t   n i g h t ,   h e   d r e a m s   h e   i s   v i s i t e d   b y   t h e   F a i r y ,   w h o   k i s s e s   h i m .   W h e n   h e   w a k e s   u p ,   h e   i s   a   r e a l   b o y   a t   l a s t .   F u r t h e r m o r e ,   P i n o c c h i o   f i n d s   t h a t   t h e   F a i r y   l e f t   h i m   a   n e w   s u i t   a n d   b o o t s ,   a n d   a   b a g   w h i c h   P i n o c c h i o   t h i n k s   i s   t h e   f o r t y   p e n n i e s   h e   o r i g i n a l l y   l o a n e d   t o   t h e   B l u e   F a i r y .   T h e   b o y   i s   s h o c k e d   t o   f i n d   i n s t e a d   f o r t y   f r e s h l y   m i n t e d   g o l d   c o i n s .   H e   i s   a l s o   r e u n i t e d   w i t h   G e p p e t t o ,   n o w   h e a l t h y   a n d   r e s u m i n g   w o o d c a r v i n g .   T h e y   l i v e   h a p p i l y   e v e r   a f t e r .\n",
      "\n",
      "Length of random_train_chars:11282\n",
      "\n",
      "Vectorized chars:\n",
      " [[ 3 10  2 ...  8 14  7]]\n",
      "\n",
      "Length of vectorized chars:6602\n"
     ]
    }
   ],
   "source": [
    "#Test out our character vectorizer\n",
    "random_train_chars=random.choice(train_chars)\n",
    "print(f\"Charified text:\\n {random_train_chars}\")\n",
    "print(f\"\\nLength of random_train_chars:{len(random_train_chars.split())}\")\n",
    "vectorized_chars=char_vectorizer([random_train_chars])\n",
    "print(f\"\\nVectorized chars:\\n {vectorized_chars}\")\n",
    "print(f\"\\nLength of vectorized chars:{len(vectorized_chars[0])}\")"
   ]
  },
  {
   "cell_type": "markdown",
   "id": "2ba3aeac",
   "metadata": {},
   "source": [
    "### Creating a character-level embedding"
   ]
  },
  {
   "cell_type": "code",
   "execution_count": 163,
   "id": "2ba08dc8",
   "metadata": {},
   "outputs": [],
   "source": [
    "#Create char embedding layer\n",
    "char_embed=layers.Embedding(input_dim=len(char_vocab), #number of different characters\n",
    "                            output_dim=25, #this is the size of the char embedding in the paper\n",
    "                            mask_zero=True,\n",
    "                            name='char_embed')"
   ]
  },
  {
   "cell_type": "code",
   "execution_count": 164,
   "id": "81980f88",
   "metadata": {},
   "outputs": [
    {
     "name": "stdout",
     "output_type": "stream",
     "text": [
      "Charified text:\n",
      "   T h e   s t o r y   b e g i n s   i n   T u s c a n y .   A   c a r p e n t e r   h a s   f o u n d   a   b l o c k   o f   p i n e w o o d   w h i c h   h e   p l a n s   t o   c a r v e   i n t o   a   l e g   f o r   h i s   t a b l e .   W h e n   h e   b e g i n s ,   h o w e v e r ,   t h e   l o g   s h o u t s   o u t ,   \" D o n ' t   s t r i k e   m e   t o o   h a r d ! \"   F r i g h t e n e d   b y   t h e   t a l k i n g   l o g ,   t h e   c a r p e n t e r ,   A n t o n i o   o r   M a s t e r   C h e r r y   a s   h e   i s   c a l l e d   d o e s   n o t   k n o w   w h a t   t o   d o   u n t i l   h i s   n e i g h b o r   G e p p e t t o ,   k n o w n   f o r   d i s l i k i n g   c h i l d r e n ,   d r o p s   b y   l o o k i n g   f o r   a   p i e c e   o f   w o o d   t o   b u i l d   a   m a r i o n e t t e .   S e e i n g   a   p e r f e c t   o p p o r t u n i t y ,   A n t o n i o   g i v e s   t h e   b l o c k   t o   G e p p e t t o .   G e p p e t t o   i s   e x t r e m e l y   p o o r   a n d   p l a n s   t o   m a k e   a   l i v i n g   a s   a   p u p p e t e e r .   H e   c a r v e s   t h e   b l o c k   i n t o   a   b o y   a n d   n a m e s   h i m   \" P i n o c c h i o \" .   A s   s o o n   a s   P i n o c c h i o ' s   n o s e   h a s   b e e n   c a r v e d ,   i t   b e g i n s   t o   g r o w   l o n g e r   a n d   l o n g e r   b e f o r e   G e p p e t t o   i s   f i n i s h e d   w i t h   h i m .   A f t e r   t h e   p u p p e t   i s   f i n i s h e d ,   G e p p e t t o   t e a c h e s   h i m   t o   w a l k   a n d   P i n o c c h i o   r u n s   o u t   t h e   d o o r   a n d   a w a y   i n t o   t h e   t o w n .   H e   i s   c a u g h t   b y   a   C a r a b i n i e r e   b u t   w h e n   p e o p l e   s a y   t h a t   G e p p e t t o   d i s l i k e s   c h i l d r e n ,   t h e   c a r a b i n e e r   a s s u m e s   t h a t   P i n o c c h i o   h a s   b e e n   m i s t r e a t e d   a n d   i m p r i s o n s   G e p p e t t o .   P i n o c c h i o   h e a d s   b a c k   t o   G e p p e t t o ' s   h o u s e   a n d   e n c o u n t e r s   T h e   T a l k i n g   C r i c k e t   w h o   h a s   l i v e d   i n   t h e   h o u s e   f o r   o v e r   a   c e n t u r y .   I t   t e l l s   h i m   t h a t   b o y s   w h o   d o   n o t   o b e y   t h e i r   p a r e n t s   g r o w   u p   t o   b e   d o n k e y s .   P i n o c c h i o   t h r o w s   a   h a m m e r   a t   t h e   c r i c k e t   a n d   a c c i d e n t a l l y   k i l l s   i t .   U n a b l e   t o   f i n d   f o o d   i n   t h e   h o u s e ,   P i n o c c h i o   v e n t u r e s   t o   a   n e i g h b o r ' s   h o u s e   t o   b e g   f o r   f o o d   a n d   t h e   a n n o y e d   n e i g h b o r   p o u r s   a   b a s i n   o f   w a t e r   o n   h i m .   P i n o c c h i o   r e t u r n s   h o m e   f r e e z i n g   a n d   t r i e s   t o   w a r m   h i m s e l f   b y   p l a c i n g   h i s   f e e t   u p o n   t h e   s t o v e .   T h e   n e x t   m o r n i n g   h e   w a k e s   t o   f i n d   t h a t   h i s   f e e t   h a v e   b u r n t   o f f .   G e p p e t t o ,   w h o   h a s   b e e n   r e l e a s e d   f r o m   j a i l   a n d   h a s   t h r e e   p e a r s   f o r   a   m e a l ,   m a k e s   h i s   s o n   a   n e w   p a i r   o f   f e e t .   I n   g r a t i t u d e ,   P i n o c c h i o   p r o m i s e s   t o   g o   t o   s c h o o l .   S i n c e   G e p p e t t o   h a s   n o   m o n e y   t o   b u y   s c h o o l   b o o k s ,   h e   s e l l s   h i s   o n l y   c o a t .   P i n o c c h i o   h e a d s   o f f   t o   s c h o o l ,   b u t   o n   t h e   w a y   h e   i s   d i s t r a c t e d   b y   s o m e   m u s i c   a n d   c r o w d s   a n d   h e   f o l l o w s   t h e   s o u n d s   u n t i l   h e   f i n d s   h i m s e l f   i n   a   c r o w d   o f   p e o p l e ,   a l l   c o n g r e g a t e d   t o   s e e   t h e   G r e a t   M a r i o n e t t e   T h e a t e r .   P i n o c c h i o   s e l l s   h i s   s c h o o l   b o o k s   f o r   t i c k e t s   t o   t h e   s h o w .   D u r i n g   t h e   p e r f o r m a n c e ,   t h e   p u p p e t s   H a r l e q u i n ,   P u n c h ,   a n d   S i g n o r a   R o s a u r a   s e e   P i n o c c h i o   a n d   c r y   o u t ,   \" I t   i s   o u r   b r o t h e r   P i n o c c h i o ! \"   T h e   a u d i e n c e   g r o w s   a n g r y ,   a n d   t h e   t h e a t e r   d i r e c t o r ,   M a n g i a f u o c o ,   c o m e s   o u t   t o   s e e   w h a t   i s   g o i n g   o n .   U p s e t ,   h e   d e c i d e s   t o   u s e   P i n o c c h i o   a s   f i r e w o o d   t o   c o o k   h i s   d i n n e r .   P i n o c c h i o   p l e a d s   t o   b e   s a v e d   a n d   M a n g i a f u o c o   g i v e s   i n .   W h e n   h e   l e a r n s   a b o u t   P i n o c c h i o ' s   p o o r   f a t h e r ,   h e   g i v e s   t h e   m a r i o n e t t e   f i v e   g o l d   p i e c e s   f o r   G e p p e t t o .   A s   P i n o c c h i o   h e a d s   h o m e   t o   g i v e   t h e   c o i n s   t o   h i s   f a t h e r ,   h e   m e e t s   a   f o x   a n d   a   c a t   w h o   c o n v i n c e   h i m   t h a t   i f   h e   p l a n t s   h i s   c o i n s   i n   t h e   F i e l d   o f   M i r a c l e s ,   o u t s i d e   t h e   c i t y   o f   C a t c h f o o l s ,   t h e n   t h e y   w i l l   g r o w   i n t o   a   t r e e   w i t h   a   t h o u s a n d   g o l d   c o i n s ,   o r   p e r h a p s   t w o   t h o u s a n d .   P i n o c c h i o   h e a d s   o f f   o n   a   j o u r n e y   t o   C a t c h f o o l s   w i t h   t h e   C a t   a n d   F o x .   O n   t h e   w a y ,   t h e y   s t o p   a t   t h e   I n n   o f   t h e   R e d   C r a y f i s h ,   w h e r e   t h e   F o x   a n d   C a t   g o r g e   t h e m s e l v e s   o n   f o o d   a t   P i n o c c h i o ' s   e x p e n s e .   T h e   f o x   a n d   c a t   t a k e   o f f   a h e a d   o f   P i n o c c h i o   a n d   d i s g u i s e   t h e m s e l v e s   a s   b a n d i t s   w h i l e   P i n o c c h i o   c o n t i n u e s   o n   t o w a r d   C a t c h f o o l s .   T h e   g h o s t   o f   t h e   T a l k i n g   C r i c k e t   a p p e a r s ,   t e l l i n g   h i m   t o   g o   h o m e   a n d   g i v e   t h e   c o i n s   t o   h i s   f a t h e r   b u t   P i n o c c h i o   i g n o r e s   h i m .   A s   h e   p a s s e s   t h r o u g h   t h e   f o r e s t ,   t h e   d i s g u i s e d   C a t   a n d   F o x   j u m p   o u t   a n d   t r y   t o   r o b   P i n o c c h i o ,   w h o   h i d e s   t h e   m o n e y   i n   h i s   m o u t h .   I n   t h e   s t r u g g l e   t h a t   f o l l o w s   P i n o c c h i o   b i t e s   t h e   C a t ' s   h a n d   o f f   a n d   e s c a p e s   d e e p e r   i n t o   t h e   f o r e s t   w h e r e   h e   s e e s   a   w h i t e   h o u s e   a h e a d .   S t o p p i n g   t o   k n o c k   o n   t h e   d o o r ,   h e   i s   g r e e t e d   b y   a   y o u n g   F a i r y   w i t h   T u r q u o i s e   H a i r ,   w h o   s a y s   s h e   i s   d e a d   a n d   w a i t i n g   t o   b e   t a k e n .   H o w e v e r ,   a s   h e   s p e a k s   t o   h e r ,   t h e   b a n d i t s   c a t c h   h i m   a n d   h a n g   h i m   i n   a   t r e e .   A f t e r   a   w h i l e   t h e   F o x   a n d   C a t   g e t   t i r e d   o f   w a i t i n g   f o r   t h e   m a r i o n e t t e   t o   s u f f o c a t e   a n d   l e a v e .   T h e   B l u e - h a i r e d   F a i r y   s e n d s   a   f a l c o n   a n d   a   p o o d l e   t o   r e s c u e   P i n o c c h i o ,   a n d   s h e   c a l l s   i n   t h r e e   f a m o u s   d o c t o r s   t o   t e l l   h e r   i f   P i n o c c h i o   i s   d e a d .   T h e   f i r s t   t w o   ( a n   o w l   a n d   a   c r o w )   a r e   u n c e r t a i n ,   b u t   t h e   t h i r d — t h e   T a l k i n g   C r i c k e t   t h a t   P i n o c c h i o   p r e s u m a b l y   k i l l e d   e a r l i e r — k n o w s   t h a t   P i n o c c h i o   i s   f i n e   a n d   t e l l s   t h e   m a r i o n e t t e   t h a t   h e   h a s   b e e n   d i s o b e d i e n t   a n d   h u r t   h i s   f a t h e r .   T h e   B l u e - h a i r e d   F a i r y   t r i e s   t o   m a k e   P i n o c c h i o   t a k e   m e d i c i n e ,   s a y i n g   h e   w i l l   s o o n   d i e   i f   h e   d o e s n ' t ,   b u t   h e   r e f u s e s   t o   t a k e   i t ,   d e s p i t e   p r o m i s i n g   t o   i f   h e   i s   g i v e n   s u g a r ,   w h i c h   t h e   B l u e - h a i r e d   F a i r y   g i v e s   h i m .   H o w e v e r   F o u r   B l a c k   R a b b i t s   t h e n   e n t e r   t h e   r o o m   w i t h   a   c o f f i n   a n d   t e l l   P i n o c c h i o   t h e y   h a v e   c o m e   t o   t a k e   h i m   a w a y ,   a s   h e   w i l l   b e   d e a d   s o o n .   P i n o c c h i o   t a k e s   t h e   m e d i c i n e   a n d   t h e   r a b b i t s   l e a v e .   T h e   B l u e - h a i r e d   F a i r y   a s k s   P i n o c c h i o   w h a t   h a p p e n e d   a n d   h e   t e l l s   h e r .   S h e   t h e n   a s k s   h i m   w h e r e   t h e   g o l d   c o i n s   a r e .   P i n o c c h i o   l i e s ,   s a y i n g   h e   h a s   l o s t   t h e m .   A s   h e   u t t e r s   t h i s   l i e   ( a n d   m o r e )   h i s   n o s e   b e g i n s   t o   g r o w   u n t i l   i t   i s   s o   l o n g   h e   c a n n o t   t u r n   a r o u n d   i n   t h e   r o o m .   T h e   F a i r y   e x p l a i n s   t o   P i n o c c h i o   t h a t   i t   i s   h i s   l i e s   t h a t   a r e   m a k i n g   h i s   n o s e   g r o w   l o n g ,   t h e n   c a l l s   i n   a   f l o c k   o f   w o o d p e c k e r s   t o   c h i s e l   d o w n   h i s   n o s e .   P i n o c c h i o   a n d   t h e   B l u e - h a i r e d   F a i r y   d e c i d e   t o   b e c o m e   b r o t h e r   a n d   s i s t e r ,   a n d   t h e   F a i r y   s e n d s   f o r   G e p p e t t o   t o   c o m e   l i v e   w i t h   t h e m   i n   t h e   f o r e s t .   P i n o c c h i o   h e a d s   o u t   t o   m e e t   h i s   f a t h e r ,   b u t   o n   t h e   w a y   h e   m e e t s   t h e   f o x   a n d   c a t   a g a i n   ( w h o m   h e   h a d   n o t   r e c o g n i z e d   a s   t h e   b a n d i t s ,   e v e n   t h o u g h   h e   h a s   a   h i n t   f r o m   t h e   c a t ' s   b a n d a g e d   f r o n t   p a w — w h i c h   h e   h a d   b i t t e n   e a r l i e r ;   t h e   f o x   t e l l s   h i m   t h e   c a t   h a d   s h o w n   m i s t a k e n   k i n d n e s s   t o   a   w o l f ) .   T h e y   r e m i n d   P i n o c c h i o   o f   t h e   F i e l d   o f   M i r a c l e s ,   a n d   f i n a l l y   h e   a g r e e s   t o   g o   w i t h   t h e m   a n d   p l a n t   h i s   g o l d .   A f t e r   h a l f   a   d a y ' s   j o u r n e y ,   t h e y   r e a c h   t h e   c i t y   o f   C a t c h f o o l s .   E v e r y o n e   i n   t h e   t o w n   h a s   d o n e   s o m e t h i n g   e x c e e d i n g l y   f o o l i s h   a n d   n o w   s u f f e r s   a s   a   r e s u l t .   W h e n   t h e y   r e a c h   t h e   \" F i e l d   o f   M i r a c l e s \" ,   P i n o c c h i o   b u r i e s   h i s   g o l d   t h e n   r u n s   o f f   t o   w a i t   t h e   t w e n t y   m i n u t e s   i t   w i l l   t a k e   f o r   h i s   g o l d   t o   g r o w .   A f t e r   t w e n t y   m i n u t e s   h e   r e t u r n s ,   o n l y   t o   f i n d   n o   t r e e   a n d — e v e n   w o r s e — n o   g o l d   c o i n s .   R e a l i z i n g   w h a t   h a s   h a p p e n e d   f r o m   a   b i r d ,   h e   g o e s   t o   C a t c h f o o l s   a n d   t e l l s   t h e   j u d g e ,   a n   o l d   G o r i l l a ,   a b o u t   t h e   f o x   a n d   c a t .   T h e   j u d g e   ( a s   i s   t h e   c u s t o m   i n   C a t c h f o o l s )   s e n d s   P i n o c c h i o   t o   p r i s o n   f o r   h i s   f o o l i s h n e s s   f o r   f o u r   m o n t h s .   W h i l e   h e   i s   i n   p r i s o n ,   h o w e v e r ,   t h e   e m p e r o r   o f   C a t c h f o o l s   d e c l a r e s   a   c e l e b r a t i o n ,   a n d   a l l   p r i s o n e r s   a r e   s e t   f r e e .   A s   P i n o c c h i o   h e a d s   b a c k   t o   t h e   f o r e s t ,   h e   f i n d s   a n   e n o r m o u s   s e r p e n t   w i t h   a   s m o k i n g   t a i l   b l o c k i n g   t h e   w a y .   A f t e r   s o m e   c o n f u s i o n ,   h e   a s k s   t h e   s e r p e n t   t o   m o v e ,   b u t   t h e   s e r p e n t   r e m a i n s   c o m p l e t e l y   s t i l l .   C o n c l u d i n g   t h a t   i t   i s   d e a d ,   P i n o c c h i o   b e g i n s   t o   s t e p   o v e r   i t ,   b u t   t h e   s e r p e n t   s u d d e n l y   r i s e s   u p   a n d   h i s s e s   a t   t h e   m a r i o n e t t e ,   t o p p l i n g   h i m   o v e r   o n t o   h i s   h e a d .   S t r u c k   b y   P i n o c c h i o ' s   f r i g h t   a n d   c o m i c a l   p o s i t i o n ,   t h e   s n a k e   l a u g h s   s o   h a r d ,   i t   b u r s t s   a n   a r t e r y   a n d   d i e s .   W h i l e   s n e a k i n g   i n t o   a   f a r m e r ' s   y a r d   t o   t a k e   s o m e   g r a p e s ,   P i n o c c h i o   i s   c a u g h t   i n   a   w e a s e l   t r a p .   H e   a s k s   a   b i r d   t o   h e l p   h i m ,   b u t   i t   r e f u s e s   a f t e r   h e a r i n g   P i n o c c h i o   w a s   p l a n n i n g   t o   s t e a l   g r a p e s .   W h e n   t h e   f a r m e r   c o m e s   o u t   a n d   f i n d s   P i n o c c h i o ,   h e   t i e s   h i m   u p   i n   a   d o g h o u s e   t o   g u a r d   h i s   c h i c k e n   c o o p .   T h a t   n i g h t ,   a   g r o u p   o f   w e a s e l s   c o m e   a n d   t e l l   P i n o c c h i o   t h a t   t h e y   h a d   m a d e   a   d e a l   w i t h   f o r m e r   w a t c h d o g   M e l a m p o   t o   l e t   t h e m   r a i d   t h e   c h i c k e n   c o o p   i f   h e   c o u l d   h a v e   a   c h i c k e n .   P i n o c c h i o   s a y s   h e   w a n t s   t w o   c h i c k e n s ,   s o   t h e   w e a s e l s   a g r e e   a n d   g o   i n t o   t h e   h e n h o u s e .   P i n o c c h i o   t h e n   l o c k s   t h e   d o o r   a n d   b a r k s   l o u d l y .   T h e   f a r m e r   g e t s   t h e   w e a s e l s   a n d   f r e e s   P i n o c c h i o   a s   a   r e w a r d .   P i n o c c h i o   c o m e s   t o   w h e r e   t h e   c o t t a g e   w a s   a n d   f i n d s   n o t h i n g   b u t   a   g r a v e s t o n e .   B e l i e v i n g   t h e   B l u e - h a i r e d   F a i r y   d i e d   f r o m   s o r r o w ,   h e   w e e p s   u n t i l   a   f r i e n d l y   p i g e o n   o f f e r s   t o   g i v e   h i m   a   r i d e   t o   t h e   s e a s h o r e ,   w h e r e   G e p p e t t o   i s   b u i l d i n g   a   b o a t   t o   g o   o u t   a n d   s e a r c h   f o r   P i n o c c h i o .   T h e y   f l y   t o   t h e   s e a s h o r e   a n d   P i n o c c h i o   s e e s   G e p p e t t o   o u t   i n   a   b o a t .   T h e   p u p p e t   l e a p s   i n t o   t h e   w a t e r   a n d   t r i e s   t o   s w i m   t o   G e p p e t t o ,   b u t   t h e   w a v e s   a r e   t o o   r o u g h   a n d   P i n o c c h i o   i s   w a s h e d   u n d e r w a t e r   a s   G e p p e t t o   i s   s w a l l o w e d   b y   a   t e r r i b l e   s h a r k .   A   k i n d l y   d o l p h i n   g i v e s   P i n o c c h i o   a   r i d e   t o   t h e   n e a r e s t   i s l a n d ,   w h i c h   i s   t h e   I s l a n d   o f   B u s y   B e e s .   E v e r y o n e   i s   w o r k i n g   a n d   n o   o n e   w i l l   g i v e   P i n o c c h i o   a n y   f o o d   a s   l o n g   a s   h e   w i l l   n o t   h e l p   t h e m .   H e   f i n a l l y   o f f e r s   t o   c a r r y   a   l a d y ' s   j u g   h o m e   i n   r e t u r n   f o r   f o o d   a n d   w a t e r .   W h e n   t h e y   g e t   t o   t h e   h o u s e ,   P i n o c c h i o   r e c o g n i z e s   t h e   l a d y   a s   t h e   B l u e - h a i r e d   F a i r y ,   n o w   m i r a c u l o u s l y   o l d   e n o u g h   t o   b e   h i s   m o t h e r .   S h e   s a y s   s h e   w i l l   a c t   a s   P i n o c c h i o ' s   m o t h e r   a n d   P i n o c c h i o   w i l l   b e g i n   g o i n g   t o   s c h o o l .   S h e   h i n t s   t h a t   i f   P i n o c c h i o   d o e s   w e l l   i n   s c h o o l   h e   w i l l   b e c o m e   a   r e a l   b o y .   P i n o c c h i o   s t a r t s   s c h o o l   t h e   n e x t   d a y   a n d   a f t e r   s h o w i n g   h i s   d e t e r m i n a t i o n   b e c o m e s   a   f r i e n d   t o   a l l   t h e   s c h o o l b o y s .   A   w h i l e   l a t e r   a   g r o u p   o f   b o y s   t r i c k   P i n o c c h i o   i n t o   p l a y i n g   h o o k e y   b y   s a y i n g   t h e y   s a w   a   l a r g e   w h a l e   a t   t h e   b e a c h .   H o p i n g   t h a t   i t   i s   t h e   s h a r k   t h a t   s w a l l o w e d   G e p p e t t o ,   h e   a c c o m p a n i e s   t h e m   t o   t h e   b e a c h   o n l y   t o   f i n d   h e   h a s   b e e n   f o o l e d .   H e   b e g i n s   f i g h t i n g   w i t h   t h e   b o y s   a n d   o n e   b o y   g r a b s   a   s c h o o l b o o k   o f   P i n o c c h i o ' s   a n d   t h r o w s   i t   a t   h i m .   T h e   m a r i o n e t t e   d u c k s   a n d   t h e   b o o k   h i t s   a n o t h e r   b o y   n a m e d   E u g e n e ,   w h o   i s   k n o c k e d   o u t .   T h e   o t h e r   b o y s   f l e e   w h i l e   P i n o c c h i o   t r i e s   t o   r e v i v e   E u g e n e .   T h e n   t w o   p o l i c e m e n   c o m e   u p   a n d   a c c u s e   P i n o c c h i o   o f   i n j u r i n g   E u g e n e .   B e f o r e   h e   c a n   e x p l a i n ,   t h e   p o l i c e m e n   g r a b   h i m   t o   t a k e   h i m   t o   j a i l — b u t   h e   e s c a p e s   a n d   i s   c h a s e d   i n t o   t h e   s e a   b y   t h e   p o l i c e   d o g .   T h e   d o g   s t a r t s   t o   d r o w n   a n d   P i n o c c h i o   s a v e s   h i m .   T h e   d o g   i s   g r a t e f u l   a n d   p r o m i s e s   t o   b e   P i n o c c h i o ' s   f r i e n d .   P i n o c c h i o   h a p p i l y   s t a r t s   s w i m m i n g   t o   s h o r e .   T h e n   T h e   G r e e n   F i s h e r m a n   c a t c h e s   P i n o c c h i o   i n   h i s   n e t   a n d   s t a r t s   t o   e a t   t h e   f i s h ,   s a y i n g   P i n o c c h i o   m u s t   b e   a   v e r y   s p e c i a l   f i s h .   T a k i n g   o f f   t h e   m a r i o n e t t e ' s   c l o t h e s   a n d   c o v e r i n g   h i m   w i t h   f l o u r ,   t h e   o g r e   p r e p a r e s   t o   e a t   P i n o c c h i o .   T h e   p o l i c e   d o g   t h e n   c o m e s   i n   a n d   r e s c u e s   P i n o c c h i o   f r o m   t h e   o g r e .   O n   t h e   w a y   h o m e ,   P i n o c c h i o   s t o p s   a t   a   m a n ' s   h o u s e   a n d   a s k s   a b o u t   E u g e n e .   T h e   m a n   s a y s   E u g e n e   i s   f i n e ,   b u t   t h a t   P i n o c c h i o   m u s t   b e   a   t r u a n t .   P i n o c c h i o   s a y s   t h a t   h e   i s   a l w a y s   t r u t h f u l   a n d   o b e d i e n t .   A g a i n   h i s   n o s e   g r o w s   l o n g e r   a n d   P i n o c c h i o   i m m e d i a t e l y   t e l l s   t h e   t r u t h   a b o u t   h i m s e l f ,   c a u s i n g   t h e   n o s e   t o   s h r i n k   b a c k   t o   n o r m a l .   P i n o c c h i o   g e t s   h o m e   i n   t h e   m i d d l e   o f   t h e   n i g h t .   H e   k n o c k s   o n   t h e   d o o r   a n d   a   s n a i l   o p e n s   t h e   t h i r d - s t o r y   w i n d o w .   P i n o c c h i o   p l e a d s   t o   b e   l e t   i n   a n d   t h e   s n a i l   s a y s   h e   w i l l   c o m e   d o w n .   S i n c e   a   s n a i l   i s   s l o w ,   i t   t a k e s   a l l   n i g h t   f o r   t h e   s n a i l   t o   c o m e   d o w n   a n d   l e t   P i n o c c h i o   i n .   B y   t h e   t i m e   t h e   s n a i l   c o m e s   d o w n   P i n o c c h i o   h a s   b a n g e d   h i s   f o o t   a g a i n s t   t h e   d o o r   a n d   g o t t e n   s t u c k .   T h e   s n a i l   b r i n g s   P i n o c c h i o   a r t i f i c i a l   f o o d   a n d   t h e   m a r i o n e t t e   f a i n t s .   W h e n   h e   w a k e s ,   h e   i s   o n   t h e   c o u c h   a n d   t h e   F a i r y   s a y s   s h e   w i l l   g i v e   h i m   a n o t h e r   c h a n c e .   P i n o c c h i o   d o e s   e x c e l l e n t l y   i n   s c h o o l   a n d   p a s s e s   w i t h   h i g h   h o n o r s .   T h e   F a i r y   p r o m i s e s   t h a t   P i n o c c h i o   w i l l   b e   a   r e a l   b o y   n e x t   d a y   a n d   s a y s   h e   s h o u l d   i n v i t e   a l l   h i s   f r i e n d s   t o   a   p a r t y .   H e   g o e s   t o   i n v i t e   e v e r y o n e ,   b u t   h e   i s   s i d e t r a c k e d   w h e n   h e   m e e t s   a   b o y   n a m e d   R o m e o — n i c k n a m e d   L a m p w i c k   b e c a u s e   h e   i s   s o   t a l l   a n d   s k i n n y .   L a m p w i c k   i s   a b o u t   t o   g o   t o   a   p l a c e   c a l l e d   T o y l a n d ,   w h e r e   e v e r y o n e   p l a y s   a l l   d a y   a n d   n e v e r   w o r k s .   P i n o c c h i o   g o e s   a l o n g   w i t h   h i m   a n d   t h e y   h a v e   a   w o n d e r f u l   t i m e   i n   t h e   l a n d   o f   P l a y — u n t i l   o n e   m o r n i n g   P i n o c c h i o   a w a k e s   w i t h   d o n k e y   e a r s .   A   S q u i r r e l   t e l l s   h i m   t h a t   b o y s   w h o   d o   n o t h i n g   b u t   p l a y   a n d   n e v e r   w o r k   a l w a y s   g r o w   i n t o   d o n k e y s .   W i t h i n   a   s h o r t   w h i l e   P i n o c c h i o   h a s   b e c o m e   a   d o n k e y .   H e   i s   s o l d   t o   a   c i r c u s   a n d   i s   t r a i n e d   t o   d o   a l l   k i n d s   o f   t r i c k s .   T h e n   o n e   n i g h t   i n   t h e   c i r c u s   h e   f a l l s   a n d   s p r a i n s   h i s   l e g .   T h e   c i r c u s   o w n e r   s e l l s   t h e   d o n k e y   t o   a   m a n   w h o   w a n t s   t o   s k i n   h i m   a n d   m a k e   a   d r u m .   T h e   m a n   t h r o w s   t h e   d o n k e y   i n t o   t h e   s e a   t o   d r o w n   h i m — a n d   b r i n g s   u p   a   l i v i n g   w o o d e n   b o y .   P i n o c c h i o   e x p l a i n s   t h a t   t h e   f i s h   a t e   a l l   t h e   d o n k e y   s k i n   o f f   o f   h i m   a n d   h e   i s   n o w   a   m a r i o n e t t e   a g a i n .   P i n o c c h i o   d i v e s   b a c k   i n t o   t h e   w a t e r   a n d   s w i m s   o u t   t o   s e a — w h e n   h e   i s   s w a l l o w e d   b y   T h e   T e r r i b l e   S h a r k .   I n s i d e   t h e   s h a r k   P i n o c c h i o   m e e t s   a   t u n a   w h o   i s   r e s i g n e d   t o   t h e   f a t e   a n d   j u s t   s a y s   t h e y   w i l l   h a v e   t o   w a i t   t o   b e   d i g e s t e d .   P i n o c c h i o   s e e s   a   l i g h t   f r o m   f a r   o f f   a n d   h e   f o l l o w s   t h e   l i g h t .   A t   t h e   o t h e r   e n d   i s   G e p p e t t o ,   w h o   h a d   b e e n   l i v i n g   o n   a   s h i p   t h a t   w a s   a l s o   i n   t h e   s h a r k .   P i n o c c h i o   a n d   G e p p e t t o   a n d   t h e   t u n a   m a n a g e   t o   g e t   o u t   f r o m   i n s i d e   t h e   s h a r k   a n d   P i n o c c h i o   h e r o i c a l l y   a t t e m p t s   t o   s w i m   w i t h   G e p p e t t o   t o   s h o r e ,   w h i c h   t u r n s   o u t   t o   b e   t o o   f a r ;   h o w e v e r ,   t h e   t u n a   r e s c u e s   t h e m   a n d   b r i n g s   t h e m   t o   s h o r e .   P i n o c c h i o   a n d   G e p p e t t o   t r y   t o   f i n d   a   p l a c e   t o   s t a y .   T h e y   p a s s   t w o   b e g g a r s ,   w h o   a r e   t h e   F o x   a n d   t h e   C a t .   T h e   C a t   i s ,   i r o n i c a l l y ,   r e a l l y   b l i n d   n o w ,   a n d   t h e   f o x   i s   a c t u a l l y   l a m e ,   t a i l l e s s   ( h a v i n g   s o l d   h i s   t a i l   f o r   m o n e y )   a n d   m a n g y .   T h e y   p l e a d   f o r   f o o d   o r   m o n e y ,   b u t   P i n o c c h i o   w i l l   g i v e   t h e m   n o t h i n g .   T h e y   a r r i v e   a t   a   s m a l l   h o u s e ,   a n d   l i v i n g   t h e r e   i s   t h e   T a l k i n g   C r i c k e t ,   w h o   s a y s   t h e y   c a n   s t a y .   P i n o c c h i o   g e t s   a   j o b   d o i n g   w o r k   f o r   a   f a r m e r ,   w h o s e   d o n k e y   i s   d y i n g .   P i n o c c h i o   r e c o g n i z e s   t h e   d o n k e y   a s   L a m p w i c k .   P i n o c c h i o   m o u r n s   o v e r   L a m p w i c k ' s   d e a d   b o d y   a n d   t h e   f a r m e r   i s   p e r p l e x e d   a s   t o   w h y .   P i n o c c h i o   s a y s   t h a t   L a m p w i c k   w a s   h i s   f r i e n d   a n d   t h e y   w e n t   t o   s c h o o l   t o g e t h e r ,   c a u s i n g   F a r m e r   J o h n   t o   b e   e v e n   m o r e   c o n f u s e d .   A f t e r   l o n g   m o n t h s   o f   w o r k i n g   f o r   t h e   f a r m e r   a n d   s u p p o r t i n g   t h e   a i l i n g   G e p p e t t o   h e   g o e s   t o   t o w n   w i t h   w h a t   m o n e y   h e   h a s   s a v e d   ( 4 0   p e n n i e s   t o   b e   e x a c t )   t o   b u y   h i m s e l f   a   n e w   s u i t .   H e   m e e t s   t h e   s n a i l ,   w h o   t e l l s   h i m   t h a t   t h e   B l u e - h a i r e d   F a i r y   i s   i l l   a n d   n e e d s   m o n e y .   P i n o c c h i o   i n s t a n t l y   g i v e s   t h e   s n a i l   a l l   t h e   m o n e y   h e   h a s ,   p r o m i s i n g   t h a t   h e   w i l l   h e l p   h i s   m o t h e r   a s   m u c h   a s   h e   i s   h e l p i n g   h i s   f a t h e r .   T h a t   n i g h t ,   h e   d r e a m s   h e   i s   v i s i t e d   b y   t h e   F a i r y ,   w h o   k i s s e s   h i m .   W h e n   h e   w a k e s   u p ,   h e   i s   a   r e a l   b o y   a t   l a s t .   F u r t h e r m o r e ,   P i n o c c h i o   f i n d s   t h a t   t h e   F a i r y   l e f t   h i m   a   n e w   s u i t   a n d   b o o t s ,   a n d   a   b a g   w h i c h   P i n o c c h i o   t h i n k s   i s   t h e   f o r t y   p e n n i e s   h e   o r i g i n a l l y   l o a n e d   t o   t h e   B l u e   F a i r y .   T h e   b o y   i s   s h o c k e d   t o   f i n d   i n s t e a d   f o r t y   f r e s h l y   m i n t e d   g o l d   c o i n s .   H e   i s   a l s o   r e u n i t e d   w i t h   G e p p e t t o ,   n o w   h e a l t h y   a n d   r e s u m i n g   w o o d c a r v i n g .   T h e y   l i v e   h a p p i l y   e v e r   a f t e r .\n",
      "\n",
      "Embedded chars (after vectorization and embedding):\n",
      " [[[-0.0423623   0.03907022  0.02729366 ... -0.03868736  0.00580435\n",
      "   -0.04684309]\n",
      "  [ 0.00410541 -0.01538889  0.03217373 ...  0.01250723 -0.03254552\n",
      "   -0.01750544]\n",
      "  [-0.00345403 -0.01084522 -0.01751987 ...  0.02791052 -0.0371825\n",
      "   -0.01340103]\n",
      "  ...\n",
      "  [ 0.0014937  -0.03925991 -0.02377157 ... -0.01813115 -0.02027286\n",
      "    0.01766038]\n",
      "  [-0.02964678  0.00997182  0.0478935  ...  0.0216336   0.04583729\n",
      "   -0.01235752]\n",
      "  [ 0.00703406 -0.01186391  0.04305274 ...  0.04474832 -0.01446865\n",
      "    0.03598586]]]\n",
      "\n",
      "Character embedding shape:(1, 6602, 25)\n"
     ]
    }
   ],
   "source": [
    "#Test our character embedding layer\n",
    "print(f\"Charified text:\\n {random_train_chars}\\n\")\n",
    "char_embed_example=char_embed(char_vectorizer([random_train_chars]))\n",
    "print(f\"Embedded chars (after vectorization and embedding):\\n {char_embed_example}\\n\")\n",
    "print(f\"Character embedding shape:{char_embed_example.shape}\")"
   ]
  },
  {
   "cell_type": "code",
   "execution_count": 177,
   "id": "1974b66a",
   "metadata": {},
   "outputs": [],
   "source": [
    "#1. Set-up token inputs/model\n",
    "token_inputs=layers.Input(shape=[],dtype=tf.string , name='token_input')\n",
    "token_embeddings=tf_hub_embedding_layer(token_inputs)\n",
    "token_outputs=layers.Dense(128,activation='relu')(token_embeddings)\n",
    "token_model=tf.keras.Model(inputs=token_inputs,\n",
    "                           outputs=token_outputs)\n",
    "\n",
    "#2. Set-up char inputs/model\n",
    "char_inputs=layers.Input(shape=(1,),dtype=tf.string,name='char_input')\n",
    "char_vectors=char_vectorizer(char_inputs)\n",
    "char_embeddings=char_embed(char_vectors)\n",
    "char_bi_lstm=layers.Bidirectional(layers.LSTM(24))(char_embeddings)\n",
    "char_model=tf.keras.Model(inputs=char_inputs,\n",
    "                          outputs=char_bi_lstm)\n",
    "\n",
    "#3. Concatenate token and char inputs (create hybrid token embedding)\n",
    "token_char_concat=layers.Concatenate(name='token_char_hybrid')([token_model.output,\n",
    "                                                                char_model.output])\n",
    "\n",
    "#4. Create output layers - adding a Dropout layer\n",
    "combined_dropout=layers.Dropout(0.1) (token_char_concat)\n",
    "combined_dense=layers.Dense(128,activation='relu')(combined_dropout)\n",
    "output_layer=layers.Dense(num_classes,activation='softmax')(combined_dense)\n",
    "\n",
    "#5. Construct model with char and token inputs\n",
    "model_7=tf.keras.Model(inputs=[token_model.input,char_model.input],\n",
    "                       outputs=output_layer,\n",
    "                       name='model_7_token_and_char_embeddings')"
   ]
  },
  {
   "cell_type": "code",
   "execution_count": 178,
   "id": "b3494ad9",
   "metadata": {},
   "outputs": [
    {
     "name": "stdout",
     "output_type": "stream",
     "text": [
      "Model: \"model_7_token_and_char_embeddings\"\n",
      "__________________________________________________________________________________________________\n",
      " Layer (type)                   Output Shape         Param #     Connected to                     \n",
      "==================================================================================================\n",
      " char_input (InputLayer)        [(None, 1)]          0           []                               \n",
      "                                                                                                  \n",
      " token_input (InputLayer)       [(None,)]            0           []                               \n",
      "                                                                                                  \n",
      " char_vectorizer (TextVectoriza  (None, 6602)        0           ['char_input[0][0]']             \n",
      " tion)                                                                                            \n",
      "                                                                                                  \n",
      " universal_sentence_encoder (Ke  (None, 512)         256797824   ['token_input[0][0]']            \n",
      " rasLayer)                                                                                        \n",
      "                                                                                                  \n",
      " char_embed (Embedding)         (None, 6602, 25)     1750        ['char_vectorizer[1][0]']        \n",
      "                                                                                                  \n",
      " dense_49 (Dense)               (None, 128)          65664       ['universal_sentence_encoder[2][0\n",
      "                                                                 ]']                              \n",
      "                                                                                                  \n",
      " bidirectional_3 (Bidirectional  (None, 48)          9600        ['char_embed[1][0]']             \n",
      " )                                                                                                \n",
      "                                                                                                  \n",
      " token_char_hybrid (Concatenate  (None, 176)         0           ['dense_49[0][0]',               \n",
      " )                                                                'bidirectional_3[0][0]']        \n",
      "                                                                                                  \n",
      " dropout_2 (Dropout)            (None, 176)          0           ['token_char_hybrid[0][0]']      \n",
      "                                                                                                  \n",
      " dense_50 (Dense)               (None, 128)          22656       ['dropout_2[0][0]']              \n",
      "                                                                                                  \n",
      " dense_51 (Dense)               (None, 10)           1290        ['dense_50[0][0]']               \n",
      "                                                                                                  \n",
      "==================================================================================================\n",
      "Total params: 256,898,784\n",
      "Trainable params: 100,960\n",
      "Non-trainable params: 256,797,824\n",
      "__________________________________________________________________________________________________\n"
     ]
    }
   ],
   "source": [
    "#Get a summary of our model\n",
    "model_7.summary()"
   ]
  },
  {
   "cell_type": "code",
   "execution_count": 179,
   "id": "d5e59cc3",
   "metadata": {},
   "outputs": [
    {
     "data": {
      "image/png": "[encoded data removed]",
      "text/plain": [
       "<IPython.core.display.Image object>"
      ]
     },
     "execution_count": 179,
     "metadata": {},
     "output_type": "execute_result"
    }
   ],
   "source": [
    "#Plot hybrid token and character model\n",
    "from keras.utils import plot_model\n",
    "plot_model(model_7,show_shapes=True)"
   ]
  },
  {
   "cell_type": "code",
   "execution_count": 180,
   "id": "fb958c52",
   "metadata": {},
   "outputs": [],
   "source": [
    "#Compile token char model\n",
    "model_7.compile(loss='categorical_crossentropy',\n",
    "                optimizer=tf.keras.optimizers.Adam(),\n",
    "                metrics=['accuracy'])"
   ]
  },
  {
   "cell_type": "markdown",
   "id": "561d8542",
   "metadata": {},
   "source": [
    "### Combining token and character data into a tf.data.Dataset"
   ]
  },
  {
   "cell_type": "code",
   "execution_count": 169,
   "id": "1feff37d",
   "metadata": {},
   "outputs": [],
   "source": [
    "# Combine chars and tokens into a dataset\n",
    "train_char_token_data=tf.data.Dataset.from_tensor_slices((X_train.values.ravel(),train_chars)) #make data\n",
    "train_char_token_labels=tf.data.Dataset.from_tensor_slices(train_labels_one_hot) #make the labels\n",
    "train_char_token_dataset=tf.data.Dataset.zip((train_char_token_data,train_char_token_labels))\n",
    "\n",
    "#Prefetch and batch train data\n",
    "train_char_token_dataset=train_char_token_dataset.batch(32).prefetch(tf.data.AUTOTUNE)"
   ]
  },
  {
   "cell_type": "code",
   "execution_count": 170,
   "id": "8954e9c2",
   "metadata": {},
   "outputs": [],
   "source": [
    "#Repeat the steps above in the for test data\n",
    "test_char_token_data=tf.data.Dataset.from_tensor_slices((X_test.values.ravel(),test_chars)) #make data\n",
    "test_char_token_labels=tf.data.Dataset.from_tensor_slices(test_labels_one_hot) #make the labels\n",
    "test_char_token_dataset=tf.data.Dataset.zip((test_char_token_data,test_char_token_labels))\n",
    "test_char_token_dataset=test_char_token_dataset.batch(32).prefetch(tf.data.AUTOTUNE)"
   ]
  },
  {
   "cell_type": "code",
   "execution_count": 171,
   "id": "a4d38dac",
   "metadata": {},
   "outputs": [
    {
     "data": {
      "text/plain": [
       "(<PrefetchDataset element_spec=((TensorSpec(shape=(None,), dtype=tf.string, name=None), TensorSpec(shape=(None,), dtype=tf.string, name=None)), TensorSpec(shape=(None, 10), dtype=tf.float64, name=None))>,\n",
       " <PrefetchDataset element_spec=((TensorSpec(shape=(None,), dtype=tf.string, name=None), TensorSpec(shape=(None,), dtype=tf.string, name=None)), TensorSpec(shape=(None, 10), dtype=tf.float64, name=None))>)"
      ]
     },
     "execution_count": 171,
     "metadata": {},
     "output_type": "execute_result"
    }
   ],
   "source": [
    "#Check out our training and token embedding dataset\n",
    "train_char_token_dataset,test_char_token_dataset"
   ]
  },
  {
   "cell_type": "code",
   "execution_count": 181,
   "id": "4d1674dd",
   "metadata": {},
   "outputs": [
    {
     "name": "stdout",
     "output_type": "stream",
     "text": [
      "Epoch 1/3\n",
      "10/10 [==============================] - 175s 15s/step - loss: 2.2441 - accuracy: 0.2062 - val_loss: 2.1395 - val_accuracy: 0.2188\n",
      "Epoch 2/3\n",
      "10/10 [==============================] - 140s 14s/step - loss: 2.0946 - accuracy: 0.2031 - val_loss: 1.9476 - val_accuracy: 0.2188\n",
      "Epoch 3/3\n",
      "10/10 [==============================] - 145s 15s/step - loss: 1.8842 - accuracy: 0.3063 - val_loss: 1.8476 - val_accuracy: 0.2969\n"
     ]
    }
   ],
   "source": [
    "#Fit the model on tokens and chars\n",
    "model_7_history=model_7.fit(train_char_token_dataset,\n",
    "                            steps_per_epoch=int(0.1*len(train_char_token_dataset)),\n",
    "                            epochs=3,\n",
    "                            validation_data=test_char_token_dataset,\n",
    "                            validation_steps=int(0.1*len(test_char_token_dataset)))"
   ]
  },
  {
   "cell_type": "code",
   "execution_count": 182,
   "id": "d2ceccf5",
   "metadata": {},
   "outputs": [
    {
     "name": "stdout",
     "output_type": "stream",
     "text": [
      "44/44 [==============================] - 61s 1s/step - loss: 1.8674 - accuracy: 0.3262\n"
     ]
    },
    {
     "data": {
      "text/plain": [
       "[1.8674395084381104, 0.32618024945259094]"
      ]
     },
     "execution_count": 182,
     "metadata": {},
     "output_type": "execute_result"
    }
   ],
   "source": [
    "#Evaluate on the whole validation dataset\n",
    "model_7.evaluate(test_char_token_dataset)"
   ]
  },
  {
   "cell_type": "code",
   "execution_count": 183,
   "id": "0597f5a8",
   "metadata": {},
   "outputs": [
    {
     "name": "stdout",
     "output_type": "stream",
     "text": [
      "44/44 [==============================] - 65s 1s/step\n"
     ]
    },
    {
     "data": {
      "text/plain": [
       "array([[0.12294263, 0.21330783, 0.0879248 , ..., 0.02020645, 0.28693545,\n",
       "        0.02436505],\n",
       "       [0.1205432 , 0.14535712, 0.11502643, ..., 0.02092022, 0.36370096,\n",
       "        0.02303449],\n",
       "       [0.12715945, 0.21269369, 0.09498918, ..., 0.02409657, 0.25856256,\n",
       "        0.03015859],\n",
       "       ...,\n",
       "       [0.10127497, 0.22785395, 0.10371084, ..., 0.02273169, 0.27884603,\n",
       "        0.02551082],\n",
       "       [0.09710261, 0.24046269, 0.12978053, ..., 0.01513851, 0.2763492 ,\n",
       "        0.01945724],\n",
       "       [0.12584475, 0.14375089, 0.0856255 , ..., 0.01703597, 0.4096807 ,\n",
       "        0.01838267]], dtype=float32)"
      ]
     },
     "execution_count": 183,
     "metadata": {},
     "output_type": "execute_result"
    }
   ],
   "source": [
    "#Make predictions with character model only\n",
    "model_7_pred_probs=model_7.predict(test_char_token_dataset)\n",
    "model_7_pred_probs"
   ]
  },
  {
   "cell_type": "code",
   "execution_count": 185,
   "id": "a46f0c83",
   "metadata": {},
   "outputs": [
    {
     "data": {
      "text/plain": [
       "<tf.Tensor: shape=(1398,), dtype=int64, numpy=array([8, 8, 8, ..., 8, 8, 8], dtype=int64)>"
      ]
     },
     "execution_count": 185,
     "metadata": {},
     "output_type": "execute_result"
    }
   ],
   "source": [
    "#Convert predictions probabilities to class labels\n",
    "model_7_preds=tf.argmax(model_7_pred_probs,axis=1)\n",
    "model_7_preds"
   ]
  },
  {
   "cell_type": "code",
   "execution_count": 186,
   "id": "e432c2ca",
   "metadata": {},
   "outputs": [
    {
     "data": {
      "text/plain": [
       "{'accuracy': 33.0, 'precision': 18.0, 'recall': 33.0, 'f1': 21.0}"
      ]
     },
     "execution_count": 186,
     "metadata": {},
     "output_type": "execute_result"
    }
   ],
   "source": [
    "#Calculate the results of token-char-hybrid model\n",
    "model_7_results=calculate_results(y_true=test_labels_encoded,\n",
    "                                  y_pred=model_7_preds)\n",
    "\n",
    "model_7_results"
   ]
  },
  {
   "cell_type": "markdown",
   "id": "b66e7d36",
   "metadata": {},
   "source": [
    "## Comparing the performance of each of our models"
   ]
  },
  {
   "cell_type": "code",
   "execution_count": 192,
   "id": "5d1aad19",
   "metadata": {},
   "outputs": [
    {
     "data": {
      "text/html": [
       "<div>\n",
       "<style scoped>\n",
       "    .dataframe tbody tr th:only-of-type {\n",
       "        vertical-align: middle;\n",
       "    }\n",
       "\n",
       "    .dataframe tbody tr th {\n",
       "        vertical-align: top;\n",
       "    }\n",
       "\n",
       "    .dataframe thead th {\n",
       "        text-align: right;\n",
       "    }\n",
       "</style>\n",
       "<table border=\"1\" class=\"dataframe\">\n",
       "  <thead>\n",
       "    <tr style=\"text-align: right;\">\n",
       "      <th></th>\n",
       "      <th>accuracy</th>\n",
       "      <th>precision</th>\n",
       "      <th>recall</th>\n",
       "      <th>f1</th>\n",
       "    </tr>\n",
       "  </thead>\n",
       "  <tbody>\n",
       "    <tr>\n",
       "      <th>Model 0: Best Basic ML Model</th>\n",
       "      <td>64.000</td>\n",
       "      <td>65.000</td>\n",
       "      <td>64.000</td>\n",
       "      <td>61.000</td>\n",
       "    </tr>\n",
       "    <tr>\n",
       "      <th>Model 1: Dense model using Sequential API + TF-IDF</th>\n",
       "      <td>69.000</td>\n",
       "      <td>72.000</td>\n",
       "      <td>69.000</td>\n",
       "      <td>69.000</td>\n",
       "    </tr>\n",
       "    <tr>\n",
       "      <th>Model 2: Conv1D with token embeddings</th>\n",
       "      <td>22.000</td>\n",
       "      <td>18.000</td>\n",
       "      <td>22.000</td>\n",
       "      <td>9.000</td>\n",
       "    </tr>\n",
       "    <tr>\n",
       "      <th>Model 3: LSTM</th>\n",
       "      <td>22.000</td>\n",
       "      <td>5.000</td>\n",
       "      <td>22.000</td>\n",
       "      <td>8.000</td>\n",
       "    </tr>\n",
       "    <tr>\n",
       "      <th>Model 4: GRU</th>\n",
       "      <td>22.000</td>\n",
       "      <td>5.000</td>\n",
       "      <td>22.000</td>\n",
       "      <td>8.000</td>\n",
       "    </tr>\n",
       "    <tr>\n",
       "      <th>Model 5: Bidirectional RNN</th>\n",
       "      <td>22.000</td>\n",
       "      <td>9.000</td>\n",
       "      <td>22.000</td>\n",
       "      <td>9.000</td>\n",
       "    </tr>\n",
       "    <tr>\n",
       "      <th>Model 6: Feature Extraction with pretrained token embeddings</th>\n",
       "      <td>64.000</td>\n",
       "      <td>66.000</td>\n",
       "      <td>64.000</td>\n",
       "      <td>62.000</td>\n",
       "    </tr>\n",
       "    <tr>\n",
       "      <th>Model 7: Pretrained token embeddings + characters embeddings</th>\n",
       "      <td>33.000</td>\n",
       "      <td>18.000</td>\n",
       "      <td>33.000</td>\n",
       "      <td>21.000</td>\n",
       "    </tr>\n",
       "  </tbody>\n",
       "</table>\n",
       "</div>"
      ],
      "text/plain": [
       "                                                    accuracy  precision  \\\n",
       "Model 0: Best Basic ML Model                          64.000     65.000   \n",
       "Model 1: Dense model using Sequential API + TF-...    69.000     72.000   \n",
       "Model 2: Conv1D with token embeddings                 22.000     18.000   \n",
       "Model 3: LSTM                                         22.000      5.000   \n",
       "Model 4: GRU                                          22.000      5.000   \n",
       "Model 5: Bidirectional RNN                            22.000      9.000   \n",
       "Model 6: Feature Extraction with pretrained tok...    64.000     66.000   \n",
       "Model 7: Pretrained token embeddings + characte...    33.000     18.000   \n",
       "\n",
       "                                                    recall     f1  \n",
       "Model 0: Best Basic ML Model                        64.000 61.000  \n",
       "Model 1: Dense model using Sequential API + TF-...  69.000 69.000  \n",
       "Model 2: Conv1D with token embeddings               22.000  9.000  \n",
       "Model 3: LSTM                                       22.000  8.000  \n",
       "Model 4: GRU                                        22.000  8.000  \n",
       "Model 5: Bidirectional RNN                          22.000  9.000  \n",
       "Model 6: Feature Extraction with pretrained tok...  64.000 62.000  \n",
       "Model 7: Pretrained token embeddings + characte...  33.000 21.000  "
      ]
     },
     "execution_count": 192,
     "metadata": {},
     "output_type": "execute_result"
    }
   ],
   "source": [
    "#Combining model results into a DataFrame\n",
    "all_model_results=pd.DataFrame({'Model 0: Best Basic ML Model':baseline_results,\n",
    "                                \"Model 1: Dense model using Sequential API + TF-IDF \":model_1_results,\n",
    "                                \"Model 2: Conv1D with token embeddings\":model_2_results,\n",
    "                                \"Model 3: LSTM\":model_3_results,\n",
    "                                \"Model 4: GRU\":model_4_results,\n",
    "                                \"Model 5: Bidirectional RNN\":model_5_results,\n",
    "                                \"Model 6: Feature Extraction with pretrained token embeddings\":model_6_results,\n",
    "                                \"Model 7: Pretrained token embeddings + characters embeddings\":model_7_results})\n",
    " \n",
    "all_model_results=all_model_results.T\n",
    "\n",
    "all_model_results"
   ]
  },
  {
   "cell_type": "code",
   "execution_count": 195,
   "id": "2fba3e33",
   "metadata": {},
   "outputs": [
    {
     "data": {
      "image/png": "[encoded data removed]",
      "text/plain": [
       "<Figure size 700x300 with 1 Axes>"
      ]
     },
     "metadata": {},
     "output_type": "display_data"
    }
   ],
   "source": [
    "#Plot and compare all of the model results\n",
    "all_model_results.plot(kind='bar',figsize=(7,3)).legend(bbox_to_anchor=(1,1));"
   ]
  },
  {
   "cell_type": "code",
   "execution_count": 197,
   "id": "3c4dda6e",
   "metadata": {},
   "outputs": [
    {
     "data": {
      "image/png": "[encoded data removed]",
      "text/plain": [
       "<Figure size 700x300 with 1 Axes>"
      ]
     },
     "metadata": {},
     "output_type": "display_data"
    }
   ],
   "source": [
    "#Sort model results by f1-score\n",
    "all_model_results.sort_values(\"f1\",ascending=False)[\"f1\"].plot(kind='bar',figsize=(7,3));"
   ]
  },
  {
   "cell_type": "markdown",
   "id": "05b7eaa6",
   "metadata": {},
   "source": [
    "## Finding the most wrong examples"
   ]
  },
  {
   "cell_type": "code",
   "execution_count": 207,
   "id": "a47354ef",
   "metadata": {},
   "outputs": [
    {
     "name": "stdout",
     "output_type": "stream",
     "text": [
      "44/44 [==============================] - 3s 34ms/step\n"
     ]
    },
    {
     "data": {
      "text/plain": [
       "array([3, 0, 3, 8, 3, 1, 1, 8, 8, 8], dtype=int64)"
      ]
     },
     "execution_count": 207,
     "metadata": {},
     "output_type": "execute_result"
    }
   ],
   "source": [
    "#Making predictions with the best model (Model_1)\n",
    "model_1_pred_probs=model_1.predict(X_test_model_1)\n",
    "model_1_preds=np.argmax(model_1_pred_probs,axis=1)\n",
    "model_1_preds[:10]"
   ]
  },
  {
   "cell_type": "code",
   "execution_count": 210,
   "id": "d84c39a6",
   "metadata": {},
   "outputs": [
    {
     "data": {
      "text/html": [
       "<div>\n",
       "<style scoped>\n",
       "    .dataframe tbody tr th:only-of-type {\n",
       "        vertical-align: middle;\n",
       "    }\n",
       "\n",
       "    .dataframe tbody tr th {\n",
       "        vertical-align: top;\n",
       "    }\n",
       "\n",
       "    .dataframe thead th {\n",
       "        text-align: right;\n",
       "    }\n",
       "</style>\n",
       "<table border=\"1\" class=\"dataframe\">\n",
       "  <thead>\n",
       "    <tr style=\"text-align: right;\">\n",
       "      <th></th>\n",
       "      <th>text</th>\n",
       "      <th>target</th>\n",
       "      <th>pred</th>\n",
       "      <th>pred_prob</th>\n",
       "    </tr>\n",
       "  </thead>\n",
       "  <tbody>\n",
       "    <tr>\n",
       "      <th>0</th>\n",
       "      <td>Taking place in a city of the future, a group...</td>\n",
       "      <td>6</td>\n",
       "      <td>3</td>\n",
       "      <td>0.999</td>\n",
       "    </tr>\n",
       "    <tr>\n",
       "      <th>1</th>\n",
       "      <td>This fictional story is set during The Great ...</td>\n",
       "      <td>8</td>\n",
       "      <td>0</td>\n",
       "      <td>0.999</td>\n",
       "    </tr>\n",
       "    <tr>\n",
       "      <th>2</th>\n",
       "      <td>Cassandra Khaw's Nothing But Blackened Teeth i...</td>\n",
       "      <td>3</td>\n",
       "      <td>3</td>\n",
       "      <td>0.999</td>\n",
       "    </tr>\n",
       "    <tr>\n",
       "      <th>3</th>\n",
       "      <td>The President is dead—and the weight, literall...</td>\n",
       "      <td>8</td>\n",
       "      <td>8</td>\n",
       "      <td>0.999</td>\n",
       "    </tr>\n",
       "    <tr>\n",
       "      <th>4</th>\n",
       "      <td>On a May afternoon in 1943, an Army Air Forces...</td>\n",
       "      <td>2</td>\n",
       "      <td>3</td>\n",
       "      <td>0.999</td>\n",
       "    </tr>\n",
       "  </tbody>\n",
       "</table>\n",
       "</div>"
      ],
      "text/plain": [
       "                                                text  target  pred  pred_prob\n",
       "0   Taking place in a city of the future, a group...       6     3      0.999\n",
       "1   This fictional story is set during The Great ...       8     0      0.999\n",
       "2  Cassandra Khaw's Nothing But Blackened Teeth i...       3     3      0.999\n",
       "3  The President is dead—and the weight, literall...       8     8      0.999\n",
       "4  On a May afternoon in 1943, an Army Air Forces...       2     3      0.999"
      ]
     },
     "execution_count": 210,
     "metadata": {},
     "output_type": "execute_result"
    }
   ],
   "source": [
    "#Create a DataFrame with test sentences, validation labels and best performing model prediction labels + probabilities\n",
    "test_df=pd.DataFrame({\"text\":X_test.values.ravel(),\n",
    "                     \"target\":test_labels_encoded,\n",
    "                     \"pred\":model_1_preds,\n",
    "                     \"pred_prob\":np.max(model_1_pred_probs)\n",
    "\n",
    "\n",
    "})\n",
    "\n",
    "test_df.head()\n"
   ]
  },
  {
   "cell_type": "code",
   "execution_count": 212,
   "id": "ab06b5ca",
   "metadata": {},
   "outputs": [
    {
     "data": {
      "text/html": [
       "<div>\n",
       "<style scoped>\n",
       "    .dataframe tbody tr th:only-of-type {\n",
       "        vertical-align: middle;\n",
       "    }\n",
       "\n",
       "    .dataframe tbody tr th {\n",
       "        vertical-align: top;\n",
       "    }\n",
       "\n",
       "    .dataframe thead th {\n",
       "        text-align: right;\n",
       "    }\n",
       "</style>\n",
       "<table border=\"1\" class=\"dataframe\">\n",
       "  <thead>\n",
       "    <tr style=\"text-align: right;\">\n",
       "      <th></th>\n",
       "      <th>text</th>\n",
       "      <th>target</th>\n",
       "      <th>pred</th>\n",
       "      <th>pred_prob</th>\n",
       "    </tr>\n",
       "  </thead>\n",
       "  <tbody>\n",
       "    <tr>\n",
       "      <th>0</th>\n",
       "      <td>Taking place in a city of the future, a group...</td>\n",
       "      <td>6</td>\n",
       "      <td>3</td>\n",
       "      <td>0.999</td>\n",
       "    </tr>\n",
       "    <tr>\n",
       "      <th>978</th>\n",
       "      <td>It's been eighteen months since the Raxter Sch...</td>\n",
       "      <td>3</td>\n",
       "      <td>1</td>\n",
       "      <td>0.999</td>\n",
       "    </tr>\n",
       "    <tr>\n",
       "      <th>1005</th>\n",
       "      <td>An aging death-metal rock god, Judas Coyne, is...</td>\n",
       "      <td>8</td>\n",
       "      <td>3</td>\n",
       "      <td>0.999</td>\n",
       "    </tr>\n",
       "    <tr>\n",
       "      <th>1004</th>\n",
       "      <td>The story begins with a slave driver attempti...</td>\n",
       "      <td>1</td>\n",
       "      <td>8</td>\n",
       "      <td>0.999</td>\n",
       "    </tr>\n",
       "    <tr>\n",
       "      <th>1000</th>\n",
       "      <td>The year is 1945. Claire Randall, a former com...</td>\n",
       "      <td>5</td>\n",
       "      <td>2</td>\n",
       "      <td>0.999</td>\n",
       "    </tr>\n",
       "    <tr>\n",
       "      <th>997</th>\n",
       "      <td>Vagabonding is about taking time off from your...</td>\n",
       "      <td>9</td>\n",
       "      <td>1</td>\n",
       "      <td>0.999</td>\n",
       "    </tr>\n",
       "    <tr>\n",
       "      <th>993</th>\n",
       "      <td>There is an alternate cover edition for ISBN13...</td>\n",
       "      <td>5</td>\n",
       "      <td>1</td>\n",
       "      <td>0.999</td>\n",
       "    </tr>\n",
       "    <tr>\n",
       "      <th>992</th>\n",
       "      <td>\"I believe there is another man inside every m...</td>\n",
       "      <td>3</td>\n",
       "      <td>8</td>\n",
       "      <td>0.999</td>\n",
       "    </tr>\n",
       "    <tr>\n",
       "      <th>989</th>\n",
       "      <td>The Fear begins 5 days before Small Sam and T...</td>\n",
       "      <td>8</td>\n",
       "      <td>3</td>\n",
       "      <td>0.999</td>\n",
       "    </tr>\n",
       "    <tr>\n",
       "      <th>987</th>\n",
       "      <td>After living in Britain for two decades, Bill ...</td>\n",
       "      <td>9</td>\n",
       "      <td>2</td>\n",
       "      <td>0.999</td>\n",
       "    </tr>\n",
       "  </tbody>\n",
       "</table>\n",
       "</div>"
      ],
      "text/plain": [
       "                                                   text  target  pred  \\\n",
       "0      Taking place in a city of the future, a group...       6     3   \n",
       "978   It's been eighteen months since the Raxter Sch...       3     1   \n",
       "1005  An aging death-metal rock god, Judas Coyne, is...       8     3   \n",
       "1004   The story begins with a slave driver attempti...       1     8   \n",
       "1000  The year is 1945. Claire Randall, a former com...       5     2   \n",
       "997   Vagabonding is about taking time off from your...       9     1   \n",
       "993   There is an alternate cover edition for ISBN13...       5     1   \n",
       "992   \"I believe there is another man inside every m...       3     8   \n",
       "989    The Fear begins 5 days before Small Sam and T...       8     3   \n",
       "987   After living in Britain for two decades, Bill ...       9     2   \n",
       "\n",
       "      pred_prob  \n",
       "0         0.999  \n",
       "978       0.999  \n",
       "1005      0.999  \n",
       "1004      0.999  \n",
       "1000      0.999  \n",
       "997       0.999  \n",
       "993       0.999  \n",
       "992       0.999  \n",
       "989       0.999  \n",
       "987       0.999  "
      ]
     },
     "execution_count": 212,
     "metadata": {},
     "output_type": "execute_result"
    }
   ],
   "source": [
    "#Find the wrong predictions and sort by prediction probabilities\n",
    "most_wrong=test_df[test_df[\"target\"]!=test_df[\"pred\"]].sort_values(\"pred_prob\",ascending=False)\n",
    "most_wrong[:10]"
   ]
  },
  {
   "cell_type": "code",
   "execution_count": 214,
   "id": "91bbe1ae",
   "metadata": {},
   "outputs": [
    {
     "name": "stdout",
     "output_type": "stream",
     "text": [
      "Target:6, Pred:3, Prob:0.9992467761039734\n",
      "Text:\n",
      " Taking place in a city of the future, a group of bored wealthy women begin dabbling in ancient satanic rituals, unaware that their rites are actually working. The beast of pure evil, Golem100, is raised each time the group practices their ritual, embarking on a rampage of rape, torture and murder. The demon is tracked through the physical and spirit worlds by Gretchen Nunn, a master of psychodynamics, Blaise Shima, a brilliant and famous chemist, and a clever local police officer, Subadar Ind'dni.\n",
      "\n",
      "----\n",
      "\n",
      "Target:3, Pred:1, Prob:0.9992467761039734\n",
      "Text:\n",
      "It's been eighteen months since the Raxter School for Girls was put under quarantine. Since the Tox hit and pulled Hetty's life out from under her.\n",
      "\n",
      "It started slow. First the teachers died one by one. Then it began to infect the students, turning their bodies strange and foreign. Now, cut off from the rest of the world and left to fend for themselves on their island home, the girls don't dare wander outside the school's fence, where the Tox has made the woods wild and dangerous. They wait for the cure they were promised as the Tox seeps into everything.\n",
      "\n",
      "But when Byatt goes missing, Hetty will do anything to find her, even if it means breaking quarantine and braving the horrors that lie beyond the fence. And when she does, Hetty learns that there's more to their story, to their life at Raxter, than she could have ever thought true. (less)\n",
      "\n",
      "----\n",
      "\n",
      "Target:8, Pred:3, Prob:0.9992467761039734\n",
      "Text:\n",
      "An aging death-metal rock god, Judas Coyne, is a collector of the macabre: a cookbook for cannibals... a used hangman's noose... a snuff film. But nothing he possesses is as unlikely or as dreadful as an item he learns is for sale on the Internet. For a thousand dollars, Jude will become the proud owner of a dead man's suit, said to be haunted by the deceased's restless spirit. Judas has spent a lifetime coping with ghosts - of an abusive father, of the lovers he callously abandoned, of the bandmates he betrayed - so what's one more?\n",
      "\n",
      "But what UPS delivers to his door in a black heart-shaped box is no imaginary or metaphorical ghost, it's the real thing. And suddenly the suit's previous owner is everywhere - behind the bedroom door... seated in Jude's restored vintage Mustang... staring out from his widescreen TV - dangling a gleaming razor blade on a chain from one hand... (less)\n",
      "\n",
      "----\n",
      "\n",
      "Target:1, Pred:8, Prob:0.9992467761039734\n",
      "Text:\n",
      " The story begins with a slave driver attempting to sell his latest finds, including a foreign captive known only as Lazar. Hot tempered and confident, Lazar invokes his right to a fight to the death that, if he wins, will grant him his freedom. Zar Joreb, Percheron's leader decides to attend the fight and is so impressed by the demonstrated fighting skills that he offers Lazar the elite position of Spur.\n",
      "\n",
      "----\n",
      "\n",
      "Target:5, Pred:2, Prob:0.9992467761039734\n",
      "Text:\n",
      "The year is 1945. Claire Randall, a former combat nurse, is just back from the war and reunited with her husband on a second honeymoon when she walks through a standing stone in one of the ancient circles that dot the British Isles. Suddenly she is a Sassenach—an “outlander”—in a Scotland torn by war and raiding border clans in the year of Our Lord...1743.\n",
      "\n",
      "Hurled back in time by forces she cannot understand, Claire is catapulted into the intrigues of lairds and spies that may threaten her life, and shatter her heart. For here James Fraser, a gallant young Scots warrior, shows her a love so absolute that Claire becomes a woman torn between fidelity and desire—and between two vastly different men in two irreconcilable lives. (less)\n",
      "\n",
      "----\n",
      "\n",
      "Target:9, Pred:1, Prob:0.9992467761039734\n",
      "Text:\n",
      "Vagabonding is about taking time off from your normal life--from six weeks to four months to two years--to discover and experience the world on your own terms. Veteran shoestring traveler Rolf Potts shows how anyone with an independent spirit can achieve the dream of extended overseas travel.\n",
      "\n",
      "Visit the vagabonding community's hub at www dot vagabonding dot net.\n",
      "\n",
      "----\n",
      "\n",
      "Target:5, Pred:1, Prob:0.9992467761039734\n",
      "Text:\n",
      "There is an alternate cover edition for ISBN13 9780316160193 here.\n",
      "\n",
      "I knew we were both in mortal danger. Still, in that instant, I felt well. Whole. I could feel my heart racing in my chest, the blood pulsing hot and fast through my veins again. My lungs filled deep with the sweet scent that came off his skin. It was like there had never been any hole in my chest. I was perfect - not healed, but as if there had never been a wound in the first place.\n",
      "\n",
      "I FELT LIKE I WAS TRAPPED IN ONE OF THOSE TERRIFYING NIGHTMARES, the one where you have to run, run till your lungs burst, but you can't make your body move fast enough.... But this was no dream, and, unlike the nightmare, I wasn't running for my life; I was racing to save something infinitely more precious. My own life meant little to me today.\n",
      "\n",
      "FOR BELLA SWAN THERE IS ONE THING more important than life itself: Edward Cullen. But being in love with a vampire is even more dangerous than Bella could ever have imagined. Edward has already rescued Bella from the clutches of one evil vampire, but now, as their daring relationship threatens all that is near and dear to them, they realize their troubles may be just beginning....\n",
      "\n",
      "LEGIONS OF READERS ENTRANCED BY THE New York Times bestseller Twilight are hungry for the continuing story of star-crossed lovers Bell and Edward. In New Moon, Stephanie Meyer delivers another irresistible combination of romance and suspense with a supernatural spin. passionate, riveting, and full of surprising twists and turns, this vampire love saga is well on its way to literary immortality. (less)\n",
      "\n",
      "----\n",
      "\n",
      "Target:3, Pred:8, Prob:0.9992467761039734\n",
      "Text:\n",
      "\"I believe there is another man inside every man, a stranger...\" writes Wilfred Leland James in the early pages of the riveting confession that makes up \"1922.\" the first in this pitch-black quartet of mesmerizing tales from Stephen King. For James, that stranger is awakened when his wife, Arlette, proposes selling off the family homestead and moving to Omaha, setting in motion a gruesome train of murder and madness.\n",
      "\n",
      "In \"Big Driver,\" a cozy-mystery writer named Tess encounters the stranger along a back road in Massachusetts when she takes a shortcut home after a book-club engagement. Violated and left for dead, Tess plots a revenge that will bring her face-to-face with another stranger: the one inside herself.\n",
      "\n",
      "\"Fair Extension,\" the shortest of these tales, is perhaps the nastiest and certainly the funniest. Making a deal with the devil not only saves Dave Streeter from a fatal cancer but provides rich recompense for a lifetime of resentment.\n",
      "\n",
      "When her husband of more than twenty years is away on one of his business trips, Darcy Anderson looks for batteries in the garage. Her toe knocks up against a box under a worktable and she discovers the stranger inside her husband. It's a horrifying discovery, rendered with bristling intensity, and it definitely ends a good marriage.\n",
      "\n",
      "Like Different Seasons and Four Past Midnight, which generated such enduring films as The Shawshank Redemption and Stand By Me, Full Dark, No Stars proves Stephen King a master of the long story form.\n",
      "(front flap)\n",
      "\n",
      "Contains:\n",
      "1922\n",
      "Big Driver\n",
      "A Fair Extension\n",
      "A Good Marriage (less)\n",
      "\n",
      "----\n",
      "\n",
      "Target:8, Pred:3, Prob:0.9992467761039734\n",
      "Text:\n",
      " The Fear begins 5 days before Small Sam and The Kid, having escaped from the London Underground,arrive at the tower at the end of The Dead. A prologue introduces a new being named 'The Collector' who \"collects\" \"toys\". Throughout the chapter he refers to the captured children as his \"toys\" and laments their \"breaking\". He captures 2 children after a brief struggle, and adds them to his collection. However, The Collector mainly collects newspapers and other paraphernalia which results in his house turning into a land fill. The Collector lives in a 5-story house which is piled high with rubbish, but he mainly lives in his basement. The basement is basically a maze of his own excrement as well as bloodied flesh and more junk. The focus then shifts to the settlement in the {Tower of London}, where a scouting trip is in the process of being organised. The scouts are Dognut, Courtney, Olivia - who is going to find her brother Paul, Jessica - who just went as she broke up with her boyfriend, Finn - who is looking for friends, Al - who is looking for his sister Maria, Marco and Felix who were with DogNut at the Imperial War Museum. After a quick row upriver, they end up at the Houses of Parliament where they find a girl named Nicola and her group, who operate under similar conditions to the pre-apocalyptic government, with elections and various titles. She tells them none of their friends are here but lets them know about David King at Buckingham Palace. During the journey, the group is attacked by the 'gym bunnies', a group sickos who due to their good physical condition are harder to kill, corner DogNut's crew. About to go in for the kill, they are interrupted by a brutal group of mercenaries, known as \"hunters\", led by Ryan Aherne. They guide DogNut's crew to the Palace where Al is reunited with his sister. Later, the group realises that David isn't all that he seems; through Dognut's quiet inquiries, they discover that David is extremely paranoid and wishes to imprison their group. They head to the museum at night, without Al, who stays with his sister, and Jessica, who is too scared to continue. As it is night, the sickos are out in larger numbers and the gang gets chased to a house where they think kids are living in. Instead it turns out to be the Collector's lair. The group encounters the large monster and make a run for it. Without realising, Olivia gets left behind and gets killed by the Collector. They group later arrives at the Natural History Museum where they meet Brooke, Robbie (their Head of Security), Justin (the leader) and Paul (Olivia's brother). Paul asks for Olivia but is told by Courtney that she was killed by the Collector. Meanwhile, a boy ,referred to only as Shadowman, spies on the ramshackle settlement in St James's park, noting it's feudalistic nature and the possibility that John, the leader of the group, may be insane. Back at the museum, Paul, Olivia's brother, is hysterical after being told of Olivia's death - he is determined to kill the being known as the Collector. DogNut's group, Robbie, Jackson (a friend of Robbie), Ryan's hunters and a couple of others from the museum join with Paul to kill the Collector. The large group coax the Collector out of his lair onto the road, where they savagely kill him. Upon returning, Justin gives DogNut a tour of the place. He shows DogNut the experiments that they've been carrying out to investigate the disease and to find a cure - this included taking samples from 3 sickos that they've locked up in the Tesco lorry. He explains to DogNut of the large number of sickos residing in the basement of the museum where they obtain their test subjects from. They have found out so far that UV light (sunlight) rapidly increases the speed of the disease causing a sicko to die if exposed to too much sunlight. However, they also found that sickos could also build up resistance to the sunlight by exposing them to a fixed amount of sunlight each day until they were fully able to roam about in the day time. Afterwards, Paul has lost his mind and starts to threaten and blame everyone for Olivia's death. Brooke calms him down. DogNut decides to head back to the Tower first thing next morning but is persuaded by Justin to stay longer to write his and his group's story into a book in which Chris is writing in the library. At the Palace, David and Nicola meet secretly. David proposes that the 2 groups form an alliance - a step into helping with his plan of taking over London. Nicola is reluctant, but ends up creating a deal that involves removing the 'squatters' at St James Park as they pose a threat to her group at the House of Parliament. Until then, she won't officially agree to the alliance. David accepts and immediately asks for Jester to go and recruit children who can fight. Shadowman visits Jester in Buckingham Palace who convinces him to join on an expedition to recruit more children to join them at the Palace. The small group of Jester, Shadowman, Tom, Kate and Alfie begin walking up North until they encountered a group of sickos. They run away and end up at Kings Cross Station. The group fights off some sickos before Shadowman is hit accidentally by Jester, leaving him with a slight concussion. Jester, Alfie, Tom and Kate abandon Shadowman and are then split with Jester and Alfie together and Tom and Kate being together. Shadowman passes out when a group of sickos are upon him. Jester and Alfie find refuge in a building until a group of sickos finds them. In creating a plan of escape, Jester tricks Alfie and abandons him, escaping by himself. Alfie is killed by the sickos. Jester runs and discovers the Morrison's supermarket but is denied entry. He then finds the Waitrose supermarket where he is rescued by Arran's group (described in The Enemy). Shadowman wakes up and finds himself at the Emirates Stadium. He learns that the sicko, St. George, is much smarter than the rest of the sickos as he is creating an army in the stadium. Shadowman escapes the army of sickos when a fire lights up in the stands (most likely Small Sam escaping as told in The Enemy). He takes refuge in a nearby apartment building where he discovers boxes of weapons and food. He sees this as a sign to follow St. George's army, to learn about them before returning to London city. While watching their movement, he sees Tom, Kate and Callum (a boy from The Enemy) get killed by the army. Dozing off to sleep, he is suddenly woken up by sickos that found his hiding spot - including one of St. George's right-hand men (One-Armed Bandit). Shadowman manages to kill them all and plans to kill every single of St. George's right-hand men, including St. George himself and Jester for betraying him. All the while, DogNut, Courtney, Marco and Felix who are at the museum, are preparing to head back to the Tower. Finn decides to stay while Brooke joins the group. Robbie and Jackson join the group but are only escorting them part of the way. They set off to the Tower until they are ambushed by the 'gym bunnies'. Everyone is killed except for Jackson and Robbie who manage to escape the battle and Brooke who is saved by the Holloway crew (as described in The Enemy). She is taken to Buckingham Palace with the Holloway crew and is revealed that she is the quiet and heavily bandaged girl in the sick bay. Like in 'The Enemy', she tells Maxie and Blue about the museum and that David is a liar. Meanwhile, Paul, who is still crazed, secretly leaves the museum for Buckingham Palace. He meets with David and Jester who take advantage of his mental state, and tell him a fake story that everyone was plotting against him. This causes Paul to take revenge on everyone. David convinces him to return to the museum and release all the sickos who are in the basement. Paul agrees and returns to the museum. He kills a boy named Jamie who was on duty at the lower levels of the museum. Just before his death, Paul reveals to Jamie that he was bitten by one of the sickos in the lorry.\n",
      "\n",
      "----\n",
      "\n",
      "Target:9, Pred:2, Prob:0.9992467761039734\n",
      "Text:\n",
      "After living in Britain for two decades, Bill Bryson recently moved back to the United States with his English wife and four children (he had read somewhere that nearly 3 million Americans believed they had been abducted by aliens--as he later put it, \"it was clear my people needed me\"). They were greeted by a new and improved America that boasts microwave pancakes, twenty-four-hour dental-floss hotlines, and the staunch conviction that ice is not a luxury item.\n",
      "\n",
      "Delivering the brilliant comic musings that are a Bryson hallmark, I'm a Stranger Here Myself recounts his sometimes disconcerting reunion with the land of his birth. The result is a book filled with hysterical scenes of one man's attempt to reacquaint himself with his own country, but it is also an extended if at times bemused love letter to the homeland he has returned to after twenty years away.\n",
      "\n",
      "----\n",
      "\n"
     ]
    }
   ],
   "source": [
    "for row in most_wrong[:10].itertuples():\n",
    "  _,text,target,pred,pred_prob=row\n",
    "  print(f\"Target:{target}, Pred:{pred}, Prob:{pred_prob}\")\n",
    "  print(f\"Text:\\n{text}\\n\")\n",
    "  print(\"----\\n\")"
   ]
  }
 ],
 "metadata": {
  "kernelspec": {
   "display_name": "Python 3 (ipykernel)",
   "language": "python",
   "name": "python3"
  },
  "language_info": {
   "codemirror_mode": {
    "name": "ipython",
    "version": 3
   },
   "file_extension": ".py",
   "mimetype": "text/x-python",
   "name": "python",
   "nbconvert_exporter": "python",
   "pygments_lexer": "ipython3",
   "version": "3.9.13"
  }
 },
 "nbformat": 4,
 "nbformat_minor": 5
}
